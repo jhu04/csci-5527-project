{
 "cells": [
  {
   "cell_type": "markdown",
   "id": "5257bb27",
   "metadata": {},
   "source": [
    "# Orthogonal RNN\n",
    "\n",
    "Train Orthogonal RNN for MNIST classification based on [this Paper](https://arxiv.org/pdf/1901.08428.pdf)\n",
    "\n",
    "NOTE: this example is still under development. "
   ]
  },
  {
   "cell_type": "markdown",
   "id": "c859c154",
   "metadata": {},
   "source": [
    "## Problem Description"
   ]
  },
  {
   "cell_type": "markdown",
   "id": "b96269c7",
   "metadata": {},
   "source": [
    "For each element in the input sequence, each layer computes the following function:\n",
    "$$h_t=\\tanh(W_{ih}x_t+b_{ih}+W_{hh}h_{t-1}+b_hh)$$\n",
    "\n",
    "where $h_{t}$ is the hidden state at time $t$, and $h_{t-1}$ is the hidden state of the previous layer at time $t-1$ or the initial hidden state at time $o$. \n",
    "\n",
    "For each layer, we have the orthogonal constraint:\n",
    "$$ W_{hh}^T W_{hh} = I $$"
   ]
  },
  {
   "cell_type": "markdown",
   "id": "08dfdd50",
   "metadata": {},
   "source": [
    "## Modules Importing\n",
    "Import all necessary modules and add PyGRANSO src folder to system path. "
   ]
  },
  {
   "cell_type": "code",
   "id": "90ed32f9",
   "metadata": {
    "ExecuteTime": {
     "end_time": "2025-04-21T03:19:30.794435Z",
     "start_time": "2025-04-21T03:19:30.781034Z"
    }
   },
   "source": [
    "import time\n",
    "import torch\n",
    "import sys\n",
    "## Adding PyGRANSO directories. Should be modified by user\n",
    "sys.path.append('.')\n",
    "from pygranso.pygranso import pygranso\n",
    "from pygranso.pygransoStruct import pygransoStruct \n",
    "from pygranso.private.getNvar import getNvarTorch\n",
    "import torch.nn as nn\n",
    "from torchvision import datasets\n",
    "from torchvision.transforms import ToTensor\n",
    "from pygranso.private.getObjGrad import getObjGradDL"
   ],
   "outputs": [],
   "execution_count": 14
  },
  {
   "metadata": {
    "ExecuteTime": {
     "end_time": "2025-04-21T03:19:30.902662Z",
     "start_time": "2025-04-21T03:19:30.899275Z"
    }
   },
   "cell_type": "code",
   "source": [
    "import torch\n",
    "\n",
    "# fix the random seed\n",
    "torch.manual_seed(55272025)\n",
    "\n",
    "w = 8"
   ],
   "id": "f689ea212cbe52ff",
   "outputs": [],
   "execution_count": 15
  },
  {
   "cell_type": "markdown",
   "id": "17a1b7fe",
   "metadata": {},
   "source": [
    "## Data Initialization \n",
    "Specify torch device, neural network architecture, and generate data.\n",
    "\n",
    "NOTE: please specify path for downloading data.\n",
    "\n",
    "Use GPU for this problem. If no cuda device available, please set *device = torch.device('cpu')*"
   ]
  },
  {
   "cell_type": "code",
   "id": "8b4842e1",
   "metadata": {
    "ExecuteTime": {
     "end_time": "2025-04-21T03:19:34.129719Z",
     "start_time": "2025-04-21T03:19:30.903622Z"
    }
   },
   "source": [
    "device = torch.device('cpu')\n",
    "\n",
    "sequence_length = 28\n",
    "input_size = 28\n",
    "hidden_size = 30\n",
    "num_layers = 1\n",
    "num_classes = 10\n",
    "batch_size = 1024\n",
    "\n",
    "\n",
    "double_precision = torch.double\n",
    "\n",
    "class RNN(nn.Module):\n",
    "    \n",
    "    def __init__(self, input_size, hidden_size, num_layers, num_classes):\n",
    "        super(RNN, self).__init__()\n",
    "        self.hidden_size = hidden_size\n",
    "        self.num_layers = num_layers\n",
    "        # self.lstm = nn.LSTM(input_size, hidden_size, num_layers, batch_first=True)\n",
    "        self.rnn = nn.RNN(input_size, hidden_size, num_layers, batch_first=True)\n",
    "        self.fc = nn.Linear(hidden_size, num_classes)\n",
    "        pass\n",
    "    \n",
    "    def forward(self, x):\n",
    "        x = torch.reshape(x,(batch_size,sequence_length,input_size))\n",
    "        # Set initial hidden and cell states \n",
    "        h0 = torch.zeros(self.num_layers, x.size(0), self.hidden_size).to(device=device, dtype=double_precision)\n",
    "        out, hidden = self.rnn(x, h0)  # out: tensor of shape (batch_size, seq_length, hidden_size)\n",
    "        #Reshaping the outputs such that it can be fit into the fully connected layer\n",
    "        out = self.fc(out[:, -1, :])\n",
    "        return out\n",
    "    \n",
    "torch.manual_seed(0)\n",
    "\n",
    "model = RNN(input_size, hidden_size, num_layers, num_classes).to(device=device, dtype=double_precision)\n",
    "model.train()\n",
    "\n",
    "train_data = datasets.MNIST(\n",
    "    root = './examples/data/mnist',\n",
    "    train = True,                         \n",
    "    transform = ToTensor(), \n",
    "    download = True,            \n",
    ") \n",
    "test_data = datasets.MNIST(\n",
    "    root = './examples/data/mnist',\n",
    "    train = False,                         \n",
    "    transform = ToTensor(), \n",
    "    download = True,            \n",
    ") \n",
    "\n",
    "loaders = {\n",
    "    'train' : torch.utils.data.DataLoader(train_data, \n",
    "                                        batch_size=batch_size, \n",
    "                                        shuffle=True, \n",
    "                                        num_workers=1),\n",
    "    'test' : torch.utils.data.DataLoader(test_data, \n",
    "                                        batch_size=batch_size, \n",
    "                                        shuffle=True, \n",
    "                                        num_workers=1),\n",
    "}\n",
    "\n",
    "inputs, labels = next(iter(loaders['train']))\n",
    "inputs, labels = inputs.reshape(-1, sequence_length, input_size).to(device=device, dtype=double_precision), labels.to(device=device)\n",
    "\n",
    "test_inputs, test_labels = next(iter(loaders['test']))\n",
    "test_inputs, test_labels = test_inputs.reshape(-1, sequence_length, input_size).to(device=device, dtype=double_precision), test_labels.to(device=device)"
   ],
   "outputs": [],
   "execution_count": 16
  },
  {
   "cell_type": "markdown",
   "id": "ec80716b",
   "metadata": {},
   "source": [
    "## Function Set-Up\n",
    "\n",
    "Encode the optimization variables, and objective and constraint functions.\n",
    "\n",
    "Note: please strictly follow the format of comb_fn, which will be used in the PyGRANSO main algortihm."
   ]
  },
  {
   "cell_type": "code",
   "id": "fb360e75",
   "metadata": {
    "ExecuteTime": {
     "end_time": "2025-04-21T03:19:34.134106Z",
     "start_time": "2025-04-21T03:19:34.131422Z"
    }
   },
   "source": [
    "def user_fn(model,inputs,labels):\n",
    "    # objective function    \n",
    "    logits = model(inputs)\n",
    "    criterion = nn.CrossEntropyLoss()\n",
    "    f = criterion(logits, labels)\n",
    "\n",
    "    A = list(model.parameters())[1]\n",
    "\n",
    "    # inequality constraint\n",
    "    ci = None\n",
    "\n",
    "    # equality constraint \n",
    "    # special orthogonal group\n",
    "    \n",
    "    ce = pygransoStruct()\n",
    "\n",
    "    c1_vec = (A.T @ A \n",
    "              - torch.eye(hidden_size)\n",
    "              .to(device=device, dtype=double_precision)\n",
    "             ).reshape(1,-1)\n",
    "    \n",
    "    ce.c1 = torch.linalg.vector_norm(c1_vec,2) # l2 folding to reduce the total number of constraints\n",
    "    # ce.c2 = torch.det(A) - 1\n",
    "\n",
    "    # ce = None\n",
    "\n",
    "    return [f,ci,ce]\n",
    "\n",
    "comb_fn = lambda model : user_fn(model,inputs,labels)"
   ],
   "outputs": [],
   "execution_count": 17
  },
  {
   "cell_type": "markdown",
   "id": "f0f55ace",
   "metadata": {},
   "source": [
    "## User Options\n",
    "Specify user-defined options for PyGRANSO "
   ]
  },
  {
   "cell_type": "code",
   "id": "f3a65b57",
   "metadata": {
    "ExecuteTime": {
     "end_time": "2025-04-21T03:19:34.137532Z",
     "start_time": "2025-04-21T03:19:34.134607Z"
    }
   },
   "source": [
    "opts = pygransoStruct()\n",
    "opts.torch_device = device\n",
    "nvar = getNvarTorch(model.parameters())\n",
    "opts.x0 = torch.nn.utils.parameters_to_vector(model.parameters()).detach().reshape(nvar,1)\n",
    "opts.opt_tol = 1e-3\n",
    "opts.viol_eq_tol = 1e-4\n",
    "# opts.maxit = 150\n",
    "# opts.fvalquit = 1e-6\n",
    "opts.print_level = 1\n",
    "opts.print_frequency = 50\n",
    "# opts.print_ascii = True\n",
    "# opts.limited_mem_size = 100\n",
    "opts.double_precision = True\n",
    "\n",
    "opts.mu0 = 1"
   ],
   "outputs": [],
   "execution_count": 18
  },
  {
   "cell_type": "markdown",
   "id": "754ba30a",
   "metadata": {},
   "source": [
    "## Initial Test \n",
    "Check initial accuracy of the RNN model"
   ]
  },
  {
   "cell_type": "code",
   "id": "711f0e9c",
   "metadata": {
    "ExecuteTime": {
     "end_time": "2025-04-21T03:19:34.152040Z",
     "start_time": "2025-04-21T03:19:34.138822Z"
    }
   },
   "source": [
    "logits = model(inputs)\n",
    "_, predicted = torch.max(logits.data, 1)\n",
    "correct = (predicted == labels).sum().item()\n",
    "print(\"Initial acc = {:.2f}%\".format((100 * correct/len(inputs))))  "
   ],
   "outputs": [
    {
     "name": "stdout",
     "output_type": "stream",
     "text": [
      "Initial acc = 8.79%\n"
     ]
    }
   ],
   "execution_count": 19
  },
  {
   "metadata": {},
   "cell_type": "markdown",
   "source": "# Exact Penalty with Adam",
   "id": "76f5a81d9b657fbd"
  },
  {
   "metadata": {
    "ExecuteTime": {
     "end_time": "2025-04-21T03:19:34.154377Z",
     "start_time": "2025-04-21T03:19:34.152624Z"
    }
   },
   "cell_type": "code",
   "source": [
    "import torch\n",
    "from torch.utils.data import Dataset, DataLoader\n",
    "from torch.nn import CrossEntropyLoss\n",
    "from torch.nn.functional import one_hot"
   ],
   "id": "6912929758dcdf8e",
   "outputs": [],
   "execution_count": 20
  },
  {
   "metadata": {
    "ExecuteTime": {
     "end_time": "2025-04-21T03:19:34.156371Z",
     "start_time": "2025-04-21T03:19:34.154809Z"
    }
   },
   "cell_type": "code",
   "source": [
    "train_acc = []\n",
    "test_acc = []"
   ],
   "id": "1dcceedc282ccbde",
   "outputs": [],
   "execution_count": 21
  },
  {
   "metadata": {
    "ExecuteTime": {
     "end_time": "2025-04-21T03:19:34.159308Z",
     "start_time": "2025-04-21T03:19:34.156809Z"
    }
   },
   "cell_type": "code",
   "source": [
    "def train_loop(model, mu, optimizer):\n",
    "    model.train()\n",
    "    \n",
    "    loss = phi1(model, mu)\n",
    "\n",
    "    loss.backward()\n",
    "    optimizer.step()\n",
    "    optimizer.zero_grad()\n",
    "\n",
    "def val_loop(dataloader, model):\n",
    "    model.eval()\n",
    "    # size = len(dataloader.dataset)\n",
    "    size = batch_size\n",
    "    correct = 0\n",
    "\n",
    "    with torch.no_grad():\n",
    "        logits = model(inputs)\n",
    "        _, predicted = torch.max(logits.data, 1)\n",
    "        train_acc.append((predicted == labels).sum().item() / size)\n",
    "        \n",
    "        logits = model(test_inputs)\n",
    "        _, predicted = torch.max(logits.data, 1)\n",
    "        c = (predicted == test_labels).sum().item()\n",
    "        test_acc.append(c / size)\n",
    "        correct += c\n",
    "    \n",
    "    correct /= size\n",
    "    print(f\"Error: \\n Accuracy: {(100*correct):>0.1f}% \\n\")\n",
    "    return 100*correct"
   ],
   "id": "8b7039555d8fc170",
   "outputs": [],
   "execution_count": 22
  },
  {
   "metadata": {
    "ExecuteTime": {
     "end_time": "2025-04-21T03:19:34.161314Z",
     "start_time": "2025-04-21T03:19:34.159913Z"
    }
   },
   "cell_type": "code",
   "source": "val_dataloader = loaders['test']",
   "id": "8bb6ad6b8ca802e",
   "outputs": [],
   "execution_count": 23
  },
  {
   "metadata": {
    "ExecuteTime": {
     "end_time": "2025-04-21T03:19:34.163777Z",
     "start_time": "2025-04-21T03:19:34.161855Z"
    }
   },
   "cell_type": "code",
   "source": [
    "def f(model, inputs, labels):\n",
    "    logits = model(inputs)\n",
    "    loss_fn = nn.CrossEntropyLoss()\n",
    "    return loss_fn(logits, labels)\n",
    "\n",
    "def penalty(model):\n",
    "    A = list(model.parameters())[1]\n",
    "    \n",
    "    # print(A)\n",
    "    \n",
    "    return torch.norm(A.T @ A - torch.eye(hidden_size), p=1)\n",
    "\n",
    "def l2_penalty(model):\n",
    "    A = list(model.parameters())[1]\n",
    "    \n",
    "    # print(A)\n",
    "    \n",
    "    return torch.norm(A.T @ A - torch.eye(hidden_size))\n",
    "\n",
    "def phi1(model, mu):\n",
    "    return f(model, inputs, labels) + mu * penalty(model)"
   ],
   "id": "a2c5cd2d045d0837",
   "outputs": [],
   "execution_count": 24
  },
  {
   "metadata": {},
   "cell_type": "markdown",
   "source": "### 100 inner epochs",
   "id": "84b31fd5f87d140"
  },
  {
   "metadata": {
    "ExecuteTime": {
     "end_time": "2025-04-21T03:19:34.168012Z",
     "start_time": "2025-04-21T03:19:34.165662Z"
    }
   },
   "cell_type": "code",
   "source": [
    "def exact_penalty_with_adam(mu_rho, mu_eps):\n",
    "    # res_model = res_loss = res_accuracy = res_label_smoothing = res_optimizer = None\n",
    "    global model\n",
    "    model.train()\n",
    "    \n",
    "    mu = torch.tensor([1.], dtype=double_precision)\n",
    "\n",
    "    for iteration in range(1000):\n",
    "        print(\"Iter\", iteration)\n",
    "        \n",
    "        # Adam\n",
    "        optimizer = torch.optim.Adam(model.parameters())\n",
    "        \n",
    "        # prev_accuracy = None\n",
    "        for t in range(100):\n",
    "            # print(f\"Epoch {t+1}\\n-------------------------------\")\n",
    "            train_loop(model, mu, optimizer)\n",
    "            # val_accuracy = val_loop(val_dataloader, model)\n",
    "            # if prev_accuracy is not None and val_accuracy > prev_accuracy:\n",
    "            #     break\n",
    "            # prev_accuracy = val_accuracy\n",
    "        \n",
    "        # Exact penalty update\n",
    "        h = penalty(model)\n",
    "        print(\"Objective:\", f(model, inputs, labels))\n",
    "        val_accuracy = val_loop(val_dataloader, model)\n",
    "        print(\"Val accuracy:\", val_accuracy)\n",
    "        print(\"Penalty parameter:\", mu)\n",
    "        print(\"Penalty:\", h)\n",
    "        if h < 1e-3:  # if h(xk ) ≤ τ\n",
    "            break\n",
    "\n",
    "        # Choose new penalty parameter µk+1 > µk ;\n",
    "        if mu * h > mu_eps:\n",
    "            mu *= mu_rho\n",
    "\n",
    "        # Choose new starting point (stay as optimal x1, x2)\n",
    "\n",
    "        print()"
   ],
   "id": "a2df0f157d988e1a",
   "outputs": [],
   "execution_count": 25
  },
  {
   "metadata": {},
   "cell_type": "markdown",
   "source": "Hits around 64% acc at iter ~20",
   "id": "6cc4efba1457096b"
  },
  {
   "metadata": {
    "ExecuteTime": {
     "end_time": "2025-04-21T03:20:27.090774Z",
     "start_time": "2025-04-21T03:19:34.168528Z"
    }
   },
   "cell_type": "code",
   "source": [
    "model = RNN(input_size, hidden_size, num_layers, num_classes).to(device=device, dtype=double_precision)\n",
    "exact_penalty_with_adam(mu_rho=1.1, mu_eps=1e-5)"
   ],
   "id": "fcdc27b5cfc04ad6",
   "outputs": [
    {
     "name": "stdout",
     "output_type": "stream",
     "text": [
      "Iter 0\n",
      "Objective: tensor(2.1878, dtype=torch.float64, grad_fn=<NllLossBackward0>)\n",
      "Error: \n",
      " Accuracy: 19.6% \n",
      "\n",
      "Val accuracy: 19.62890625\n",
      "Penalty parameter: tensor([1.], dtype=torch.float64)\n",
      "Penalty: tensor(30.0304, dtype=torch.float64, grad_fn=<LinalgVectorNormBackward0>)\n",
      "\n",
      "Iter 1\n",
      "Objective: tensor(2.0189, dtype=torch.float64, grad_fn=<NllLossBackward0>)\n",
      "Error: \n",
      " Accuracy: 25.1% \n",
      "\n",
      "Val accuracy: 25.09765625\n",
      "Penalty parameter: tensor([1.1000], dtype=torch.float64)\n",
      "Penalty: tensor(23.3742, dtype=torch.float64, grad_fn=<LinalgVectorNormBackward0>)\n",
      "\n",
      "Iter 2\n",
      "Objective: tensor(1.8390, dtype=torch.float64, grad_fn=<NllLossBackward0>)\n",
      "Error: \n",
      " Accuracy: 28.7% \n",
      "\n",
      "Val accuracy: 28.7109375\n",
      "Penalty parameter: tensor([1.2100], dtype=torch.float64)\n",
      "Penalty: tensor(19.5555, dtype=torch.float64, grad_fn=<LinalgVectorNormBackward0>)\n",
      "\n",
      "Iter 3\n",
      "Objective: tensor(1.6892, dtype=torch.float64, grad_fn=<NllLossBackward0>)\n",
      "Error: \n",
      " Accuracy: 35.2% \n",
      "\n",
      "Val accuracy: 35.15625\n",
      "Penalty parameter: tensor([1.3310], dtype=torch.float64)\n",
      "Penalty: tensor(15.5347, dtype=torch.float64, grad_fn=<LinalgVectorNormBackward0>)\n",
      "\n",
      "Iter 4\n",
      "Objective: tensor(1.5628, dtype=torch.float64, grad_fn=<NllLossBackward0>)\n",
      "Error: \n",
      " Accuracy: 42.0% \n",
      "\n",
      "Val accuracy: 41.9921875\n",
      "Penalty parameter: tensor([1.4641], dtype=torch.float64)\n",
      "Penalty: tensor(11.7471, dtype=torch.float64, grad_fn=<LinalgVectorNormBackward0>)\n",
      "\n",
      "Iter 5\n",
      "Objective: tensor(1.4551, dtype=torch.float64, grad_fn=<NllLossBackward0>)\n",
      "Error: \n",
      " Accuracy: 46.0% \n",
      "\n",
      "Val accuracy: 45.99609375\n",
      "Penalty parameter: tensor([1.6105], dtype=torch.float64)\n",
      "Penalty: tensor(8.9863, dtype=torch.float64, grad_fn=<LinalgVectorNormBackward0>)\n",
      "\n",
      "Iter 6\n",
      "Objective: tensor(1.3636, dtype=torch.float64, grad_fn=<NllLossBackward0>)\n",
      "Error: \n",
      " Accuracy: 47.5% \n",
      "\n",
      "Val accuracy: 47.4609375\n",
      "Penalty parameter: tensor([1.7716], dtype=torch.float64)\n",
      "Penalty: tensor(7.4110, dtype=torch.float64, grad_fn=<LinalgVectorNormBackward0>)\n",
      "\n",
      "Iter 7\n",
      "Objective: tensor(1.2832, dtype=torch.float64, grad_fn=<NllLossBackward0>)\n",
      "Error: \n",
      " Accuracy: 48.0% \n",
      "\n",
      "Val accuracy: 48.046875\n",
      "Penalty parameter: tensor([1.9487], dtype=torch.float64)\n",
      "Penalty: tensor(6.2228, dtype=torch.float64, grad_fn=<LinalgVectorNormBackward0>)\n",
      "\n",
      "Iter 8\n",
      "Objective: tensor(1.2151, dtype=torch.float64, grad_fn=<NllLossBackward0>)\n",
      "Error: \n",
      " Accuracy: 48.5% \n",
      "\n",
      "Val accuracy: 48.53515625\n",
      "Penalty parameter: tensor([2.1436], dtype=torch.float64)\n",
      "Penalty: tensor(5.1200, dtype=torch.float64, grad_fn=<LinalgVectorNormBackward0>)\n",
      "\n",
      "Iter 9\n",
      "Objective: tensor(1.1604, dtype=torch.float64, grad_fn=<NllLossBackward0>)\n",
      "Error: \n",
      " Accuracy: 49.9% \n",
      "\n",
      "Val accuracy: 49.90234375\n",
      "Penalty parameter: tensor([2.3579], dtype=torch.float64)\n",
      "Penalty: tensor(4.0168, dtype=torch.float64, grad_fn=<LinalgVectorNormBackward0>)\n",
      "\n",
      "Iter 10\n",
      "Objective: tensor(1.1133, dtype=torch.float64, grad_fn=<NllLossBackward0>)\n",
      "Error: \n",
      " Accuracy: 50.8% \n",
      "\n",
      "Val accuracy: 50.78125\n",
      "Penalty parameter: tensor([2.5937], dtype=torch.float64)\n",
      "Penalty: tensor(3.2450, dtype=torch.float64, grad_fn=<LinalgVectorNormBackward0>)\n",
      "\n",
      "Iter 11\n",
      "Objective: tensor(1.0670, dtype=torch.float64, grad_fn=<NllLossBackward0>)\n",
      "Error: \n",
      " Accuracy: 51.8% \n",
      "\n",
      "Val accuracy: 51.7578125\n",
      "Penalty parameter: tensor([2.8531], dtype=torch.float64)\n",
      "Penalty: tensor(2.2731, dtype=torch.float64, grad_fn=<LinalgVectorNormBackward0>)\n",
      "\n",
      "Iter 12\n",
      "Objective: tensor(1.0253, dtype=torch.float64, grad_fn=<NllLossBackward0>)\n",
      "Error: \n",
      " Accuracy: 52.3% \n",
      "\n",
      "Val accuracy: 52.34375\n",
      "Penalty parameter: tensor([3.1384], dtype=torch.float64)\n",
      "Penalty: tensor(1.6222, dtype=torch.float64, grad_fn=<LinalgVectorNormBackward0>)\n",
      "\n",
      "Iter 13\n",
      "Objective: tensor(0.9924, dtype=torch.float64, grad_fn=<NllLossBackward0>)\n",
      "Error: \n",
      " Accuracy: 52.1% \n",
      "\n",
      "Val accuracy: 52.05078125\n",
      "Penalty parameter: tensor([3.4523], dtype=torch.float64)\n",
      "Penalty: tensor(1.3594, dtype=torch.float64, grad_fn=<LinalgVectorNormBackward0>)\n",
      "\n",
      "Iter 14\n",
      "Objective: tensor(0.9611, dtype=torch.float64, grad_fn=<NllLossBackward0>)\n",
      "Error: \n",
      " Accuracy: 52.1% \n",
      "\n",
      "Val accuracy: 52.05078125\n",
      "Penalty parameter: tensor([3.7975], dtype=torch.float64)\n",
      "Penalty: tensor(1.1404, dtype=torch.float64, grad_fn=<LinalgVectorNormBackward0>)\n",
      "\n",
      "Iter 15\n",
      "Objective: tensor(0.9316, dtype=torch.float64, grad_fn=<NllLossBackward0>)\n",
      "Error: \n",
      " Accuracy: 51.6% \n",
      "\n",
      "Val accuracy: 51.5625\n",
      "Penalty parameter: tensor([4.1772], dtype=torch.float64)\n",
      "Penalty: tensor(0.9009, dtype=torch.float64, grad_fn=<LinalgVectorNormBackward0>)\n",
      "\n",
      "Iter 16\n",
      "Objective: tensor(0.9055, dtype=torch.float64, grad_fn=<NllLossBackward0>)\n",
      "Error: \n",
      " Accuracy: 51.1% \n",
      "\n",
      "Val accuracy: 51.07421875\n",
      "Penalty parameter: tensor([4.5950], dtype=torch.float64)\n",
      "Penalty: tensor(0.6240, dtype=torch.float64, grad_fn=<LinalgVectorNormBackward0>)\n",
      "\n",
      "Iter 17\n",
      "Objective: tensor(0.8807, dtype=torch.float64, grad_fn=<NllLossBackward0>)\n",
      "Error: \n",
      " Accuracy: 51.8% \n",
      "\n",
      "Val accuracy: 51.7578125\n",
      "Penalty parameter: tensor([5.0545], dtype=torch.float64)\n",
      "Penalty: tensor(0.3810, dtype=torch.float64, grad_fn=<LinalgVectorNormBackward0>)\n",
      "\n",
      "Iter 18\n",
      "Objective: tensor(0.8575, dtype=torch.float64, grad_fn=<NllLossBackward0>)\n",
      "Error: \n",
      " Accuracy: 52.5% \n",
      "\n",
      "Val accuracy: 52.5390625\n",
      "Penalty parameter: tensor([5.5599], dtype=torch.float64)\n",
      "Penalty: tensor(0.2358, dtype=torch.float64, grad_fn=<LinalgVectorNormBackward0>)\n",
      "\n",
      "Iter 19\n",
      "Objective: tensor(0.8360, dtype=torch.float64, grad_fn=<NllLossBackward0>)\n",
      "Error: \n",
      " Accuracy: 52.1% \n",
      "\n",
      "Val accuracy: 52.1484375\n",
      "Penalty parameter: tensor([6.1159], dtype=torch.float64)\n",
      "Penalty: tensor(0.2244, dtype=torch.float64, grad_fn=<LinalgVectorNormBackward0>)\n",
      "\n",
      "Iter 20\n",
      "Objective: tensor(0.8170, dtype=torch.float64, grad_fn=<NllLossBackward0>)\n",
      "Error: \n",
      " Accuracy: 51.8% \n",
      "\n",
      "Val accuracy: 51.7578125\n",
      "Penalty parameter: tensor([6.7275], dtype=torch.float64)\n",
      "Penalty: tensor(0.2115, dtype=torch.float64, grad_fn=<LinalgVectorNormBackward0>)\n",
      "\n",
      "Iter 21\n",
      "Objective: tensor(0.8003, dtype=torch.float64, grad_fn=<NllLossBackward0>)\n",
      "Error: \n",
      " Accuracy: 51.3% \n",
      "\n",
      "Val accuracy: 51.26953125\n",
      "Penalty parameter: tensor([7.4002], dtype=torch.float64)\n",
      "Penalty: tensor(0.2116, dtype=torch.float64, grad_fn=<LinalgVectorNormBackward0>)\n",
      "\n",
      "Iter 22\n",
      "Objective: tensor(0.7831, dtype=torch.float64, grad_fn=<NllLossBackward0>)\n",
      "Error: \n",
      " Accuracy: 51.6% \n",
      "\n",
      "Val accuracy: 51.5625\n",
      "Penalty parameter: tensor([8.1403], dtype=torch.float64)\n",
      "Penalty: tensor(0.2320, dtype=torch.float64, grad_fn=<LinalgVectorNormBackward0>)\n",
      "\n",
      "Iter 23\n",
      "Objective: tensor(0.7673, dtype=torch.float64, grad_fn=<NllLossBackward0>)\n",
      "Error: \n",
      " Accuracy: 52.1% \n",
      "\n",
      "Val accuracy: 52.05078125\n",
      "Penalty parameter: tensor([8.9543], dtype=torch.float64)\n",
      "Penalty: tensor(0.2315, dtype=torch.float64, grad_fn=<LinalgVectorNormBackward0>)\n",
      "\n",
      "Iter 24\n",
      "Objective: tensor(0.7507, dtype=torch.float64, grad_fn=<NllLossBackward0>)\n",
      "Error: \n",
      " Accuracy: 52.1% \n",
      "\n",
      "Val accuracy: 52.1484375\n",
      "Penalty parameter: tensor([9.8497], dtype=torch.float64)\n",
      "Penalty: tensor(0.2333, dtype=torch.float64, grad_fn=<LinalgVectorNormBackward0>)\n",
      "\n",
      "Iter 25\n",
      "Objective: tensor(0.7349, dtype=torch.float64, grad_fn=<NllLossBackward0>)\n",
      "Error: \n",
      " Accuracy: 52.2% \n",
      "\n",
      "Val accuracy: 52.24609375\n",
      "Penalty parameter: tensor([10.8347], dtype=torch.float64)\n",
      "Penalty: tensor(0.2238, dtype=torch.float64, grad_fn=<LinalgVectorNormBackward0>)\n",
      "\n",
      "Iter 26\n",
      "Objective: tensor(0.7215, dtype=torch.float64, grad_fn=<NllLossBackward0>)\n",
      "Error: \n",
      " Accuracy: 52.0% \n",
      "\n",
      "Val accuracy: 51.953125\n",
      "Penalty parameter: tensor([11.9182], dtype=torch.float64)\n",
      "Penalty: tensor(0.2423, dtype=torch.float64, grad_fn=<LinalgVectorNormBackward0>)\n",
      "\n",
      "Iter 27\n",
      "Objective: tensor(0.7077, dtype=torch.float64, grad_fn=<NllLossBackward0>)\n",
      "Error: \n",
      " Accuracy: 51.3% \n",
      "\n",
      "Val accuracy: 51.26953125\n",
      "Penalty parameter: tensor([13.1100], dtype=torch.float64)\n",
      "Penalty: tensor(0.2227, dtype=torch.float64, grad_fn=<LinalgVectorNormBackward0>)\n",
      "\n",
      "Iter 28\n",
      "Objective: tensor(0.6959, dtype=torch.float64, grad_fn=<NllLossBackward0>)\n",
      "Error: \n",
      " Accuracy: 51.7% \n",
      "\n",
      "Val accuracy: 51.66015625\n",
      "Penalty parameter: tensor([14.4210], dtype=torch.float64)\n",
      "Penalty: tensor(0.2366, dtype=torch.float64, grad_fn=<LinalgVectorNormBackward0>)\n",
      "\n",
      "Iter 29\n",
      "Objective: tensor(0.6854, dtype=torch.float64, grad_fn=<NllLossBackward0>)\n",
      "Error: \n",
      " Accuracy: 51.1% \n",
      "\n",
      "Val accuracy: 51.07421875\n",
      "Penalty parameter: tensor([15.8631], dtype=torch.float64)\n",
      "Penalty: tensor(0.2169, dtype=torch.float64, grad_fn=<LinalgVectorNormBackward0>)\n",
      "\n",
      "Iter 30\n",
      "Objective: tensor(0.6751, dtype=torch.float64, grad_fn=<NllLossBackward0>)\n",
      "Error: \n",
      " Accuracy: 50.3% \n",
      "\n",
      "Val accuracy: 50.29296875\n",
      "Penalty parameter: tensor([17.4494], dtype=torch.float64)\n",
      "Penalty: tensor(0.2245, dtype=torch.float64, grad_fn=<LinalgVectorNormBackward0>)\n",
      "\n",
      "Iter 31\n",
      "Objective: tensor(0.6651, dtype=torch.float64, grad_fn=<NllLossBackward0>)\n",
      "Error: \n",
      " Accuracy: 51.0% \n",
      "\n",
      "Val accuracy: 50.9765625\n",
      "Penalty parameter: tensor([19.1943], dtype=torch.float64)\n",
      "Penalty: tensor(0.2378, dtype=torch.float64, grad_fn=<LinalgVectorNormBackward0>)\n",
      "\n",
      "Iter 32\n",
      "Objective: tensor(0.6545, dtype=torch.float64, grad_fn=<NllLossBackward0>)\n",
      "Error: \n",
      " Accuracy: 50.4% \n",
      "\n",
      "Val accuracy: 50.390625\n",
      "Penalty parameter: tensor([21.1138], dtype=torch.float64)\n",
      "Penalty: tensor(0.2180, dtype=torch.float64, grad_fn=<LinalgVectorNormBackward0>)\n",
      "\n",
      "Iter 33\n",
      "Objective: tensor(0.6442, dtype=torch.float64, grad_fn=<NllLossBackward0>)\n",
      "Error: \n",
      " Accuracy: 50.4% \n",
      "\n",
      "Val accuracy: 50.390625\n",
      "Penalty parameter: tensor([23.2252], dtype=torch.float64)\n",
      "Penalty: tensor(0.2426, dtype=torch.float64, grad_fn=<LinalgVectorNormBackward0>)\n",
      "\n",
      "Iter 34\n",
      "Objective: tensor(0.6327, dtype=torch.float64, grad_fn=<NllLossBackward0>)\n",
      "Error: \n",
      " Accuracy: 50.0% \n",
      "\n",
      "Val accuracy: 50.0\n",
      "Penalty parameter: tensor([25.5477], dtype=torch.float64)\n",
      "Penalty: tensor(0.2243, dtype=torch.float64, grad_fn=<LinalgVectorNormBackward0>)\n",
      "\n",
      "Iter 35\n",
      "Objective: tensor(0.6233, dtype=torch.float64, grad_fn=<NllLossBackward0>)\n",
      "Error: \n",
      " Accuracy: 49.8% \n",
      "\n",
      "Val accuracy: 49.8046875\n",
      "Penalty parameter: tensor([28.1024], dtype=torch.float64)\n",
      "Penalty: tensor(0.2182, dtype=torch.float64, grad_fn=<LinalgVectorNormBackward0>)\n",
      "\n",
      "Iter 36\n",
      "Objective: tensor(0.6147, dtype=torch.float64, grad_fn=<NllLossBackward0>)\n",
      "Error: \n",
      " Accuracy: 49.7% \n",
      "\n",
      "Val accuracy: 49.70703125\n",
      "Penalty parameter: tensor([30.9127], dtype=torch.float64)\n",
      "Penalty: tensor(0.2390, dtype=torch.float64, grad_fn=<LinalgVectorNormBackward0>)\n",
      "\n",
      "Iter 37\n",
      "Objective: tensor(0.6057, dtype=torch.float64, grad_fn=<NllLossBackward0>)\n",
      "Error: \n",
      " Accuracy: 49.6% \n",
      "\n",
      "Val accuracy: 49.609375\n",
      "Penalty parameter: tensor([34.0039], dtype=torch.float64)\n",
      "Penalty: tensor(0.2296, dtype=torch.float64, grad_fn=<LinalgVectorNormBackward0>)\n",
      "\n",
      "Iter 38\n",
      "Objective: tensor(0.5964, dtype=torch.float64, grad_fn=<NllLossBackward0>)\n",
      "Error: \n",
      " Accuracy: 49.4% \n",
      "\n",
      "Val accuracy: 49.4140625\n",
      "Penalty parameter: tensor([37.4043], dtype=torch.float64)\n",
      "Penalty: tensor(0.2376, dtype=torch.float64, grad_fn=<LinalgVectorNormBackward0>)\n",
      "\n",
      "Iter 39\n",
      "Objective: tensor(0.5870, dtype=torch.float64, grad_fn=<NllLossBackward0>)\n",
      "Error: \n",
      " Accuracy: 48.9% \n",
      "\n",
      "Val accuracy: 48.92578125\n",
      "Penalty parameter: tensor([41.1448], dtype=torch.float64)\n",
      "Penalty: tensor(0.2204, dtype=torch.float64, grad_fn=<LinalgVectorNormBackward0>)\n",
      "\n",
      "Iter 40\n",
      "Objective: tensor(0.5778, dtype=torch.float64, grad_fn=<NllLossBackward0>)\n",
      "Error: \n",
      " Accuracy: 49.1% \n",
      "\n",
      "Val accuracy: 49.12109375\n",
      "Penalty parameter: tensor([45.2593], dtype=torch.float64)\n",
      "Penalty: tensor(0.2160, dtype=torch.float64, grad_fn=<LinalgVectorNormBackward0>)\n",
      "\n",
      "Iter 41\n"
     ]
    },
    {
     "ename": "KeyboardInterrupt",
     "evalue": "",
     "output_type": "error",
     "traceback": [
      "\u001B[0;31m---------------------------------------------------------------------------\u001B[0m",
      "\u001B[0;31mKeyboardInterrupt\u001B[0m                         Traceback (most recent call last)",
      "Cell \u001B[0;32mIn[26], line 2\u001B[0m\n\u001B[1;32m      1\u001B[0m model \u001B[38;5;241m=\u001B[39m RNN(input_size, hidden_size, num_layers, num_classes)\u001B[38;5;241m.\u001B[39mto(device\u001B[38;5;241m=\u001B[39mdevice, dtype\u001B[38;5;241m=\u001B[39mdouble_precision)\n\u001B[0;32m----> 2\u001B[0m \u001B[43mexact_penalty_with_adam\u001B[49m\u001B[43m(\u001B[49m\u001B[43mmu_rho\u001B[49m\u001B[38;5;241;43m=\u001B[39;49m\u001B[38;5;241;43m1.1\u001B[39;49m\u001B[43m,\u001B[49m\u001B[43m \u001B[49m\u001B[43mmu_eps\u001B[49m\u001B[38;5;241;43m=\u001B[39;49m\u001B[38;5;241;43m1e-5\u001B[39;49m\u001B[43m)\u001B[49m\n",
      "Cell \u001B[0;32mIn[25], line 17\u001B[0m, in \u001B[0;36mexact_penalty_with_adam\u001B[0;34m(mu_rho, mu_eps)\u001B[0m\n\u001B[1;32m     14\u001B[0m \u001B[38;5;66;03m# prev_accuracy = None\u001B[39;00m\n\u001B[1;32m     15\u001B[0m \u001B[38;5;28;01mfor\u001B[39;00m t \u001B[38;5;129;01min\u001B[39;00m \u001B[38;5;28mrange\u001B[39m(\u001B[38;5;241m100\u001B[39m):\n\u001B[1;32m     16\u001B[0m     \u001B[38;5;66;03m# print(f\"Epoch {t+1}\\n-------------------------------\")\u001B[39;00m\n\u001B[0;32m---> 17\u001B[0m     \u001B[43mtrain_loop\u001B[49m\u001B[43m(\u001B[49m\u001B[43mmodel\u001B[49m\u001B[43m,\u001B[49m\u001B[43m \u001B[49m\u001B[43mmu\u001B[49m\u001B[43m,\u001B[49m\u001B[43m \u001B[49m\u001B[43moptimizer\u001B[49m\u001B[43m)\u001B[49m\n\u001B[1;32m     18\u001B[0m     \u001B[38;5;66;03m# val_accuracy = val_loop(val_dataloader, model)\u001B[39;00m\n\u001B[1;32m     19\u001B[0m     \u001B[38;5;66;03m# if prev_accuracy is not None and val_accuracy > prev_accuracy:\u001B[39;00m\n\u001B[1;32m     20\u001B[0m     \u001B[38;5;66;03m#     break\u001B[39;00m\n\u001B[1;32m     21\u001B[0m     \u001B[38;5;66;03m# prev_accuracy = val_accuracy\u001B[39;00m\n\u001B[1;32m     22\u001B[0m \n\u001B[1;32m     23\u001B[0m \u001B[38;5;66;03m# Exact penalty update\u001B[39;00m\n\u001B[1;32m     24\u001B[0m h \u001B[38;5;241m=\u001B[39m penalty(model)\n",
      "Cell \u001B[0;32mIn[22], line 6\u001B[0m, in \u001B[0;36mtrain_loop\u001B[0;34m(model, mu, optimizer)\u001B[0m\n\u001B[1;32m      2\u001B[0m model\u001B[38;5;241m.\u001B[39mtrain()\n\u001B[1;32m      4\u001B[0m loss \u001B[38;5;241m=\u001B[39m phi1(model, mu)\n\u001B[0;32m----> 6\u001B[0m \u001B[43mloss\u001B[49m\u001B[38;5;241;43m.\u001B[39;49m\u001B[43mbackward\u001B[49m\u001B[43m(\u001B[49m\u001B[43m)\u001B[49m\n\u001B[1;32m      7\u001B[0m optimizer\u001B[38;5;241m.\u001B[39mstep()\n\u001B[1;32m      8\u001B[0m optimizer\u001B[38;5;241m.\u001B[39mzero_grad()\n",
      "File \u001B[0;32m~/Desktop/s25/csci-5527/pygranso/.venv/lib/python3.12/site-packages/torch/_tensor.py:626\u001B[0m, in \u001B[0;36mTensor.backward\u001B[0;34m(self, gradient, retain_graph, create_graph, inputs)\u001B[0m\n\u001B[1;32m    616\u001B[0m \u001B[38;5;28;01mif\u001B[39;00m has_torch_function_unary(\u001B[38;5;28mself\u001B[39m):\n\u001B[1;32m    617\u001B[0m     \u001B[38;5;28;01mreturn\u001B[39;00m handle_torch_function(\n\u001B[1;32m    618\u001B[0m         Tensor\u001B[38;5;241m.\u001B[39mbackward,\n\u001B[1;32m    619\u001B[0m         (\u001B[38;5;28mself\u001B[39m,),\n\u001B[0;32m   (...)\u001B[0m\n\u001B[1;32m    624\u001B[0m         inputs\u001B[38;5;241m=\u001B[39minputs,\n\u001B[1;32m    625\u001B[0m     )\n\u001B[0;32m--> 626\u001B[0m \u001B[43mtorch\u001B[49m\u001B[38;5;241;43m.\u001B[39;49m\u001B[43mautograd\u001B[49m\u001B[38;5;241;43m.\u001B[39;49m\u001B[43mbackward\u001B[49m\u001B[43m(\u001B[49m\n\u001B[1;32m    627\u001B[0m \u001B[43m    \u001B[49m\u001B[38;5;28;43mself\u001B[39;49m\u001B[43m,\u001B[49m\u001B[43m \u001B[49m\u001B[43mgradient\u001B[49m\u001B[43m,\u001B[49m\u001B[43m \u001B[49m\u001B[43mretain_graph\u001B[49m\u001B[43m,\u001B[49m\u001B[43m \u001B[49m\u001B[43mcreate_graph\u001B[49m\u001B[43m,\u001B[49m\u001B[43m \u001B[49m\u001B[43minputs\u001B[49m\u001B[38;5;241;43m=\u001B[39;49m\u001B[43minputs\u001B[49m\n\u001B[1;32m    628\u001B[0m \u001B[43m\u001B[49m\u001B[43m)\u001B[49m\n",
      "File \u001B[0;32m~/Desktop/s25/csci-5527/pygranso/.venv/lib/python3.12/site-packages/torch/autograd/__init__.py:347\u001B[0m, in \u001B[0;36mbackward\u001B[0;34m(tensors, grad_tensors, retain_graph, create_graph, grad_variables, inputs)\u001B[0m\n\u001B[1;32m    342\u001B[0m     retain_graph \u001B[38;5;241m=\u001B[39m create_graph\n\u001B[1;32m    344\u001B[0m \u001B[38;5;66;03m# The reason we repeat the same comment below is that\u001B[39;00m\n\u001B[1;32m    345\u001B[0m \u001B[38;5;66;03m# some Python versions print out the first line of a multi-line function\u001B[39;00m\n\u001B[1;32m    346\u001B[0m \u001B[38;5;66;03m# calls in the traceback and some print out the last line\u001B[39;00m\n\u001B[0;32m--> 347\u001B[0m \u001B[43m_engine_run_backward\u001B[49m\u001B[43m(\u001B[49m\n\u001B[1;32m    348\u001B[0m \u001B[43m    \u001B[49m\u001B[43mtensors\u001B[49m\u001B[43m,\u001B[49m\n\u001B[1;32m    349\u001B[0m \u001B[43m    \u001B[49m\u001B[43mgrad_tensors_\u001B[49m\u001B[43m,\u001B[49m\n\u001B[1;32m    350\u001B[0m \u001B[43m    \u001B[49m\u001B[43mretain_graph\u001B[49m\u001B[43m,\u001B[49m\n\u001B[1;32m    351\u001B[0m \u001B[43m    \u001B[49m\u001B[43mcreate_graph\u001B[49m\u001B[43m,\u001B[49m\n\u001B[1;32m    352\u001B[0m \u001B[43m    \u001B[49m\u001B[43minputs\u001B[49m\u001B[43m,\u001B[49m\n\u001B[1;32m    353\u001B[0m \u001B[43m    \u001B[49m\u001B[43mallow_unreachable\u001B[49m\u001B[38;5;241;43m=\u001B[39;49m\u001B[38;5;28;43;01mTrue\u001B[39;49;00m\u001B[43m,\u001B[49m\n\u001B[1;32m    354\u001B[0m \u001B[43m    \u001B[49m\u001B[43maccumulate_grad\u001B[49m\u001B[38;5;241;43m=\u001B[39;49m\u001B[38;5;28;43;01mTrue\u001B[39;49;00m\u001B[43m,\u001B[49m\n\u001B[1;32m    355\u001B[0m \u001B[43m\u001B[49m\u001B[43m)\u001B[49m\n",
      "File \u001B[0;32m~/Desktop/s25/csci-5527/pygranso/.venv/lib/python3.12/site-packages/torch/autograd/graph.py:823\u001B[0m, in \u001B[0;36m_engine_run_backward\u001B[0;34m(t_outputs, *args, **kwargs)\u001B[0m\n\u001B[1;32m    821\u001B[0m     unregister_hooks \u001B[38;5;241m=\u001B[39m _register_logging_hooks_on_whole_graph(t_outputs)\n\u001B[1;32m    822\u001B[0m \u001B[38;5;28;01mtry\u001B[39;00m:\n\u001B[0;32m--> 823\u001B[0m     \u001B[38;5;28;01mreturn\u001B[39;00m \u001B[43mVariable\u001B[49m\u001B[38;5;241;43m.\u001B[39;49m\u001B[43m_execution_engine\u001B[49m\u001B[38;5;241;43m.\u001B[39;49m\u001B[43mrun_backward\u001B[49m\u001B[43m(\u001B[49m\u001B[43m  \u001B[49m\u001B[38;5;66;43;03m# Calls into the C++ engine to run the backward pass\u001B[39;49;00m\n\u001B[1;32m    824\u001B[0m \u001B[43m        \u001B[49m\u001B[43mt_outputs\u001B[49m\u001B[43m,\u001B[49m\u001B[43m \u001B[49m\u001B[38;5;241;43m*\u001B[39;49m\u001B[43margs\u001B[49m\u001B[43m,\u001B[49m\u001B[43m \u001B[49m\u001B[38;5;241;43m*\u001B[39;49m\u001B[38;5;241;43m*\u001B[39;49m\u001B[43mkwargs\u001B[49m\n\u001B[1;32m    825\u001B[0m \u001B[43m    \u001B[49m\u001B[43m)\u001B[49m  \u001B[38;5;66;03m# Calls into the C++ engine to run the backward pass\u001B[39;00m\n\u001B[1;32m    826\u001B[0m \u001B[38;5;28;01mfinally\u001B[39;00m:\n\u001B[1;32m    827\u001B[0m     \u001B[38;5;28;01mif\u001B[39;00m attach_logging_hooks:\n",
      "\u001B[0;31mKeyboardInterrupt\u001B[0m: "
     ]
    }
   ],
   "execution_count": 26
  },
  {
   "metadata": {},
   "cell_type": "markdown",
   "source": "### Train Acc",
   "id": "297c1298f408ed54"
  },
  {
   "metadata": {
    "ExecuteTime": {
     "end_time": "2025-04-21T03:20:29.441652Z",
     "start_time": "2025-04-21T03:20:29.422107Z"
    }
   },
   "cell_type": "code",
   "source": [
    "model.eval()\n",
    "\n",
    "logits = model(inputs)\n",
    "_, predicted = torch.max(logits.data, 1)\n",
    "correct = (predicted == labels).sum().item()\n",
    "print(\"Final acc = {:.2f}%\".format((100 * correct/len(inputs))))  "
   ],
   "id": "fbab81ef8dba17f1",
   "outputs": [
    {
     "name": "stdout",
     "output_type": "stream",
     "text": [
      "Final acc = 80.76%\n"
     ]
    }
   ],
   "execution_count": 27
  },
  {
   "metadata": {},
   "cell_type": "markdown",
   "source": "### Test Acc",
   "id": "f9d13a337c00e11d"
  },
  {
   "metadata": {
    "ExecuteTime": {
     "end_time": "2025-04-21T03:20:30.460881Z",
     "start_time": "2025-04-21T03:20:30.430227Z"
    }
   },
   "cell_type": "code",
   "source": "val_loop(val_dataloader, model)",
   "id": "7cadb1c20f35d7f2",
   "outputs": [
    {
     "name": "stdout",
     "output_type": "stream",
     "text": [
      "Error: \n",
      " Accuracy: 48.7% \n",
      "\n"
     ]
    },
    {
     "data": {
      "text/plain": [
       "48.73046875"
      ]
     },
     "execution_count": 28,
     "metadata": {},
     "output_type": "execute_result"
    }
   ],
   "execution_count": 28
  },
  {
   "metadata": {},
   "cell_type": "markdown",
   "source": "### Feasibility",
   "id": "91cfe269d5461534"
  },
  {
   "metadata": {},
   "cell_type": "code",
   "outputs": [
    {
     "data": {
      "text/plain": [
       "tensor(0.2639, dtype=torch.float64, grad_fn=<LinalgVectorNormBackward0>)"
      ]
     },
     "execution_count": 29,
     "metadata": {},
     "output_type": "execute_result"
    }
   ],
   "execution_count": 29,
   "source": "penalty(model)",
   "id": "a7aa6ce3d0ca04d1"
  },
  {
   "metadata": {},
   "cell_type": "code",
   "outputs": [
    {
     "data": {
      "text/plain": [
       "tensor(0.0114, dtype=torch.float64, grad_fn=<LinalgVectorNormBackward0>)"
      ]
     },
     "execution_count": 30,
     "metadata": {},
     "output_type": "execute_result"
    }
   ],
   "execution_count": 30,
   "source": "l2_penalty(model)",
   "id": "24a327be184d3adc"
  },
  {
   "metadata": {},
   "cell_type": "markdown",
   "source": "### Graph",
   "id": "6ba5acf0e34805a3"
  },
  {
   "metadata": {},
   "cell_type": "code",
   "outputs": [],
   "execution_count": 31,
   "source": [
    "import numpy as np\n",
    "import matplotlib.pyplot as plt"
   ],
   "id": "6feb4a4c4621d94e"
  },
  {
   "metadata": {
    "ExecuteTime": {
     "end_time": "2025-04-21T03:22:55.626786Z",
     "start_time": "2025-04-21T03:22:55.621720Z"
    }
   },
   "cell_type": "code",
   "source": [
    "train_acc_100 = train_acc.copy()\n",
    "test_acc_100 = test_acc.copy()"
   ],
   "id": "d933f91c0cac57af",
   "outputs": [],
   "execution_count": 35
  },
  {
   "metadata": {
    "ExecuteTime": {
     "end_time": "2025-04-21T04:42:36.654087Z",
     "start_time": "2025-04-21T04:42:36.598510Z"
    }
   },
   "cell_type": "code",
   "source": [
    "# Plot results\n",
    "x = np.arange(0, len(train_acc_100)+1)\n",
    "\n",
    "plt.plot(x, [0] + train_acc_100, label='Train set accuracy', marker='o')\n",
    "plt.plot(x, [0] + test_acc_100, label='Validation set accuracy', marker='s')\n",
    "\n",
    "plt.xlabel('Outer Loop Iterations')\n",
    "plt.ylabel('Accuracy (%)')\n",
    "plt.title('Train vs Validation Accuracy Over Time - EP w/ Adam (100 inner iterations)'.format(batch_size))\n",
    "\n",
    "plt.legend()\n",
    "\n",
    "plt.show()"
   ],
   "id": "fcc84c680fd94b7a",
   "outputs": [
    {
     "data": {
      "text/plain": [
       "<Figure size 640x480 with 1 Axes>"
      ],
      "image/png": "[encoded data removed]"
     },
     "metadata": {},
     "output_type": "display_data"
    }
   ],
   "execution_count": 53
  },
  {
   "metadata": {},
   "cell_type": "markdown",
   "source": "### 1000 inner epochs",
   "id": "79c689e653e8a4a"
  },
  {
   "metadata": {
    "ExecuteTime": {
     "end_time": "2025-04-21T03:23:00.608596Z",
     "start_time": "2025-04-21T03:23:00.602408Z"
    }
   },
   "cell_type": "code",
   "source": [
    "train_acc = []\n",
    "test_acc = []"
   ],
   "id": "d058f58b38d860cb",
   "outputs": [],
   "execution_count": 36
  },
  {
   "metadata": {
    "ExecuteTime": {
     "end_time": "2025-04-21T03:23:01.462567Z",
     "start_time": "2025-04-21T03:23:01.454678Z"
    }
   },
   "cell_type": "code",
   "source": [
    "def exact_penalty_with_adam(mu_rho, mu_eps):\n",
    "    # res_model = res_loss = res_accuracy = res_label_smoothing = res_optimizer = None\n",
    "    global model\n",
    "    model.train()\n",
    "    \n",
    "    mu = torch.tensor([1.], dtype=double_precision)\n",
    "\n",
    "    for iteration in range(1000):\n",
    "        print(\"Iter\", iteration)\n",
    "        \n",
    "        # Adam\n",
    "        optimizer = torch.optim.Adam(model.parameters())\n",
    "        \n",
    "        # prev_accuracy = None\n",
    "        for t in range(1000):\n",
    "            # print(f\"Epoch {t+1}\\n-------------------------------\")\n",
    "            train_loop(model, mu, optimizer)\n",
    "            # val_accuracy = val_loop(val_dataloader, model)\n",
    "            # if prev_accuracy is not None and val_accuracy > prev_accuracy:\n",
    "            #     break\n",
    "            # prev_accuracy = val_accuracy\n",
    "            if t % 200 == 0:\n",
    "                print(\"Epoch\", t)\n",
    "        \n",
    "        # Exact penalty update\n",
    "        h = l2_penalty(model)\n",
    "        print(\"Objective:\", f(model, inputs, labels))\n",
    "        val_accuracy = val_loop(val_dataloader, model)\n",
    "        print(\"Val accuracy:\", val_accuracy)\n",
    "        print(\"Penalty parameter:\", mu)\n",
    "        print(\"Penalty:\", h)\n",
    "        if h < 1e-3:  # if h(xk ) ≤ τ\n",
    "            break\n",
    "\n",
    "        # Choose new penalty parameter µk+1 > µk ;\n",
    "        if mu * h > mu_eps:\n",
    "            mu *= mu_rho\n",
    "\n",
    "        # Choose new starting point (stay as optimal x1, x2)\n",
    "\n",
    "        print()"
   ],
   "id": "c486f82bebbc7da",
   "outputs": [],
   "execution_count": 37
  },
  {
   "metadata": {
    "ExecuteTime": {
     "end_time": "2025-04-21T03:30:05.161881Z",
     "start_time": "2025-04-21T03:23:02.841037Z"
    }
   },
   "cell_type": "code",
   "source": [
    "model = RNN(input_size, hidden_size, num_layers, num_classes).to(device=device, dtype=double_precision)\n",
    "exact_penalty_with_adam(mu_rho=1.1, mu_eps=1e-5)"
   ],
   "id": "bd9218c6b6be7dcb",
   "outputs": [
    {
     "name": "stdout",
     "output_type": "stream",
     "text": [
      "Iter 0\n",
      "Epoch 0\n",
      "Epoch 200\n",
      "Epoch 400\n",
      "Epoch 600\n",
      "Epoch 800\n",
      "Objective: tensor(1.0062, dtype=torch.float64, grad_fn=<NllLossBackward0>)\n",
      "Error: \n",
      " Accuracy: 55.4% \n",
      "\n",
      "Val accuracy: 55.37109375\n",
      "Penalty parameter: tensor([1.], dtype=torch.float64)\n",
      "Penalty: tensor(0.8307, dtype=torch.float64, grad_fn=<LinalgVectorNormBackward0>)\n",
      "\n",
      "Iter 1\n",
      "Epoch 0\n",
      "Epoch 200\n",
      "Epoch 400\n",
      "Epoch 600\n",
      "Epoch 800\n",
      "Objective: tensor(0.6543, dtype=torch.float64, grad_fn=<NllLossBackward0>)\n",
      "Error: \n",
      " Accuracy: 58.9% \n",
      "\n",
      "Val accuracy: 58.88671875\n",
      "Penalty parameter: tensor([1.1000], dtype=torch.float64)\n",
      "Penalty: tensor(0.0090, dtype=torch.float64, grad_fn=<LinalgVectorNormBackward0>)\n",
      "\n",
      "Iter 2\n",
      "Epoch 0\n",
      "Epoch 200\n",
      "Epoch 400\n",
      "Epoch 600\n",
      "Epoch 800\n",
      "Objective: tensor(0.4658, dtype=torch.float64, grad_fn=<NllLossBackward0>)\n",
      "Error: \n",
      " Accuracy: 59.4% \n",
      "\n",
      "Val accuracy: 59.375\n",
      "Penalty parameter: tensor([1.2100], dtype=torch.float64)\n",
      "Penalty: tensor(0.0087, dtype=torch.float64, grad_fn=<LinalgVectorNormBackward0>)\n",
      "\n",
      "Iter 3\n",
      "Epoch 0\n",
      "Epoch 200\n",
      "Epoch 400\n",
      "Epoch 600\n",
      "Epoch 800\n",
      "Objective: tensor(0.3426, dtype=torch.float64, grad_fn=<NllLossBackward0>)\n",
      "Error: \n",
      " Accuracy: 58.5% \n",
      "\n",
      "Val accuracy: 58.49609375\n",
      "Penalty parameter: tensor([1.3310], dtype=torch.float64)\n",
      "Penalty: tensor(0.0084, dtype=torch.float64, grad_fn=<LinalgVectorNormBackward0>)\n",
      "\n",
      "Iter 4\n",
      "Epoch 0\n",
      "Epoch 200\n",
      "Epoch 400\n",
      "Epoch 600\n",
      "Epoch 800\n",
      "Objective: tensor(0.2638, dtype=torch.float64, grad_fn=<NllLossBackward0>)\n",
      "Error: \n",
      " Accuracy: 57.2% \n",
      "\n",
      "Val accuracy: 57.2265625\n",
      "Penalty parameter: tensor([1.4641], dtype=torch.float64)\n",
      "Penalty: tensor(0.0082, dtype=torch.float64, grad_fn=<LinalgVectorNormBackward0>)\n",
      "\n",
      "Iter 5\n",
      "Epoch 0\n",
      "Epoch 200\n",
      "Epoch 400\n",
      "Epoch 600\n",
      "Epoch 800\n",
      "Objective: tensor(0.2070, dtype=torch.float64, grad_fn=<NllLossBackward0>)\n",
      "Error: \n",
      " Accuracy: 55.9% \n",
      "\n",
      "Val accuracy: 55.859375\n",
      "Penalty parameter: tensor([1.6105], dtype=torch.float64)\n",
      "Penalty: tensor(0.0084, dtype=torch.float64, grad_fn=<LinalgVectorNormBackward0>)\n",
      "\n",
      "Iter 6\n",
      "Epoch 0\n",
      "Epoch 200\n",
      "Epoch 400\n",
      "Epoch 600\n",
      "Epoch 800\n",
      "Objective: tensor(0.1637, dtype=torch.float64, grad_fn=<NllLossBackward0>)\n",
      "Error: \n",
      " Accuracy: 55.5% \n",
      "\n",
      "Val accuracy: 55.46875\n",
      "Penalty parameter: tensor([1.7716], dtype=torch.float64)\n",
      "Penalty: tensor(0.0083, dtype=torch.float64, grad_fn=<LinalgVectorNormBackward0>)\n",
      "\n",
      "Iter 7\n",
      "Epoch 0\n",
      "Epoch 200\n",
      "Epoch 400\n",
      "Epoch 600\n",
      "Epoch 800\n",
      "Objective: tensor(0.1287, dtype=torch.float64, grad_fn=<NllLossBackward0>)\n",
      "Error: \n",
      " Accuracy: 54.9% \n",
      "\n",
      "Val accuracy: 54.8828125\n",
      "Penalty parameter: tensor([1.9487], dtype=torch.float64)\n",
      "Penalty: tensor(0.0082, dtype=torch.float64, grad_fn=<LinalgVectorNormBackward0>)\n",
      "\n",
      "Iter 8\n",
      "Epoch 0\n",
      "Epoch 200\n",
      "Epoch 400\n",
      "Epoch 600\n",
      "Epoch 800\n",
      "Objective: tensor(0.1017, dtype=torch.float64, grad_fn=<NllLossBackward0>)\n",
      "Error: \n",
      " Accuracy: 55.0% \n",
      "\n",
      "Val accuracy: 54.98046875\n",
      "Penalty parameter: tensor([2.1436], dtype=torch.float64)\n",
      "Penalty: tensor(0.0082, dtype=torch.float64, grad_fn=<LinalgVectorNormBackward0>)\n",
      "\n",
      "Iter 9\n",
      "Epoch 0\n",
      "Epoch 200\n",
      "Epoch 400\n",
      "Epoch 600\n",
      "Epoch 800\n",
      "Objective: tensor(0.0817, dtype=torch.float64, grad_fn=<NllLossBackward0>)\n",
      "Error: \n",
      " Accuracy: 54.4% \n",
      "\n",
      "Val accuracy: 54.39453125\n",
      "Penalty parameter: tensor([2.3579], dtype=torch.float64)\n",
      "Penalty: tensor(0.0077, dtype=torch.float64, grad_fn=<LinalgVectorNormBackward0>)\n",
      "\n",
      "Iter 10\n",
      "Epoch 0\n",
      "Epoch 200\n",
      "Epoch 400\n",
      "Epoch 600\n",
      "Epoch 800\n",
      "Objective: tensor(0.0654, dtype=torch.float64, grad_fn=<NllLossBackward0>)\n",
      "Error: \n",
      " Accuracy: 54.3% \n",
      "\n",
      "Val accuracy: 54.296875\n",
      "Penalty parameter: tensor([2.5937], dtype=torch.float64)\n",
      "Penalty: tensor(0.0085, dtype=torch.float64, grad_fn=<LinalgVectorNormBackward0>)\n",
      "\n",
      "Iter 11\n",
      "Epoch 0\n",
      "Epoch 200\n",
      "Epoch 400\n",
      "Epoch 600\n",
      "Epoch 800\n",
      "Objective: tensor(0.0516, dtype=torch.float64, grad_fn=<NllLossBackward0>)\n",
      "Error: \n",
      " Accuracy: 53.4% \n",
      "\n",
      "Val accuracy: 53.41796875\n",
      "Penalty parameter: tensor([2.8531], dtype=torch.float64)\n",
      "Penalty: tensor(0.0081, dtype=torch.float64, grad_fn=<LinalgVectorNormBackward0>)\n",
      "\n",
      "Iter 12\n",
      "Epoch 0\n",
      "Epoch 200\n",
      "Epoch 400\n",
      "Epoch 600\n",
      "Epoch 800\n",
      "Objective: tensor(0.0410, dtype=torch.float64, grad_fn=<NllLossBackward0>)\n",
      "Error: \n",
      " Accuracy: 53.1% \n",
      "\n",
      "Val accuracy: 53.125\n",
      "Penalty parameter: tensor([3.1384], dtype=torch.float64)\n",
      "Penalty: tensor(0.0082, dtype=torch.float64, grad_fn=<LinalgVectorNormBackward0>)\n",
      "\n",
      "Iter 13\n",
      "Epoch 0\n",
      "Epoch 200\n",
      "Epoch 400\n",
      "Epoch 600\n",
      "Epoch 800\n",
      "Objective: tensor(0.0331, dtype=torch.float64, grad_fn=<NllLossBackward0>)\n",
      "Error: \n",
      " Accuracy: 52.7% \n",
      "\n",
      "Val accuracy: 52.734375\n",
      "Penalty parameter: tensor([3.4523], dtype=torch.float64)\n",
      "Penalty: tensor(0.0081, dtype=torch.float64, grad_fn=<LinalgVectorNormBackward0>)\n",
      "\n",
      "Iter 14\n",
      "Epoch 0\n",
      "Epoch 200\n",
      "Epoch 400\n",
      "Epoch 600\n",
      "Epoch 800\n",
      "Objective: tensor(0.0268, dtype=torch.float64, grad_fn=<NllLossBackward0>)\n",
      "Error: \n",
      " Accuracy: 52.4% \n",
      "\n",
      "Val accuracy: 52.44140625\n",
      "Penalty parameter: tensor([3.7975], dtype=torch.float64)\n",
      "Penalty: tensor(0.0082, dtype=torch.float64, grad_fn=<LinalgVectorNormBackward0>)\n",
      "\n",
      "Iter 15\n",
      "Epoch 0\n",
      "Epoch 200\n",
      "Epoch 400\n",
      "Epoch 600\n",
      "Epoch 800\n",
      "Objective: tensor(0.0221, dtype=torch.float64, grad_fn=<NllLossBackward0>)\n",
      "Error: \n",
      " Accuracy: 52.3% \n",
      "\n",
      "Val accuracy: 52.34375\n",
      "Penalty parameter: tensor([4.1772], dtype=torch.float64)\n",
      "Penalty: tensor(0.0082, dtype=torch.float64, grad_fn=<LinalgVectorNormBackward0>)\n",
      "\n",
      "Iter 16\n",
      "Epoch 0\n",
      "Epoch 200\n",
      "Epoch 400\n",
      "Epoch 600\n",
      "Epoch 800\n",
      "Objective: tensor(0.0185, dtype=torch.float64, grad_fn=<NllLossBackward0>)\n",
      "Error: \n",
      " Accuracy: 52.6% \n",
      "\n",
      "Val accuracy: 52.63671875\n",
      "Penalty parameter: tensor([4.5950], dtype=torch.float64)\n",
      "Penalty: tensor(0.0081, dtype=torch.float64, grad_fn=<LinalgVectorNormBackward0>)\n",
      "\n",
      "Iter 17\n",
      "Epoch 0\n",
      "Epoch 200\n",
      "Epoch 400\n",
      "Epoch 600\n",
      "Epoch 800\n",
      "Objective: tensor(0.0154, dtype=torch.float64, grad_fn=<NllLossBackward0>)\n",
      "Error: \n",
      " Accuracy: 52.7% \n",
      "\n",
      "Val accuracy: 52.734375\n",
      "Penalty parameter: tensor([5.0545], dtype=torch.float64)\n",
      "Penalty: tensor(0.0082, dtype=torch.float64, grad_fn=<LinalgVectorNormBackward0>)\n",
      "\n",
      "Iter 18\n",
      "Epoch 0\n",
      "Epoch 200\n",
      "Epoch 400\n",
      "Epoch 600\n",
      "Epoch 800\n",
      "Objective: tensor(0.0131, dtype=torch.float64, grad_fn=<NllLossBackward0>)\n",
      "Error: \n",
      " Accuracy: 52.6% \n",
      "\n",
      "Val accuracy: 52.63671875\n",
      "Penalty parameter: tensor([5.5599], dtype=torch.float64)\n",
      "Penalty: tensor(0.0087, dtype=torch.float64, grad_fn=<LinalgVectorNormBackward0>)\n",
      "\n",
      "Iter 19\n",
      "Epoch 0\n",
      "Epoch 200\n",
      "Epoch 400\n",
      "Epoch 600\n",
      "Epoch 800\n",
      "Objective: tensor(0.0114, dtype=torch.float64, grad_fn=<NllLossBackward0>)\n",
      "Error: \n",
      " Accuracy: 52.2% \n",
      "\n",
      "Val accuracy: 52.24609375\n",
      "Penalty parameter: tensor([6.1159], dtype=torch.float64)\n",
      "Penalty: tensor(0.0084, dtype=torch.float64, grad_fn=<LinalgVectorNormBackward0>)\n",
      "\n",
      "Iter 20\n",
      "Epoch 0\n",
      "Epoch 200\n",
      "Epoch 400\n",
      "Epoch 600\n",
      "Epoch 800\n",
      "Objective: tensor(0.0097, dtype=torch.float64, grad_fn=<NllLossBackward0>)\n",
      "Error: \n",
      " Accuracy: 52.8% \n",
      "\n",
      "Val accuracy: 52.83203125\n",
      "Penalty parameter: tensor([6.7275], dtype=torch.float64)\n",
      "Penalty: tensor(0.0087, dtype=torch.float64, grad_fn=<LinalgVectorNormBackward0>)\n",
      "\n",
      "Iter 21\n",
      "Epoch 0\n",
      "Epoch 200\n",
      "Epoch 400\n",
      "Epoch 600\n",
      "Epoch 800\n",
      "Objective: tensor(0.0083, dtype=torch.float64, grad_fn=<NllLossBackward0>)\n",
      "Error: \n",
      " Accuracy: 52.7% \n",
      "\n",
      "Val accuracy: 52.734375\n",
      "Penalty parameter: tensor([7.4002], dtype=torch.float64)\n",
      "Penalty: tensor(0.0084, dtype=torch.float64, grad_fn=<LinalgVectorNormBackward0>)\n",
      "\n",
      "Iter 22\n",
      "Epoch 0\n",
      "Epoch 200\n",
      "Epoch 400\n"
     ]
    },
    {
     "ename": "KeyboardInterrupt",
     "evalue": "",
     "output_type": "error",
     "traceback": [
      "\u001B[0;31m---------------------------------------------------------------------------\u001B[0m",
      "\u001B[0;31mKeyboardInterrupt\u001B[0m                         Traceback (most recent call last)",
      "Cell \u001B[0;32mIn[38], line 2\u001B[0m\n\u001B[1;32m      1\u001B[0m model \u001B[38;5;241m=\u001B[39m RNN(input_size, hidden_size, num_layers, num_classes)\u001B[38;5;241m.\u001B[39mto(device\u001B[38;5;241m=\u001B[39mdevice, dtype\u001B[38;5;241m=\u001B[39mdouble_precision)\n\u001B[0;32m----> 2\u001B[0m \u001B[43mexact_penalty_with_adam\u001B[49m\u001B[43m(\u001B[49m\u001B[43mmu_rho\u001B[49m\u001B[38;5;241;43m=\u001B[39;49m\u001B[38;5;241;43m1.1\u001B[39;49m\u001B[43m,\u001B[49m\u001B[43m \u001B[49m\u001B[43mmu_eps\u001B[49m\u001B[38;5;241;43m=\u001B[39;49m\u001B[38;5;241;43m1e-5\u001B[39;49m\u001B[43m)\u001B[49m\n",
      "Cell \u001B[0;32mIn[37], line 17\u001B[0m, in \u001B[0;36mexact_penalty_with_adam\u001B[0;34m(mu_rho, mu_eps)\u001B[0m\n\u001B[1;32m     14\u001B[0m \u001B[38;5;66;03m# prev_accuracy = None\u001B[39;00m\n\u001B[1;32m     15\u001B[0m \u001B[38;5;28;01mfor\u001B[39;00m t \u001B[38;5;129;01min\u001B[39;00m \u001B[38;5;28mrange\u001B[39m(\u001B[38;5;241m1000\u001B[39m):\n\u001B[1;32m     16\u001B[0m     \u001B[38;5;66;03m# print(f\"Epoch {t+1}\\n-------------------------------\")\u001B[39;00m\n\u001B[0;32m---> 17\u001B[0m     \u001B[43mtrain_loop\u001B[49m\u001B[43m(\u001B[49m\u001B[43mmodel\u001B[49m\u001B[43m,\u001B[49m\u001B[43m \u001B[49m\u001B[43mmu\u001B[49m\u001B[43m,\u001B[49m\u001B[43m \u001B[49m\u001B[43moptimizer\u001B[49m\u001B[43m)\u001B[49m\n\u001B[1;32m     18\u001B[0m     \u001B[38;5;66;03m# val_accuracy = val_loop(val_dataloader, model)\u001B[39;00m\n\u001B[1;32m     19\u001B[0m     \u001B[38;5;66;03m# if prev_accuracy is not None and val_accuracy > prev_accuracy:\u001B[39;00m\n\u001B[1;32m     20\u001B[0m     \u001B[38;5;66;03m#     break\u001B[39;00m\n\u001B[1;32m     21\u001B[0m     \u001B[38;5;66;03m# prev_accuracy = val_accuracy\u001B[39;00m\n\u001B[1;32m     22\u001B[0m     \u001B[38;5;28;01mif\u001B[39;00m t \u001B[38;5;241m%\u001B[39m \u001B[38;5;241m200\u001B[39m \u001B[38;5;241m==\u001B[39m \u001B[38;5;241m0\u001B[39m:\n",
      "Cell \u001B[0;32mIn[22], line 4\u001B[0m, in \u001B[0;36mtrain_loop\u001B[0;34m(model, mu, optimizer)\u001B[0m\n\u001B[1;32m      1\u001B[0m \u001B[38;5;28;01mdef\u001B[39;00m\u001B[38;5;250m \u001B[39m\u001B[38;5;21mtrain_loop\u001B[39m(model, mu, optimizer):\n\u001B[1;32m      2\u001B[0m     model\u001B[38;5;241m.\u001B[39mtrain()\n\u001B[0;32m----> 4\u001B[0m     loss \u001B[38;5;241m=\u001B[39m \u001B[43mphi1\u001B[49m\u001B[43m(\u001B[49m\u001B[43mmodel\u001B[49m\u001B[43m,\u001B[49m\u001B[43m \u001B[49m\u001B[43mmu\u001B[49m\u001B[43m)\u001B[49m\n\u001B[1;32m      6\u001B[0m     loss\u001B[38;5;241m.\u001B[39mbackward()\n\u001B[1;32m      7\u001B[0m     optimizer\u001B[38;5;241m.\u001B[39mstep()\n",
      "Cell \u001B[0;32mIn[24], line 21\u001B[0m, in \u001B[0;36mphi1\u001B[0;34m(model, mu)\u001B[0m\n\u001B[1;32m     20\u001B[0m \u001B[38;5;28;01mdef\u001B[39;00m\u001B[38;5;250m \u001B[39m\u001B[38;5;21mphi1\u001B[39m(model, mu):\n\u001B[0;32m---> 21\u001B[0m     \u001B[38;5;28;01mreturn\u001B[39;00m \u001B[43mf\u001B[49m\u001B[43m(\u001B[49m\u001B[43mmodel\u001B[49m\u001B[43m,\u001B[49m\u001B[43m \u001B[49m\u001B[43minputs\u001B[49m\u001B[43m,\u001B[49m\u001B[43m \u001B[49m\u001B[43mlabels\u001B[49m\u001B[43m)\u001B[49m \u001B[38;5;241m+\u001B[39m mu \u001B[38;5;241m*\u001B[39m penalty(model)\n",
      "Cell \u001B[0;32mIn[24], line 2\u001B[0m, in \u001B[0;36mf\u001B[0;34m(model, inputs, labels)\u001B[0m\n\u001B[1;32m      1\u001B[0m \u001B[38;5;28;01mdef\u001B[39;00m\u001B[38;5;250m \u001B[39m\u001B[38;5;21mf\u001B[39m(model, inputs, labels):\n\u001B[0;32m----> 2\u001B[0m     logits \u001B[38;5;241m=\u001B[39m \u001B[43mmodel\u001B[49m\u001B[43m(\u001B[49m\u001B[43minputs\u001B[49m\u001B[43m)\u001B[49m\n\u001B[1;32m      3\u001B[0m     loss_fn \u001B[38;5;241m=\u001B[39m nn\u001B[38;5;241m.\u001B[39mCrossEntropyLoss()\n\u001B[1;32m      4\u001B[0m     \u001B[38;5;28;01mreturn\u001B[39;00m loss_fn(logits, labels)\n",
      "File \u001B[0;32m~/Desktop/s25/csci-5527/pygranso/.venv/lib/python3.12/site-packages/torch/nn/modules/module.py:1739\u001B[0m, in \u001B[0;36mModule._wrapped_call_impl\u001B[0;34m(self, *args, **kwargs)\u001B[0m\n\u001B[1;32m   1737\u001B[0m     \u001B[38;5;28;01mreturn\u001B[39;00m \u001B[38;5;28mself\u001B[39m\u001B[38;5;241m.\u001B[39m_compiled_call_impl(\u001B[38;5;241m*\u001B[39margs, \u001B[38;5;241m*\u001B[39m\u001B[38;5;241m*\u001B[39mkwargs)  \u001B[38;5;66;03m# type: ignore[misc]\u001B[39;00m\n\u001B[1;32m   1738\u001B[0m \u001B[38;5;28;01melse\u001B[39;00m:\n\u001B[0;32m-> 1739\u001B[0m     \u001B[38;5;28;01mreturn\u001B[39;00m \u001B[38;5;28;43mself\u001B[39;49m\u001B[38;5;241;43m.\u001B[39;49m\u001B[43m_call_impl\u001B[49m\u001B[43m(\u001B[49m\u001B[38;5;241;43m*\u001B[39;49m\u001B[43margs\u001B[49m\u001B[43m,\u001B[49m\u001B[43m \u001B[49m\u001B[38;5;241;43m*\u001B[39;49m\u001B[38;5;241;43m*\u001B[39;49m\u001B[43mkwargs\u001B[49m\u001B[43m)\u001B[49m\n",
      "File \u001B[0;32m~/Desktop/s25/csci-5527/pygranso/.venv/lib/python3.12/site-packages/torch/nn/modules/module.py:1750\u001B[0m, in \u001B[0;36mModule._call_impl\u001B[0;34m(self, *args, **kwargs)\u001B[0m\n\u001B[1;32m   1745\u001B[0m \u001B[38;5;66;03m# If we don't have any hooks, we want to skip the rest of the logic in\u001B[39;00m\n\u001B[1;32m   1746\u001B[0m \u001B[38;5;66;03m# this function, and just call forward.\u001B[39;00m\n\u001B[1;32m   1747\u001B[0m \u001B[38;5;28;01mif\u001B[39;00m \u001B[38;5;129;01mnot\u001B[39;00m (\u001B[38;5;28mself\u001B[39m\u001B[38;5;241m.\u001B[39m_backward_hooks \u001B[38;5;129;01mor\u001B[39;00m \u001B[38;5;28mself\u001B[39m\u001B[38;5;241m.\u001B[39m_backward_pre_hooks \u001B[38;5;129;01mor\u001B[39;00m \u001B[38;5;28mself\u001B[39m\u001B[38;5;241m.\u001B[39m_forward_hooks \u001B[38;5;129;01mor\u001B[39;00m \u001B[38;5;28mself\u001B[39m\u001B[38;5;241m.\u001B[39m_forward_pre_hooks\n\u001B[1;32m   1748\u001B[0m         \u001B[38;5;129;01mor\u001B[39;00m _global_backward_pre_hooks \u001B[38;5;129;01mor\u001B[39;00m _global_backward_hooks\n\u001B[1;32m   1749\u001B[0m         \u001B[38;5;129;01mor\u001B[39;00m _global_forward_hooks \u001B[38;5;129;01mor\u001B[39;00m _global_forward_pre_hooks):\n\u001B[0;32m-> 1750\u001B[0m     \u001B[38;5;28;01mreturn\u001B[39;00m \u001B[43mforward_call\u001B[49m\u001B[43m(\u001B[49m\u001B[38;5;241;43m*\u001B[39;49m\u001B[43margs\u001B[49m\u001B[43m,\u001B[49m\u001B[43m \u001B[49m\u001B[38;5;241;43m*\u001B[39;49m\u001B[38;5;241;43m*\u001B[39;49m\u001B[43mkwargs\u001B[49m\u001B[43m)\u001B[49m\n\u001B[1;32m   1752\u001B[0m result \u001B[38;5;241m=\u001B[39m \u001B[38;5;28;01mNone\u001B[39;00m\n\u001B[1;32m   1753\u001B[0m called_always_called_hooks \u001B[38;5;241m=\u001B[39m \u001B[38;5;28mset\u001B[39m()\n",
      "Cell \u001B[0;32mIn[16], line 28\u001B[0m, in \u001B[0;36mRNN.forward\u001B[0;34m(self, x)\u001B[0m\n\u001B[1;32m     26\u001B[0m \u001B[38;5;66;03m# Set initial hidden and cell states \u001B[39;00m\n\u001B[1;32m     27\u001B[0m h0 \u001B[38;5;241m=\u001B[39m torch\u001B[38;5;241m.\u001B[39mzeros(\u001B[38;5;28mself\u001B[39m\u001B[38;5;241m.\u001B[39mnum_layers, x\u001B[38;5;241m.\u001B[39msize(\u001B[38;5;241m0\u001B[39m), \u001B[38;5;28mself\u001B[39m\u001B[38;5;241m.\u001B[39mhidden_size)\u001B[38;5;241m.\u001B[39mto(device\u001B[38;5;241m=\u001B[39mdevice, dtype\u001B[38;5;241m=\u001B[39mdouble_precision)\n\u001B[0;32m---> 28\u001B[0m out, hidden \u001B[38;5;241m=\u001B[39m \u001B[38;5;28;43mself\u001B[39;49m\u001B[38;5;241;43m.\u001B[39;49m\u001B[43mrnn\u001B[49m\u001B[43m(\u001B[49m\u001B[43mx\u001B[49m\u001B[43m,\u001B[49m\u001B[43m \u001B[49m\u001B[43mh0\u001B[49m\u001B[43m)\u001B[49m  \u001B[38;5;66;03m# out: tensor of shape (batch_size, seq_length, hidden_size)\u001B[39;00m\n\u001B[1;32m     29\u001B[0m \u001B[38;5;66;03m#Reshaping the outputs such that it can be fit into the fully connected layer\u001B[39;00m\n\u001B[1;32m     30\u001B[0m out \u001B[38;5;241m=\u001B[39m \u001B[38;5;28mself\u001B[39m\u001B[38;5;241m.\u001B[39mfc(out[:, \u001B[38;5;241m-\u001B[39m\u001B[38;5;241m1\u001B[39m, :])\n",
      "File \u001B[0;32m~/Desktop/s25/csci-5527/pygranso/.venv/lib/python3.12/site-packages/torch/nn/modules/module.py:1739\u001B[0m, in \u001B[0;36mModule._wrapped_call_impl\u001B[0;34m(self, *args, **kwargs)\u001B[0m\n\u001B[1;32m   1737\u001B[0m     \u001B[38;5;28;01mreturn\u001B[39;00m \u001B[38;5;28mself\u001B[39m\u001B[38;5;241m.\u001B[39m_compiled_call_impl(\u001B[38;5;241m*\u001B[39margs, \u001B[38;5;241m*\u001B[39m\u001B[38;5;241m*\u001B[39mkwargs)  \u001B[38;5;66;03m# type: ignore[misc]\u001B[39;00m\n\u001B[1;32m   1738\u001B[0m \u001B[38;5;28;01melse\u001B[39;00m:\n\u001B[0;32m-> 1739\u001B[0m     \u001B[38;5;28;01mreturn\u001B[39;00m \u001B[38;5;28;43mself\u001B[39;49m\u001B[38;5;241;43m.\u001B[39;49m\u001B[43m_call_impl\u001B[49m\u001B[43m(\u001B[49m\u001B[38;5;241;43m*\u001B[39;49m\u001B[43margs\u001B[49m\u001B[43m,\u001B[49m\u001B[43m \u001B[49m\u001B[38;5;241;43m*\u001B[39;49m\u001B[38;5;241;43m*\u001B[39;49m\u001B[43mkwargs\u001B[49m\u001B[43m)\u001B[49m\n",
      "File \u001B[0;32m~/Desktop/s25/csci-5527/pygranso/.venv/lib/python3.12/site-packages/torch/nn/modules/module.py:1750\u001B[0m, in \u001B[0;36mModule._call_impl\u001B[0;34m(self, *args, **kwargs)\u001B[0m\n\u001B[1;32m   1745\u001B[0m \u001B[38;5;66;03m# If we don't have any hooks, we want to skip the rest of the logic in\u001B[39;00m\n\u001B[1;32m   1746\u001B[0m \u001B[38;5;66;03m# this function, and just call forward.\u001B[39;00m\n\u001B[1;32m   1747\u001B[0m \u001B[38;5;28;01mif\u001B[39;00m \u001B[38;5;129;01mnot\u001B[39;00m (\u001B[38;5;28mself\u001B[39m\u001B[38;5;241m.\u001B[39m_backward_hooks \u001B[38;5;129;01mor\u001B[39;00m \u001B[38;5;28mself\u001B[39m\u001B[38;5;241m.\u001B[39m_backward_pre_hooks \u001B[38;5;129;01mor\u001B[39;00m \u001B[38;5;28mself\u001B[39m\u001B[38;5;241m.\u001B[39m_forward_hooks \u001B[38;5;129;01mor\u001B[39;00m \u001B[38;5;28mself\u001B[39m\u001B[38;5;241m.\u001B[39m_forward_pre_hooks\n\u001B[1;32m   1748\u001B[0m         \u001B[38;5;129;01mor\u001B[39;00m _global_backward_pre_hooks \u001B[38;5;129;01mor\u001B[39;00m _global_backward_hooks\n\u001B[1;32m   1749\u001B[0m         \u001B[38;5;129;01mor\u001B[39;00m _global_forward_hooks \u001B[38;5;129;01mor\u001B[39;00m _global_forward_pre_hooks):\n\u001B[0;32m-> 1750\u001B[0m     \u001B[38;5;28;01mreturn\u001B[39;00m \u001B[43mforward_call\u001B[49m\u001B[43m(\u001B[49m\u001B[38;5;241;43m*\u001B[39;49m\u001B[43margs\u001B[49m\u001B[43m,\u001B[49m\u001B[43m \u001B[49m\u001B[38;5;241;43m*\u001B[39;49m\u001B[38;5;241;43m*\u001B[39;49m\u001B[43mkwargs\u001B[49m\u001B[43m)\u001B[49m\n\u001B[1;32m   1752\u001B[0m result \u001B[38;5;241m=\u001B[39m \u001B[38;5;28;01mNone\u001B[39;00m\n\u001B[1;32m   1753\u001B[0m called_always_called_hooks \u001B[38;5;241m=\u001B[39m \u001B[38;5;28mset\u001B[39m()\n",
      "File \u001B[0;32m~/Desktop/s25/csci-5527/pygranso/.venv/lib/python3.12/site-packages/torch/nn/modules/rnn.py:716\u001B[0m, in \u001B[0;36mRNN.forward\u001B[0;34m(self, input, hx)\u001B[0m\n\u001B[1;32m    714\u001B[0m \u001B[38;5;28;01mif\u001B[39;00m batch_sizes \u001B[38;5;129;01mis\u001B[39;00m \u001B[38;5;28;01mNone\u001B[39;00m:\n\u001B[1;32m    715\u001B[0m     \u001B[38;5;28;01mif\u001B[39;00m \u001B[38;5;28mself\u001B[39m\u001B[38;5;241m.\u001B[39mmode \u001B[38;5;241m==\u001B[39m \u001B[38;5;124m\"\u001B[39m\u001B[38;5;124mRNN_TANH\u001B[39m\u001B[38;5;124m\"\u001B[39m:\n\u001B[0;32m--> 716\u001B[0m         result \u001B[38;5;241m=\u001B[39m \u001B[43m_VF\u001B[49m\u001B[38;5;241;43m.\u001B[39;49m\u001B[43mrnn_tanh\u001B[49m\u001B[43m(\u001B[49m\n\u001B[1;32m    717\u001B[0m \u001B[43m            \u001B[49m\u001B[38;5;28;43minput\u001B[39;49m\u001B[43m,\u001B[49m\n\u001B[1;32m    718\u001B[0m \u001B[43m            \u001B[49m\u001B[43mhx\u001B[49m\u001B[43m,\u001B[49m\n\u001B[1;32m    719\u001B[0m \u001B[43m            \u001B[49m\u001B[38;5;28;43mself\u001B[39;49m\u001B[38;5;241;43m.\u001B[39;49m\u001B[43m_flat_weights\u001B[49m\u001B[43m,\u001B[49m\u001B[43m  \u001B[49m\u001B[38;5;66;43;03m# type: ignore[arg-type]\u001B[39;49;00m\n\u001B[1;32m    720\u001B[0m \u001B[43m            \u001B[49m\u001B[38;5;28;43mself\u001B[39;49m\u001B[38;5;241;43m.\u001B[39;49m\u001B[43mbias\u001B[49m\u001B[43m,\u001B[49m\n\u001B[1;32m    721\u001B[0m \u001B[43m            \u001B[49m\u001B[38;5;28;43mself\u001B[39;49m\u001B[38;5;241;43m.\u001B[39;49m\u001B[43mnum_layers\u001B[49m\u001B[43m,\u001B[49m\n\u001B[1;32m    722\u001B[0m \u001B[43m            \u001B[49m\u001B[38;5;28;43mself\u001B[39;49m\u001B[38;5;241;43m.\u001B[39;49m\u001B[43mdropout\u001B[49m\u001B[43m,\u001B[49m\n\u001B[1;32m    723\u001B[0m \u001B[43m            \u001B[49m\u001B[38;5;28;43mself\u001B[39;49m\u001B[38;5;241;43m.\u001B[39;49m\u001B[43mtraining\u001B[49m\u001B[43m,\u001B[49m\n\u001B[1;32m    724\u001B[0m \u001B[43m            \u001B[49m\u001B[38;5;28;43mself\u001B[39;49m\u001B[38;5;241;43m.\u001B[39;49m\u001B[43mbidirectional\u001B[49m\u001B[43m,\u001B[49m\n\u001B[1;32m    725\u001B[0m \u001B[43m            \u001B[49m\u001B[38;5;28;43mself\u001B[39;49m\u001B[38;5;241;43m.\u001B[39;49m\u001B[43mbatch_first\u001B[49m\u001B[43m,\u001B[49m\n\u001B[1;32m    726\u001B[0m \u001B[43m        \u001B[49m\u001B[43m)\u001B[49m\n\u001B[1;32m    727\u001B[0m     \u001B[38;5;28;01melse\u001B[39;00m:\n\u001B[1;32m    728\u001B[0m         result \u001B[38;5;241m=\u001B[39m _VF\u001B[38;5;241m.\u001B[39mrnn_relu(\n\u001B[1;32m    729\u001B[0m             \u001B[38;5;28minput\u001B[39m,\n\u001B[1;32m    730\u001B[0m             hx,\n\u001B[0;32m   (...)\u001B[0m\n\u001B[1;32m    737\u001B[0m             \u001B[38;5;28mself\u001B[39m\u001B[38;5;241m.\u001B[39mbatch_first,\n\u001B[1;32m    738\u001B[0m         )\n",
      "\u001B[0;31mKeyboardInterrupt\u001B[0m: "
     ]
    }
   ],
   "execution_count": 38
  },
  {
   "metadata": {},
   "cell_type": "markdown",
   "source": "### Train Acc",
   "id": "72b44d9feca61ae8"
  },
  {
   "metadata": {
    "ExecuteTime": {
     "end_time": "2025-04-21T03:30:08.242897Z",
     "start_time": "2025-04-21T03:30:08.224233Z"
    }
   },
   "cell_type": "code",
   "source": [
    "model.eval()\n",
    "\n",
    "logits = model(inputs)\n",
    "_, predicted = torch.max(logits.data, 1)\n",
    "correct = (predicted == labels).sum().item()\n",
    "print(\"Final acc = {:.2f}%\".format((100 * correct/len(inputs))))  "
   ],
   "id": "b779c0e62c27ffd7",
   "outputs": [
    {
     "name": "stdout",
     "output_type": "stream",
     "text": [
      "Final acc = 100.00%\n"
     ]
    }
   ],
   "execution_count": 39
  },
  {
   "metadata": {},
   "cell_type": "markdown",
   "source": "### Test Acc",
   "id": "f90d6ebbf643db1b"
  },
  {
   "metadata": {
    "ExecuteTime": {
     "end_time": "2025-04-21T03:30:09.695789Z",
     "start_time": "2025-04-21T03:30:09.640710Z"
    }
   },
   "cell_type": "code",
   "source": "val_loop(val_dataloader, model)",
   "id": "693010162b95deb0",
   "outputs": [
    {
     "name": "stdout",
     "output_type": "stream",
     "text": [
      "Error: \n",
      " Accuracy: 53.1% \n",
      "\n"
     ]
    },
    {
     "data": {
      "text/plain": [
       "53.125"
      ]
     },
     "execution_count": 40,
     "metadata": {},
     "output_type": "execute_result"
    }
   ],
   "execution_count": 40
  },
  {
   "metadata": {},
   "cell_type": "markdown",
   "source": "### Feasibility",
   "id": "e05c9c03f9cc8564"
  },
  {
   "metadata": {
    "ExecuteTime": {
     "end_time": "2025-04-21T03:30:11.039273Z",
     "start_time": "2025-04-21T03:30:11.024525Z"
    }
   },
   "cell_type": "code",
   "source": "penalty(model)",
   "id": "126f0bf54149e893",
   "outputs": [
    {
     "data": {
      "text/plain": [
       "tensor(0.2281, dtype=torch.float64, grad_fn=<LinalgVectorNormBackward0>)"
      ]
     },
     "execution_count": 41,
     "metadata": {},
     "output_type": "execute_result"
    }
   ],
   "execution_count": 41
  },
  {
   "metadata": {
    "ExecuteTime": {
     "end_time": "2025-04-21T03:30:11.512840Z",
     "start_time": "2025-04-21T03:30:11.507886Z"
    }
   },
   "cell_type": "code",
   "source": "l2_penalty(model)",
   "id": "9d54c54625a1224b",
   "outputs": [
    {
     "data": {
      "text/plain": [
       "tensor(0.0090, dtype=torch.float64, grad_fn=<LinalgVectorNormBackward0>)"
      ]
     },
     "execution_count": 42,
     "metadata": {},
     "output_type": "execute_result"
    }
   ],
   "execution_count": 42
  },
  {
   "metadata": {},
   "cell_type": "markdown",
   "source": "### Graph",
   "id": "cc98414749f6c595"
  },
  {
   "metadata": {
    "ExecuteTime": {
     "end_time": "2025-04-21T04:41:41.877262Z",
     "start_time": "2025-04-21T04:41:41.662426Z"
    }
   },
   "cell_type": "code",
   "source": [
    "# Plot results\n",
    "x = np.arange(0, len(train_acc)+1)\n",
    "\n",
    "plt.plot(x, [0] + train_acc, label='Train set accuracy', marker='o')\n",
    "plt.plot(x, [0] + test_acc, label='Validation set accuracy', marker='s')\n",
    "\n",
    "plt.xlabel('Outer Loop Iterations')\n",
    "plt.ylabel('Accuracy (%)')\n",
    "plt.title('Train vs Validation Accuracy Over Time - EP w/ Adam (1000 inner iterations)'.format(batch_size))\n",
    "\n",
    "plt.legend()\n",
    "\n",
    "plt.show()"
   ],
   "id": "284589d790b67a04",
   "outputs": [
    {
     "data": {
      "text/plain": [
       "<Figure size 640x480 with 1 Axes>"
      ],
      "image/png": "[encoded data removed]"
     },
     "metadata": {},
     "output_type": "display_data"
    }
   ],
   "execution_count": 50
  },
  {
   "metadata": {
    "ExecuteTime": {
     "end_time": "2025-04-21T03:41:35.339562Z",
     "start_time": "2025-04-21T03:41:35.313147Z"
    }
   },
   "cell_type": "code",
   "source": [
    "train_acc_1000 = train_acc.copy()\n",
    "test_acc_1000 = test_acc.copy()"
   ],
   "id": "e7f1434e852268",
   "outputs": [],
   "execution_count": 46
  },
  {
   "metadata": {},
   "cell_type": "markdown",
   "source": "Adam overfits like crazy with many inner loops",
   "id": "6b3e98b73a3d41e8"
  },
  {
   "metadata": {},
   "cell_type": "markdown",
   "source": "## Exact Penalty with Adam and Higher Penalty Parameter",
   "id": "12419edbd6a08a23"
  },
  {
   "metadata": {},
   "cell_type": "markdown",
   "source": "### 1000 inner epochs",
   "id": "84aa33e0eced2aa"
  },
  {
   "metadata": {},
   "cell_type": "code",
   "source": [
    "def exact_penalty_with_adam(mu_rho, mu_eps):\n",
    "    # res_model = res_loss = res_accuracy = res_label_smoothing = res_optimizer = None\n",
    "    global model\n",
    "    model.train()\n",
    "    \n",
    "    mu = torch.tensor([1.], dtype=double_precision)\n",
    "\n",
    "    for iteration in range(1000):\n",
    "        print(\"Iter\", iteration)\n",
    "        \n",
    "        # Adam\n",
    "        optimizer = torch.optim.Adam(model.parameters())\n",
    "        \n",
    "        # prev_accuracy = None\n",
    "        for t in range(1000):\n",
    "            # print(f\"Epoch {t+1}\\n-------------------------------\")\n",
    "            train_loop(model, mu, optimizer)\n",
    "            # val_accuracy = val_loop(val_dataloader, model)\n",
    "            # if prev_accuracy is not None and val_accuracy > prev_accuracy:\n",
    "            #     break\n",
    "            # prev_accuracy = val_accuracy\n",
    "        \n",
    "        # Exact penalty update\n",
    "        h = penalty(model)\n",
    "        print(\"Objective:\", f(model, inputs, labels))\n",
    "        val_accuracy = val_loop(val_dataloader, model)\n",
    "        print(\"Val accuracy:\", val_accuracy)\n",
    "        print(\"Penalty parameter:\", mu)\n",
    "        print(\"Penalty:\", h)\n",
    "        if h < 1e-3:  # if h(xk ) ≤ τ\n",
    "            break\n",
    "\n",
    "        # Choose new penalty parameter µk+1 > µk ;\n",
    "        if mu * h > mu_eps:\n",
    "            mu *= mu_rho\n",
    "\n",
    "        # Choose new starting point (stay as optimal x1, x2)\n",
    "\n",
    "        print()"
   ],
   "id": "69100c72f70abb69",
   "outputs": [],
   "execution_count": null
  },
  {
   "metadata": {},
   "cell_type": "code",
   "source": [
    "model = RNN(input_size, hidden_size, num_layers, num_classes).to(device=device, dtype=double_precision)\n",
    "exact_penalty_with_adam(mu_rho=1.5, mu_eps=1e-5)"
   ],
   "id": "3782d9f47e526c63",
   "outputs": [],
   "execution_count": null
  },
  {
   "metadata": {},
   "cell_type": "code",
   "source": [
    "model.eval()\n",
    "\n",
    "logits = model(inputs)\n",
    "_, predicted = torch.max(logits.data, 1)\n",
    "correct = (predicted == labels).sum().item()\n",
    "print(\"Final acc = {:.2f}%\".format((100 * correct/len(inputs))))  "
   ],
   "id": "97833d6ebc9f8c28",
   "outputs": [],
   "execution_count": null
  },
  {
   "metadata": {
    "ExecuteTime": {
     "end_time": "2025-04-21T04:21:59.573905Z",
     "start_time": "2025-04-21T04:21:59.513942Z"
    }
   },
   "cell_type": "code",
   "source": "max(test_acc_100)",
   "id": "a4a8e5053bd15253",
   "outputs": [
    {
     "data": {
      "text/plain": [
       "0.525390625"
      ]
     },
     "execution_count": 48,
     "metadata": {},
     "output_type": "execute_result"
    }
   ],
   "execution_count": 48
  },
  {
   "metadata": {
    "ExecuteTime": {
     "end_time": "2025-04-21T04:22:03.000040Z",
     "start_time": "2025-04-21T04:22:02.994904Z"
    }
   },
   "cell_type": "code",
   "source": "max(test_acc_1000)",
   "id": "740fbeba012d3db5",
   "outputs": [
    {
     "data": {
      "text/plain": [
       "0.59375"
      ]
     },
     "execution_count": 49,
     "metadata": {},
     "output_type": "execute_result"
    }
   ],
   "execution_count": 49
  },
  {
   "metadata": {},
   "cell_type": "code",
   "outputs": [],
   "execution_count": null,
   "source": "",
   "id": "9375af266d61c713"
  }
 ],
 "metadata": {
  "kernelspec": {
   "display_name": "Python 3 (ipykernel)",
   "language": "python",
   "name": "python3"
  },
  "language_info": {
   "codemirror_mode": {
    "name": "ipython",
    "version": 3
   },
   "file_extension": ".py",
   "mimetype": "text/x-python",
   "name": "python",
   "nbconvert_exporter": "python",
   "pygments_lexer": "ipython3",
   "version": "3.9.7"
  }
 },
 "nbformat": 4,
 "nbformat_minor": 5
}
