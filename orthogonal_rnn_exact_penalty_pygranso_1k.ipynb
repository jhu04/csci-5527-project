{
 "cells": [
  {
   "cell_type": "markdown",
   "id": "5257bb27",
   "metadata": {},
   "source": [
    "# Orthogonal RNN\n",
    "\n",
    "Train Orthogonal RNN for MNIST classification based on [this Paper](https://arxiv.org/pdf/1901.08428.pdf)\n",
    "\n",
    "NOTE: this example is still under development. "
   ]
  },
  {
   "cell_type": "markdown",
   "id": "c859c154",
   "metadata": {},
   "source": [
    "## Problem Description"
   ]
  },
  {
   "cell_type": "markdown",
   "id": "b96269c7",
   "metadata": {},
   "source": [
    "For each element in the input sequence, each layer computes the following function:\n",
    "$$h_t=\\tanh(W_{ih}x_t+b_{ih}+W_{hh}h_{t-1}+b_hh)$$\n",
    "\n",
    "where $h_{t}$ is the hidden state at time $t$, and $h_{t-1}$ is the hidden state of the previous layer at time $t-1$ or the initial hidden state at time $o$. \n",
    "\n",
    "For each layer, we have the orthogonal constraint:\n",
    "$$ W_{hh}^T W_{hh} = I $$"
   ]
  },
  {
   "cell_type": "markdown",
   "id": "08dfdd50",
   "metadata": {},
   "source": [
    "## Modules Importing\n",
    "Import all necessary modules and add PyGRANSO src folder to system path. "
   ]
  },
  {
   "cell_type": "code",
   "id": "90ed32f9",
   "metadata": {
    "ExecuteTime": {
     "end_time": "2025-04-21T03:29:22.082186Z",
     "start_time": "2025-04-21T03:29:19.272797Z"
    }
   },
   "source": [
    "import time\n",
    "import torch\n",
    "import sys\n",
    "## Adding PyGRANSO directories. Should be modified by user\n",
    "sys.path.append('.')\n",
    "from pygranso.pygranso import pygranso\n",
    "from pygranso.pygransoStruct import pygransoStruct \n",
    "from pygranso.private.getNvar import getNvarTorch\n",
    "import torch.nn as nn\n",
    "from torchvision import datasets\n",
    "from torchvision.transforms import ToTensor\n",
    "from pygranso.private.getObjGrad import getObjGradDL"
   ],
   "outputs": [],
   "execution_count": 1
  },
  {
   "metadata": {
    "ExecuteTime": {
     "end_time": "2025-04-21T03:29:22.089471Z",
     "start_time": "2025-04-21T03:29:22.083696Z"
    }
   },
   "cell_type": "code",
   "source": [
    "import torch\n",
    "\n",
    "# fix the random seed\n",
    "torch.manual_seed(55272025)\n",
    "\n",
    "w = 8"
   ],
   "id": "f689ea212cbe52ff",
   "outputs": [],
   "execution_count": 2
  },
  {
   "cell_type": "markdown",
   "id": "17a1b7fe",
   "metadata": {},
   "source": [
    "## Data Initialization \n",
    "Specify torch device, neural network architecture, and generate data.\n",
    "\n",
    "NOTE: please specify path for downloading data.\n",
    "\n",
    "Use GPU for this problem. If no cuda device available, please set *device = torch.device('cpu')*"
   ]
  },
  {
   "cell_type": "code",
   "id": "8b4842e1",
   "metadata": {
    "ExecuteTime": {
     "end_time": "2025-04-21T03:29:27.082545Z",
     "start_time": "2025-04-21T03:29:22.090569Z"
    }
   },
   "source": [
    "device = torch.device('cpu')\n",
    "\n",
    "sequence_length = 28\n",
    "input_size = 28\n",
    "hidden_size = 30\n",
    "num_layers = 1\n",
    "num_classes = 10\n",
    "batch_size = 1024\n",
    "\n",
    "\n",
    "double_precision = torch.double\n",
    "\n",
    "class RNN(nn.Module):\n",
    "    \n",
    "    def __init__(self, input_size, hidden_size, num_layers, num_classes):\n",
    "        super(RNN, self).__init__()\n",
    "        self.hidden_size = hidden_size\n",
    "        self.num_layers = num_layers\n",
    "        # self.lstm = nn.LSTM(input_size, hidden_size, num_layers, batch_first=True)\n",
    "        self.rnn = nn.RNN(input_size, hidden_size, num_layers, batch_first=True)\n",
    "        self.fc = nn.Linear(hidden_size, num_classes)\n",
    "        pass\n",
    "    \n",
    "    def forward(self, x):\n",
    "        x = torch.reshape(x,(batch_size,sequence_length,input_size))\n",
    "        # Set initial hidden and cell states \n",
    "        h0 = torch.zeros(self.num_layers, x.size(0), self.hidden_size).to(device=device, dtype=double_precision)\n",
    "        out, hidden = self.rnn(x, h0)  # out: tensor of shape (batch_size, seq_length, hidden_size)\n",
    "        #Reshaping the outputs such that it can be fit into the fully connected layer\n",
    "        out = self.fc(out[:, -1, :])\n",
    "        return out\n",
    "    \n",
    "torch.manual_seed(0)\n",
    "\n",
    "model = RNN(input_size, hidden_size, num_layers, num_classes).to(device=device, dtype=double_precision)\n",
    "model.train()\n",
    "\n",
    "train_data = datasets.MNIST(\n",
    "    root = './examples/data/mnist',\n",
    "    train = True,                         \n",
    "    transform = ToTensor(), \n",
    "    download = True,            \n",
    ") \n",
    "test_data = datasets.MNIST(\n",
    "    root = './examples/data/mnist',\n",
    "    train = False,                         \n",
    "    transform = ToTensor(), \n",
    "    download = True,            \n",
    ") \n",
    "\n",
    "loaders = {\n",
    "    'train' : torch.utils.data.DataLoader(train_data, \n",
    "                                        batch_size=batch_size, \n",
    "                                        shuffle=True, \n",
    "                                        num_workers=1),\n",
    "    'test' : torch.utils.data.DataLoader(test_data, \n",
    "                                        batch_size=batch_size, \n",
    "                                        shuffle=True, \n",
    "                                        num_workers=1),\n",
    "}\n",
    "\n",
    "inputs, labels = next(iter(loaders['train']))\n",
    "inputs, labels = inputs.reshape(-1, sequence_length, input_size).to(device=device, dtype=double_precision), labels.to(device=device)\n",
    "\n",
    "test_inputs, test_labels = next(iter(loaders['test']))\n",
    "test_inputs, test_labels = test_inputs.reshape(-1, sequence_length, input_size).to(device=device, dtype=double_precision), test_labels.to(device=device)"
   ],
   "outputs": [],
   "execution_count": 3
  },
  {
   "cell_type": "markdown",
   "id": "ec80716b",
   "metadata": {},
   "source": [
    "## Function Set-Up\n",
    "\n",
    "Encode the optimization variables, and objective and constraint functions.\n",
    "\n",
    "Note: please strictly follow the format of comb_fn, which will be used in the PyGRANSO main algortihm."
   ]
  },
  {
   "cell_type": "code",
   "id": "fb360e75",
   "metadata": {
    "ExecuteTime": {
     "end_time": "2025-04-21T03:29:27.093369Z",
     "start_time": "2025-04-21T03:29:27.088055Z"
    }
   },
   "source": [
    "def user_fn(model,inputs,labels):\n",
    "    # objective function    \n",
    "    logits = model(inputs)\n",
    "    criterion = nn.CrossEntropyLoss()\n",
    "    f = criterion(logits, labels)\n",
    "\n",
    "    A = list(model.parameters())[1]\n",
    "\n",
    "    # inequality constraint\n",
    "    ci = None\n",
    "\n",
    "    # equality constraint \n",
    "    # special orthogonal group\n",
    "    \n",
    "    ce = pygransoStruct()\n",
    "\n",
    "    c1_vec = (A.T @ A \n",
    "              - torch.eye(hidden_size)\n",
    "              .to(device=device, dtype=double_precision)\n",
    "             ).reshape(1,-1)\n",
    "    \n",
    "    ce.c1 = torch.linalg.vector_norm(c1_vec,2) # l2 folding to reduce the total number of constraints\n",
    "    # ce.c2 = torch.det(A) - 1\n",
    "\n",
    "    # ce = None\n",
    "\n",
    "    return [f,ci,ce]\n",
    "\n",
    "comb_fn = lambda model : user_fn(model,inputs,labels)"
   ],
   "outputs": [],
   "execution_count": 4
  },
  {
   "cell_type": "markdown",
   "id": "f0f55ace",
   "metadata": {},
   "source": [
    "## User Options\n",
    "Specify user-defined options for PyGRANSO "
   ]
  },
  {
   "cell_type": "code",
   "id": "f3a65b57",
   "metadata": {
    "ExecuteTime": {
     "end_time": "2025-04-21T03:29:27.101648Z",
     "start_time": "2025-04-21T03:29:27.095131Z"
    }
   },
   "source": [
    "opts = pygransoStruct()\n",
    "opts.torch_device = device\n",
    "nvar = getNvarTorch(model.parameters())\n",
    "opts.x0 = torch.nn.utils.parameters_to_vector(model.parameters()).detach().reshape(nvar,1)\n",
    "opts.opt_tol = 1e-3\n",
    "opts.viol_eq_tol = 1e-4\n",
    "# opts.maxit = 150\n",
    "# opts.fvalquit = 1e-6\n",
    "opts.print_level = 1\n",
    "opts.print_frequency = 50\n",
    "# opts.print_ascii = True\n",
    "# opts.limited_mem_size = 100\n",
    "opts.double_precision = True\n",
    "\n",
    "opts.mu0 = 1"
   ],
   "outputs": [],
   "execution_count": 5
  },
  {
   "cell_type": "markdown",
   "id": "754ba30a",
   "metadata": {},
   "source": [
    "## Initial Test \n",
    "Check initial accuracy of the RNN model"
   ]
  },
  {
   "cell_type": "code",
   "id": "711f0e9c",
   "metadata": {
    "ExecuteTime": {
     "end_time": "2025-04-21T03:29:27.134395Z",
     "start_time": "2025-04-21T03:29:27.104725Z"
    }
   },
   "source": [
    "logits = model(inputs)\n",
    "_, predicted = torch.max(logits.data, 1)\n",
    "correct = (predicted == labels).sum().item()\n",
    "print(\"Initial acc = {:.2f}%\".format((100 * correct/len(inputs))))  "
   ],
   "outputs": [
    {
     "name": "stdout",
     "output_type": "stream",
     "text": [
      "Initial acc = 8.79%\n"
     ]
    }
   ],
   "execution_count": 6
  },
  {
   "metadata": {},
   "cell_type": "markdown",
   "source": "# Exact Penalty with PyGRANSO",
   "id": "76f5a81d9b657fbd"
  },
  {
   "metadata": {
    "ExecuteTime": {
     "end_time": "2025-04-21T03:29:27.137907Z",
     "start_time": "2025-04-21T03:29:27.135354Z"
    }
   },
   "cell_type": "code",
   "source": [
    "import torch\n",
    "from torch.utils.data import Dataset, DataLoader\n",
    "from torch.nn import CrossEntropyLoss\n",
    "from torch.nn.functional import one_hot"
   ],
   "id": "6912929758dcdf8e",
   "outputs": [],
   "execution_count": 7
  },
  {
   "metadata": {
    "ExecuteTime": {
     "end_time": "2025-04-21T03:29:27.141887Z",
     "start_time": "2025-04-21T03:29:27.139227Z"
    }
   },
   "cell_type": "code",
   "source": [
    "train_acc = []\n",
    "test_acc = []"
   ],
   "id": "76b884454bef55de",
   "outputs": [],
   "execution_count": 8
  },
  {
   "metadata": {
    "ExecuteTime": {
     "end_time": "2025-04-21T03:29:27.145200Z",
     "start_time": "2025-04-21T03:29:27.142903Z"
    }
   },
   "cell_type": "code",
   "source": "val_dataloader = loaders['test']",
   "id": "8bb6ad6b8ca802e",
   "outputs": [],
   "execution_count": 9
  },
  {
   "metadata": {
    "ExecuteTime": {
     "end_time": "2025-04-21T03:29:27.150831Z",
     "start_time": "2025-04-21T03:29:27.148011Z"
    }
   },
   "cell_type": "code",
   "source": [
    "def f(model, inputs, labels):\n",
    "    logits = model(inputs)\n",
    "    loss_fn = nn.CrossEntropyLoss()\n",
    "    return loss_fn(logits, labels)\n",
    "\n",
    "def penalty(model):\n",
    "    A = list(model.parameters())[1]\n",
    "    \n",
    "    # print(A)\n",
    "    \n",
    "    return torch.norm(A.T @ A - torch.eye(hidden_size), p=1)\n",
    "\n",
    "def l2_penalty(model):\n",
    "    A = list(model.parameters())[1]\n",
    "    \n",
    "    # print(A)\n",
    "    \n",
    "    return torch.norm(A.T @ A - torch.eye(hidden_size))\n",
    "\n",
    "def phi1(model, mu):\n",
    "    return f(model, inputs, labels) + mu * penalty(model)"
   ],
   "id": "a2c5cd2d045d0837",
   "outputs": [],
   "execution_count": 10
  },
  {
   "metadata": {
    "ExecuteTime": {
     "end_time": "2025-04-21T03:29:27.156619Z",
     "start_time": "2025-04-21T03:29:27.152110Z"
    }
   },
   "cell_type": "code",
   "source": [
    "def train_loop(model, mu, optimizer):\n",
    "    model.train()\n",
    "    \n",
    "    loss = phi1(model, mu)\n",
    "\n",
    "    loss.backward()\n",
    "    optimizer.step()\n",
    "    optimizer.zero_grad()\n",
    "\n",
    "def val_loop(dataloader, model):\n",
    "    model.eval()\n",
    "    # size = len(dataloader.dataset)\n",
    "    size = batch_size\n",
    "    correct = 0\n",
    "\n",
    "    with torch.no_grad():\n",
    "        logits = model(inputs)\n",
    "        _, predicted = torch.max(logits.data, 1)\n",
    "        train_acc.append((predicted == labels).sum().item() / size)\n",
    "        \n",
    "        logits = model(test_inputs)\n",
    "        _, predicted = torch.max(logits.data, 1)\n",
    "        c = (predicted == test_labels).sum().item()\n",
    "        test_acc.append(c / size)\n",
    "        correct += c\n",
    "    \n",
    "    correct /= size\n",
    "    print(f\"Error: \\n Accuracy: {(100*correct):>0.1f}% \\n\")\n",
    "    return 100*correct"
   ],
   "id": "8b7039555d8fc170",
   "outputs": [],
   "execution_count": 11
  },
  {
   "metadata": {},
   "cell_type": "markdown",
   "source": "### 1000 inner epochs",
   "id": "84b31fd5f87d140"
  },
  {
   "metadata": {
    "ExecuteTime": {
     "end_time": "2025-04-21T03:29:27.161769Z",
     "start_time": "2025-04-21T03:29:27.157533Z"
    }
   },
   "cell_type": "code",
   "source": [
    "def exact_penalty_with_pygranso(mu_rho, mu_eps):\n",
    "    mu = torch.tensor([1.], dtype=double_precision)\n",
    "\n",
    "    for iteration in range(1000):\n",
    "        print(\"Iter\", iteration)\n",
    "        \n",
    "        # PyGRANSO\n",
    "        def comb_fn(model):\n",
    "            # objective function\n",
    "            phi1_x_mu = phi1(model, mu)\n",
    "        \n",
    "            # inequality constraint, matrix form\n",
    "            ci = None\n",
    "        \n",
    "            # equality constraint \n",
    "            ce = None\n",
    "        \n",
    "            return [phi1_x_mu,ci,ce]\n",
    "        \n",
    "        opts = pygransoStruct()\n",
    "        # option for switching QP solver. We only have osqp as the only qp solver in current version. Default is osqp\n",
    "        # opts.QPsolver = 'osqp'\n",
    "        \n",
    "        # set an intial point\n",
    "        # All the user-provided data (vector/matrix/tensor) must be in torch tensor format. \n",
    "        # As PyTorch tensor is single precision by default, one must explicitly set `dtype=torch.double`.\n",
    "        # Also, please make sure the device of provided torch tensor is the same as opts.torch_device.\n",
    "        nvar = getNvarTorch(model.parameters())\n",
    "        opts.x0 = torch.nn.utils.parameters_to_vector(model.parameters()).detach().reshape(nvar,1)\n",
    "        opts.torch_device = device\n",
    "        opts.opt_tol = 1e-5\n",
    "        opts.viol_eq_tol = 1e-5\n",
    "        opts.print_level = 1\n",
    "        opts.print_frequency = 50\n",
    "        \n",
    "        # opts.maxit = 1000 yields 80% acc but seems far from reaching stationarity\n",
    "        #  900 ║  - │   -   ║  0.76603445858 ║   -  │   -  ║ QN │     6 │ 0.031250 ║     1 │ 0.246480   ║ \n",
    "        #  950 ║  - │   -   ║  0.70312720877 ║   -  │   -  ║ QN │     6 │ 0.031250 ║     1 │ 0.471985   ║ \n",
    "        # ═════╬════════════╬════════════════╬═════════════╬═══════════════════════╬════════════════════╣\n",
    "        #      ║ Penalty Fn ║                ║  Violation  ║ <--- Line Search ---> ║ <- Stationarity -> ║ \n",
    "        # Iter ║ Mu │ Value ║    Objective   ║ Ineq │  Eq  ║ SD │ Evals │     t    ║ Grads │    Value   ║ \n",
    "        # ═════╬════════════╬════════════════╬═════════════╬═══════════════════════╬════════════════════╣\n",
    "        # 1000 ║  - │   -   ║  0.62800096715 ║   -  │   -  ║ QN │     5 │ 0.062500 ║     1 │ 0.430504   ║ \n",
    "        opts.maxit = 1000  # Inner epochs\n",
    "        opts.print_level = iteration <= 2\n",
    "        \n",
    "        start = time.time()\n",
    "        soln = pygranso(var_spec = model,combined_fn = comb_fn, user_opts = opts)\n",
    "        end = time.time()\n",
    "        print(\"Total Wall Time: {}s\".format(end - start))\n",
    "        torch.nn.utils.vector_to_parameters(soln.final.x, model.parameters())\n",
    "        \n",
    "        # Exact penalty update\n",
    "        \n",
    "        h = penalty(model)\n",
    "        print(\"Objective:\", f(model, inputs, labels))\n",
    "        print(\"Penalty parameter:\", mu)\n",
    "        print(\"Penalty:\", h)\n",
    "        if h < 1e-3:  # if h(xk ) ≤ τ\n",
    "            break\n",
    "\n",
    "        # Choose new penalty parameter µk+1 > µk ;\n",
    "        if mu * h > mu_eps:\n",
    "            mu *= mu_rho\n",
    "\n",
    "        # Choose new starting point (stay as optimal x1, x2)\n",
    "\n",
    "        print()"
   ],
   "id": "a2df0f157d988e1a",
   "outputs": [],
   "execution_count": 12
  },
  {
   "metadata": {
    "ExecuteTime": {
     "end_time": "2025-04-21T03:33:25.419684Z",
     "start_time": "2025-04-21T03:29:27.163258Z"
    }
   },
   "cell_type": "code",
   "source": [
    "model = RNN(input_size, hidden_size, num_layers, num_classes).to(device=device, dtype=double_precision)\n",
    "exact_penalty_with_pygranso(mu_rho=1.1, mu_eps=1e-5)"
   ],
   "id": "c9fffbc119d09d15",
   "outputs": [
    {
     "name": "stdout",
     "output_type": "stream",
     "text": [
      "Iter 0\n",
      "\n",
      "\n",
      "\u001B[33m╔═════ QP SOLVER NOTICE ════════════════════════════════════════════════════════════════════════╗\n",
      "\u001B[0m\u001B[33m║  PyGRANSO requires a quadratic program (QP) solver that has a quadprog-compatible interface,  ║\n",
      "\u001B[0m\u001B[33m║  the default is osqp. Users may provide their own wrapper for the QP solver.                  ║\n",
      "\u001B[0m\u001B[33m║  To disable this notice, set opts.quadprog_info_msg = False                                   ║\n",
      "\u001B[0m\u001B[33m╚═══════════════════════════════════════════════════════════════════════════════════════════════╝\n",
      "\u001B[0m══════════════════════════════════════════════════════════════════════════════════════════════╗\n",
      "PyGRANSO: A PyTorch-enabled port of GRANSO with auto-differentiation                          ║ \n",
      "Version 1.2.0                                                                                 ║ \n",
      "Licensed under the AGPLv3, Copyright (C) 2021-2022 Tim Mitchell and Buyun Liang               ║ \n",
      "══════════════════════════════════════════════════════════════════════════════════════════════╣\n",
      "Problem specifications:                                                                       ║ \n",
      " # of variables                     :   2110                                                  ║ \n",
      " # of inequality constraints        :      0                                                  ║ \n",
      " # of equality constraints          :      0                                                  ║ \n",
      "═════╦════════════╦════════════════╦═════════════╦═══════════════════════╦════════════════════╣\n",
      "     ║ Penalty Fn ║                ║  Violation  ║ <--- Line Search ---> ║ <- Stationarity -> ║ \n",
      "Iter ║ Mu │ Value ║    Objective   ║ Ineq │  Eq  ║ SD │ Evals │     t    ║ Grads │    Value   ║ \n",
      "═════╬════════════╬════════════════╬═════════════╬═══════════════════════╬════════════════════╣\n",
      "   0 ║  - │   -   ║  66.4200355965 ║   -  │   -  ║ -  │     1 │ 0.000000 ║     1 │ 40.23202   ║ \n",
      "  50 ║  - │   -   ║  22.9170615447 ║   -  │   -  ║ QN │     5 │ 0.062500 ║     1 │ 2.163261   ║ \n",
      " 100 ║  - │   -   ║  9.85725516405 ║   -  │   -  ║ QN │     7 │ 0.015625 ║     1 │ 1.760977   ║ \n",
      " 150 ║  - │   -   ║  6.66219068770 ║   -  │   -  ║ QN │     9 │ 0.003906 ║     1 │ 1.802276   ║ \n",
      " 200 ║  - │   -   ║  5.22434884217 ║   -  │   -  ║ QN │     9 │ 0.003906 ║     1 │ 1.732846   ║ \n",
      " 250 ║  - │   -   ║  4.08977209109 ║   -  │   -  ║ QN │     9 │ 0.003906 ║     1 │ 1.900985   ║ \n",
      " 300 ║  - │   -   ║  3.10918769826 ║   -  │   -  ║ QN │     9 │ 0.003906 ║     1 │ 1.341947   ║ \n",
      " 350 ║  - │   -   ║  2.66907815764 ║   -  │   -  ║ QN │    10 │ 0.001953 ║     1 │ 1.696825   ║ \n",
      " 400 ║  - │   -   ║  2.48698693402 ║   -  │   -  ║ QN │    11 │ 9.77e-04 ║     1 │ 0.916069   ║ \n",
      " 450 ║  - │   -   ║  2.38206707783 ║   -  │   -  ║ QN │    11 │ 9.77e-04 ║     1 │ 0.686553   ║ \n",
      " 500 ║  - │   -   ║  2.31230252755 ║   -  │   -  ║ QN │    11 │ 9.77e-04 ║     1 │ 0.468688   ║ \n",
      " 550 ║  - │   -   ║  2.27164618060 ║   -  │   -  ║ QN │    10 │ 0.001953 ║     1 │ 0.251193   ║ \n",
      " 600 ║  - │   -   ║  2.23917371279 ║   -  │   -  ║ QN │    10 │ 0.001953 ║     1 │ 0.177852   ║ \n",
      " 650 ║  - │   -   ║  2.21550105895 ║   -  │   -  ║ QN │     8 │ 0.007812 ║     1 │ 0.090675   ║ \n",
      " 700 ║  - │   -   ║  2.19398496196 ║   -  │   -  ║ QN │     6 │ 0.031250 ║     1 │ 0.191317   ║ \n",
      " 750 ║  - │   -   ║  1.81874294518 ║   -  │   -  ║ QN │     4 │ 0.125000 ║     1 │ 0.116339   ║ \n",
      " 800 ║  - │   -   ║  1.62443666804 ║   -  │   -  ║ QN │     4 │ 0.125000 ║     1 │ 0.255239   ║ \n",
      " 850 ║  - │   -   ║  1.52382350085 ║   -  │   -  ║ QN │     5 │ 0.062500 ║     1 │ 0.456840   ║ \n",
      " 900 ║  - │   -   ║  1.43906771135 ║   -  │   -  ║ QN │     5 │ 0.062500 ║     1 │ 0.190872   ║ \n",
      " 950 ║  - │   -   ║  1.36677063238 ║   -  │   -  ║ QN │     5 │ 0.062500 ║     1 │ 0.228433   ║ \n",
      "═════╬════════════╬════════════════╬═════════════╬═══════════════════════╬════════════════════╣\n",
      "     ║ Penalty Fn ║                ║  Violation  ║ <--- Line Search ---> ║ <- Stationarity -> ║ \n",
      "Iter ║ Mu │ Value ║    Objective   ║ Ineq │  Eq  ║ SD │ Evals │     t    ║ Grads │    Value   ║ \n",
      "═════╬════════════╬════════════════╬═════════════╬═══════════════════════╬════════════════════╣\n",
      "1000 ║  - │   -   ║  1.30734069359 ║   -  │   -  ║ QN │     6 │ 0.031250 ║     1 │ 0.089405   ║ \n",
      "═════╩════════════╩════════════════╩═════════════╩═══════════════════════╩════════════════════╣\n",
      "F = final iterate, B = Best (to tolerance), MF = Most Feasible                                ║ \n",
      "Optimization results:                                                                         ║ \n",
      "═════╦════════════╦════════════════╦═════════════╦═══════════════════════╦════════════════════╣\n",
      "   F ║    │       ║  1.30734069359 ║   -  │   -  ║    │       │          ║       │            ║ \n",
      "   B ║    │       ║  1.30734069359 ║   -  │   -  ║    │       │          ║       │            ║ \n",
      "═════╩════════════╩════════════════╩═════════════╩═══════════════════════╩════════════════════╣\n",
      "Iterations:              1000                                                                 ║ \n",
      "Function evaluations:    7538                                                                 ║ \n",
      "PyGRANSO termination code: 4 --- max iterations reached.                                      ║ \n",
      "══════════════════════════════════════════════════════════════════════════════════════════════╝\n",
      "Total Wall Time: 209.23382091522217s\n",
      "Objective: tensor(1.2862, dtype=torch.float64, grad_fn=<NllLossBackward0>)\n",
      "Penalty parameter: tensor([1.], dtype=torch.float64)\n",
      "Penalty: tensor(0.0211, dtype=torch.float64, grad_fn=<LinalgVectorNormBackward0>)\n",
      "\n",
      "Iter 1\n",
      "\n",
      "\n",
      "\u001B[33m╔═════ QP SOLVER NOTICE ════════════════════════════════════════════════════════════════════════╗\n",
      "\u001B[0m\u001B[33m║  PyGRANSO requires a quadratic program (QP) solver that has a quadprog-compatible interface,  ║\n",
      "\u001B[0m\u001B[33m║  the default is osqp. Users may provide their own wrapper for the QP solver.                  ║\n",
      "\u001B[0m\u001B[33m║  To disable this notice, set opts.quadprog_info_msg = False                                   ║\n",
      "\u001B[0m\u001B[33m╚═══════════════════════════════════════════════════════════════════════════════════════════════╝\n",
      "\u001B[0m══════════════════════════════════════════════════════════════════════════════════════════════╗\n",
      "PyGRANSO: A PyTorch-enabled port of GRANSO with auto-differentiation                          ║ \n",
      "Version 1.2.0                                                                                 ║ \n",
      "Licensed under the AGPLv3, Copyright (C) 2021-2022 Tim Mitchell and Buyun Liang               ║ \n",
      "══════════════════════════════════════════════════════════════════════════════════════════════╣\n",
      "Problem specifications:                                                                       ║ \n",
      " # of variables                     :   2110                                                  ║ \n",
      " # of inequality constraints        :      0                                                  ║ \n",
      " # of equality constraints          :      0                                                  ║ \n",
      "═════╦════════════╦════════════════╦═════════════╦═══════════════════════╦════════════════════╣\n",
      "     ║ Penalty Fn ║                ║  Violation  ║ <--- Line Search ---> ║ <- Stationarity -> ║ \n",
      "Iter ║ Mu │ Value ║    Objective   ║ Ineq │  Eq  ║ SD │ Evals │     t    ║ Grads │    Value   ║ \n",
      "═════╬════════════╬════════════════╬═════════════╬═══════════════════════╬════════════════════╣\n",
      "   0 ║  - │   -   ║  1.30945552639 ║   -  │   -  ║ -  │     1 │ 0.000000 ║     1 │ 65.97907   ║ \n",
      "  50 ║  - │   -   ║  1.28677006887 ║   -  │   -  ║ QN │     7 │ 0.015625 ║     1 │ 2.50e-04   ║ \n",
      " 100 ║  - │   -   ║  1.28643021996 ║   -  │   -  ║ QN │     9 │ 0.003906 ║     1 │ 2.07e-04   ║ \n",
      "═════╩════════════╩════════════════╩═════════════╩═══════════════════════╩════════════════════╣\n",
      "F = final iterate, B = Best (to tolerance), MF = Most Feasible                                ║ \n",
      "Optimization results:                                                                         ║ \n",
      "═════╦════════════╦════════════════╦═════════════╦═══════════════════════╦════════════════════╣\n",
      "   F ║    │       ║  1.28634240445 ║   -  │   -  ║    │       │          ║       │            ║ \n",
      "   B ║    │       ║  1.28634240445 ║   -  │   -  ║    │       │          ║       │            ║ \n",
      "═════╩════════════╩════════════════╩═════════════╩═══════════════════════╩════════════════════╣\n",
      "Iterations:              146                                                                  ║ \n",
      "Function evaluations:    1130                                                                 ║ \n",
      "PyGRANSO termination code: 0 --- converged to stationarity tolerance.                         ║ \n",
      "══════════════════════════════════════════════════════════════════════════════════════════════╝\n",
      "Total Wall Time: 28.985363006591797s\n",
      "Objective: tensor(1.2862, dtype=torch.float64, grad_fn=<NllLossBackward0>)\n",
      "Penalty parameter: tensor([1.1000], dtype=torch.float64)\n",
      "Penalty: tensor(0.0001, dtype=torch.float64, grad_fn=<LinalgVectorNormBackward0>)\n"
     ]
    }
   ],
   "execution_count": 13
  },
  {
   "metadata": {},
   "cell_type": "markdown",
   "source": "### Train Acc",
   "id": "9657bbbd750376e5"
  },
  {
   "metadata": {
    "ExecuteTime": {
     "end_time": "2025-04-21T03:33:25.435892Z",
     "start_time": "2025-04-21T03:33:25.421533Z"
    }
   },
   "cell_type": "code",
   "source": [
    "model.eval()\n",
    "\n",
    "logits = model(inputs)\n",
    "_, predicted = torch.max(logits.data, 1)\n",
    "correct = (predicted == labels).sum().item()\n",
    "print(\"Final acc = {:.2f}%\".format((100 * correct/len(inputs))))  "
   ],
   "id": "fbab81ef8dba17f1",
   "outputs": [
    {
     "name": "stdout",
     "output_type": "stream",
     "text": [
      "Final acc = 54.39%\n"
     ]
    }
   ],
   "execution_count": 14
  },
  {
   "metadata": {},
   "cell_type": "markdown",
   "source": "### Test Acc",
   "id": "79ee2596ab524dfa"
  },
  {
   "metadata": {
    "ExecuteTime": {
     "end_time": "2025-04-21T03:33:25.474230Z",
     "start_time": "2025-04-21T03:33:25.436753Z"
    }
   },
   "cell_type": "code",
   "source": "val_loop(val_dataloader, model)",
   "id": "54e65c2f2f0a74df",
   "outputs": [
    {
     "name": "stdout",
     "output_type": "stream",
     "text": [
      "Error: \n",
      " Accuracy: 52.6% \n",
      "\n"
     ]
    },
    {
     "data": {
      "text/plain": [
       "52.63671875"
      ]
     },
     "execution_count": 15,
     "metadata": {},
     "output_type": "execute_result"
    }
   ],
   "execution_count": 15
  },
  {
   "metadata": {},
   "cell_type": "markdown",
   "source": "### Feasibility",
   "id": "e38f72e8f8ab0ad9"
  },
  {
   "metadata": {
    "ExecuteTime": {
     "end_time": "2025-04-21T03:33:25.477782Z",
     "start_time": "2025-04-21T03:33:25.475067Z"
    }
   },
   "cell_type": "code",
   "source": "penalty(model)",
   "id": "cac54d53d4049e07",
   "outputs": [
    {
     "data": {
      "text/plain": [
       "tensor(0.0001, dtype=torch.float64, grad_fn=<LinalgVectorNormBackward0>)"
      ]
     },
     "execution_count": 16,
     "metadata": {},
     "output_type": "execute_result"
    }
   ],
   "execution_count": 16
  },
  {
   "metadata": {
    "ExecuteTime": {
     "end_time": "2025-04-21T03:33:25.482666Z",
     "start_time": "2025-04-21T03:33:25.478488Z"
    }
   },
   "cell_type": "code",
   "source": "l2_penalty(model)",
   "id": "531488b3676e80da",
   "outputs": [
    {
     "data": {
      "text/plain": [
       "tensor(1.2289e-05, dtype=torch.float64, grad_fn=<LinalgVectorNormBackward0>)"
      ]
     },
     "execution_count": 17,
     "metadata": {},
     "output_type": "execute_result"
    }
   ],
   "execution_count": 17
  },
  {
   "metadata": {},
   "cell_type": "markdown",
   "source": "### Graph",
   "id": "299a2089031550f"
  },
  {
   "metadata": {
    "ExecuteTime": {
     "end_time": "2025-04-21T03:33:25.877361Z",
     "start_time": "2025-04-21T03:33:25.483363Z"
    }
   },
   "cell_type": "code",
   "source": [
    "import numpy as np\n",
    "import matplotlib.pyplot as plt"
   ],
   "id": "fbbca854b0f17431",
   "outputs": [],
   "execution_count": 18
  },
  {
   "metadata": {
    "ExecuteTime": {
     "end_time": "2025-04-21T03:33:25.986355Z",
     "start_time": "2025-04-21T03:33:25.878117Z"
    }
   },
   "cell_type": "code",
   "source": [
    "# Plot results\n",
    "x = np.arange(1, len(train_acc)+1)\n",
    "\n",
    "plt.plot(x, train_acc, label='Train set accuracy', marker='o')\n",
    "plt.plot(x, test_acc, label='Test set accuracy', marker='s')\n",
    "\n",
    "plt.xlabel('Outer Loop Iterations')\n",
    "plt.ylabel('Accuracy (%)')\n",
    "plt.title('Train vs Test Accuracy Over Time - EP w/ Adam (100 inner iterations)'.format(batch_size))\n",
    "\n",
    "plt.legend()\n",
    "\n",
    "plt.show()"
   ],
   "id": "af825c28a3a35882",
   "outputs": [
    {
     "data": {
      "text/plain": [
       "<Figure size 640x480 with 1 Axes>"
      ],
      "image/png": "[encoded data removed]"
     },
     "metadata": {},
     "output_type": "display_data"
    }
   ],
   "execution_count": 19
  },
  {
   "metadata": {
    "ExecuteTime": {
     "end_time": "2025-04-21T03:33:25.990674Z",
     "start_time": "2025-04-21T03:33:25.988108Z"
    }
   },
   "cell_type": "code",
   "source": [
    "train_acc_1000 = train_acc.copy()\n",
    "test_acc_1000 = test_acc.copy()"
   ],
   "id": "669e7314901b93c5",
   "outputs": [],
   "execution_count": 20
  },
  {
   "metadata": {},
   "cell_type": "markdown",
   "source": "### 3000 inner epochs",
   "id": "bbe115fa8dcd2d28"
  },
  {
   "metadata": {
    "ExecuteTime": {
     "end_time": "2025-04-21T03:33:25.994940Z",
     "start_time": "2025-04-21T03:33:25.992539Z"
    }
   },
   "cell_type": "code",
   "source": [
    "train_acc = []\n",
    "test_acc = []"
   ],
   "id": "dd3d655dfb394d83",
   "outputs": [],
   "execution_count": 21
  },
  {
   "metadata": {
    "ExecuteTime": {
     "end_time": "2025-04-21T03:33:26.004697Z",
     "start_time": "2025-04-21T03:33:25.997155Z"
    }
   },
   "cell_type": "code",
   "source": [
    "def exact_penalty_with_pygranso(mu_rho, mu_eps):\n",
    "    mu = torch.tensor([1.], dtype=double_precision)\n",
    "\n",
    "    for iteration in range(1000):\n",
    "        print(\"Iter\", iteration)\n",
    "        \n",
    "        # PyGRANSO\n",
    "        def comb_fn(model):\n",
    "            # objective function\n",
    "            phi1_x_mu = phi1(model, mu)\n",
    "        \n",
    "            # inequality constraint, matrix form\n",
    "            ci = None\n",
    "        \n",
    "            # equality constraint \n",
    "            ce = None\n",
    "        \n",
    "            return [phi1_x_mu,ci,ce]\n",
    "        \n",
    "        opts = pygransoStruct()\n",
    "        # option for switching QP solver. We only have osqp as the only qp solver in current version. Default is osqp\n",
    "        # opts.QPsolver = 'osqp'\n",
    "        \n",
    "        # set an intial point\n",
    "        # All the user-provided data (vector/matrix/tensor) must be in torch tensor format. \n",
    "        # As PyTorch tensor is single precision by default, one must explicitly set `dtype=torch.double`.\n",
    "        # Also, please make sure the device of provided torch tensor is the same as opts.torch_device.\n",
    "        nvar = getNvarTorch(model.parameters())\n",
    "        opts.x0 = torch.nn.utils.parameters_to_vector(model.parameters()).detach().reshape(nvar,1)\n",
    "        opts.torch_device = device\n",
    "        opts.opt_tol = 1e-5\n",
    "        opts.viol_eq_tol = 1e-5\n",
    "        opts.print_level = 1\n",
    "        opts.print_frequency = 50\n",
    "        \n",
    "        # opts.maxit = 1000 yields 80% acc but seems far from reaching stationarity\n",
    "        #  900 ║  - │   -   ║  0.76603445858 ║   -  │   -  ║ QN │     6 │ 0.031250 ║     1 │ 0.246480   ║ \n",
    "        #  950 ║  - │   -   ║  0.70312720877 ║   -  │   -  ║ QN │     6 │ 0.031250 ║     1 │ 0.471985   ║ \n",
    "        # ═════╬════════════╬════════════════╬═════════════╬═══════════════════════╬════════════════════╣\n",
    "        #      ║ Penalty Fn ║                ║  Violation  ║ <--- Line Search ---> ║ <- Stationarity -> ║ \n",
    "        # Iter ║ Mu │ Value ║    Objective   ║ Ineq │  Eq  ║ SD │ Evals │     t    ║ Grads │    Value   ║ \n",
    "        # ═════╬════════════╬════════════════╬═════════════╬═══════════════════════╬════════════════════╣\n",
    "        # 1000 ║  - │   -   ║  0.62800096715 ║   -  │   -  ║ QN │     5 │ 0.062500 ║     1 │ 0.430504   ║ \n",
    "        opts.maxit = 3000  # Inner epochs\n",
    "        opts.print_level = iteration <= 2\n",
    "        \n",
    "        start = time.time()\n",
    "        soln = pygranso(var_spec = model,combined_fn = comb_fn, user_opts = opts)\n",
    "        end = time.time()\n",
    "        print(\"Total Wall Time: {}s\".format(end - start))\n",
    "        torch.nn.utils.vector_to_parameters(soln.final.x, model.parameters())\n",
    "        \n",
    "        # Exact penalty update\n",
    "        \n",
    "        h = penalty(model)\n",
    "        print(\"Objective:\", f(model, inputs, labels))\n",
    "        print(\"Penalty parameter:\", mu)\n",
    "        print(\"Penalty:\", h)\n",
    "        if h < 1e-3:  # if h(xk ) ≤ τ\n",
    "            break\n",
    "\n",
    "        # Choose new penalty parameter µk+1 > µk ;\n",
    "        if mu * h > mu_eps:\n",
    "            mu *= mu_rho\n",
    "\n",
    "        # Choose new starting point (stay as optimal x1, x2)\n",
    "\n",
    "        print()"
   ],
   "id": "206d372a9bd98cfa",
   "outputs": [],
   "execution_count": 22
  },
  {
   "metadata": {
    "ExecuteTime": {
     "end_time": "2025-04-21T03:40:53.288798Z",
     "start_time": "2025-04-21T03:33:26.006097Z"
    }
   },
   "cell_type": "code",
   "source": [
    "model = RNN(input_size, hidden_size, num_layers, num_classes).to(device=device, dtype=double_precision)\n",
    "exact_penalty_with_pygranso(mu_rho=1.1, mu_eps=1e-5)"
   ],
   "id": "1807437342da8084",
   "outputs": [
    {
     "name": "stdout",
     "output_type": "stream",
     "text": [
      "Iter 0\n",
      "\n",
      "\n",
      "\u001B[33m╔═════ QP SOLVER NOTICE ════════════════════════════════════════════════════════════════════════╗\n",
      "\u001B[0m\u001B[33m║  PyGRANSO requires a quadratic program (QP) solver that has a quadprog-compatible interface,  ║\n",
      "\u001B[0m\u001B[33m║  the default is osqp. Users may provide their own wrapper for the QP solver.                  ║\n",
      "\u001B[0m\u001B[33m║  To disable this notice, set opts.quadprog_info_msg = False                                   ║\n",
      "\u001B[0m\u001B[33m╚═══════════════════════════════════════════════════════════════════════════════════════════════╝\n",
      "\u001B[0m══════════════════════════════════════════════════════════════════════════════════════════════╗\n",
      "PyGRANSO: A PyTorch-enabled port of GRANSO with auto-differentiation                          ║ \n",
      "Version 1.2.0                                                                                 ║ \n",
      "Licensed under the AGPLv3, Copyright (C) 2021-2022 Tim Mitchell and Buyun Liang               ║ \n",
      "══════════════════════════════════════════════════════════════════════════════════════════════╣\n",
      "Problem specifications:                                                                       ║ \n",
      " # of variables                     :   2110                                                  ║ \n",
      " # of inequality constraints        :      0                                                  ║ \n",
      " # of equality constraints          :      0                                                  ║ \n",
      "═════╦════════════╦════════════════╦═════════════╦═══════════════════════╦════════════════════╣\n",
      "     ║ Penalty Fn ║                ║  Violation  ║ <--- Line Search ---> ║ <- Stationarity -> ║ \n",
      "Iter ║ Mu │ Value ║    Objective   ║ Ineq │  Eq  ║ SD │ Evals │     t    ║ Grads │    Value   ║ \n",
      "═════╬════════════╬════════════════╬═════════════╬═══════════════════════╬════════════════════╣\n",
      "   0 ║  - │   -   ║  63.1591763747 ║   -  │   -  ║ -  │     1 │ 0.000000 ║     1 │ 38.18768   ║ \n",
      "  50 ║  - │   -   ║  18.4192933002 ║   -  │   -  ║ QN │     5 │ 0.062500 ║     1 │ 2.233970   ║ \n",
      " 100 ║  - │   -   ║  9.40055795762 ║   -  │   -  ║ QN │     7 │ 0.015625 ║     1 │ 2.116130   ║ \n",
      " 150 ║  - │   -   ║  6.75209246646 ║   -  │   -  ║ QN │     9 │ 0.003906 ║     1 │ 2.375476   ║ \n",
      " 200 ║  - │   -   ║  5.70858644175 ║   -  │   -  ║ QN │     9 │ 0.003906 ║     1 │ 1.843071   ║ \n",
      " 250 ║  - │   -   ║  5.15384293005 ║   -  │   -  ║ QN │    10 │ 0.001953 ║     1 │ 1.479178   ║ \n",
      " 300 ║  - │   -   ║  4.66827454367 ║   -  │   -  ║ QN │     9 │ 0.003906 ║     1 │ 1.770436   ║ \n",
      " 350 ║  - │   -   ║  4.23127740474 ║   -  │   -  ║ QN │     8 │ 0.007812 ║     1 │ 1.453930   ║ \n",
      " 400 ║  - │   -   ║  3.81003974349 ║   -  │   -  ║ QN │     9 │ 0.003906 ║     1 │ 1.212706   ║ \n",
      " 450 ║  - │   -   ║  3.00786173935 ║   -  │   -  ║ QN │     8 │ 0.007812 ║     1 │ 0.820550   ║ \n",
      " 500 ║  - │   -   ║  2.48873751325 ║   -  │   -  ║ QN │     9 │ 0.003906 ║     1 │ 0.622176   ║ \n",
      " 550 ║  - │   -   ║  2.34208045278 ║   -  │   -  ║ QN │     9 │ 0.003906 ║     1 │ 0.601266   ║ \n",
      " 600 ║  - │   -   ║  2.26499670557 ║   -  │   -  ║ QN │     9 │ 0.003906 ║     1 │ 0.225988   ║ \n",
      " 650 ║  - │   -   ║  2.23149331194 ║   -  │   -  ║ QN │     8 │ 0.007812 ║     1 │ 0.149294   ║ \n",
      " 700 ║  - │   -   ║  2.20799844629 ║   -  │   -  ║ QN │     8 │ 0.007812 ║     1 │ 0.054466   ║ \n",
      " 750 ║  - │   -   ║  2.04861810747 ║   -  │   -  ║ QN │     4 │ 0.125000 ║     1 │ 0.156610   ║ \n",
      " 800 ║  - │   -   ║  1.73359780092 ║   -  │   -  ║ QN │     4 │ 0.125000 ║     1 │ 0.162833   ║ \n",
      " 850 ║  - │   -   ║  1.55798787223 ║   -  │   -  ║ QN │     5 │ 0.062500 ║     1 │ 0.110141   ║ \n",
      " 900 ║  - │   -   ║  1.46957490129 ║   -  │   -  ║ QN │     5 │ 0.062500 ║     1 │ 0.092120   ║ \n",
      " 950 ║  - │   -   ║  1.39109987159 ║   -  │   -  ║ QN │     6 │ 0.031250 ║     1 │ 0.193445   ║ \n",
      "═════╬════════════╬════════════════╬═════════════╬═══════════════════════╬════════════════════╣\n",
      "     ║ Penalty Fn ║                ║  Violation  ║ <--- Line Search ---> ║ <- Stationarity -> ║ \n",
      "Iter ║ Mu │ Value ║    Objective   ║ Ineq │  Eq  ║ SD │ Evals │     t    ║ Grads │    Value   ║ \n",
      "═════╬════════════╬════════════════╬═════════════╬═══════════════════════╬════════════════════╣\n",
      "1000 ║  - │   -   ║  1.35225317667 ║   -  │   -  ║ QN │     6 │ 0.031250 ║     1 │ 0.093140   ║ \n",
      "1050 ║  - │   -   ║  1.31293259555 ║   -  │   -  ║ QN │     6 │ 0.031250 ║     1 │ 0.351355   ║ \n",
      "1100 ║  - │   -   ║  1.26444125898 ║   -  │   -  ║ QN │     5 │ 0.062500 ║     1 │ 0.142365   ║ \n",
      "1150 ║  - │   -   ║  1.21809916255 ║   -  │   -  ║ QN │     5 │ 0.062500 ║     1 │ 0.421334   ║ \n",
      "1200 ║  - │   -   ║  1.16990458629 ║   -  │   -  ║ QN │     5 │ 0.062500 ║     1 │ 0.067641   ║ \n",
      "1250 ║  - │   -   ║  1.13077298573 ║   -  │   -  ║ QN │     4 │ 0.125000 ║     1 │ 0.185057   ║ \n",
      "1300 ║  - │   -   ║  1.07377437878 ║   -  │   -  ║ QN │     4 │ 0.125000 ║     1 │ 0.103190   ║ \n",
      "1350 ║  - │   -   ║  1.03260980435 ║   -  │   -  ║ QN │     4 │ 0.125000 ║     1 │ 0.115308   ║ \n",
      "1400 ║  - │   -   ║  0.98649234721 ║   -  │   -  ║ QN │     3 │ 0.250000 ║     1 │ 0.120264   ║ \n",
      "1450 ║  - │   -   ║  0.93799837016 ║   -  │   -  ║ QN │     5 │ 0.062500 ║     1 │ 0.187669   ║ \n",
      "1500 ║  - │   -   ║  0.89818513803 ║   -  │   -  ║ QN │     4 │ 0.125000 ║     1 │ 0.118707   ║ \n",
      "1550 ║  - │   -   ║  0.83927272031 ║   -  │   -  ║ QN │     4 │ 0.125000 ║     1 │ 0.045275   ║ \n",
      "1600 ║  - │   -   ║  0.80214005353 ║   -  │   -  ║ QN │     3 │ 0.250000 ║     1 │ 0.091613   ║ \n",
      "1650 ║  - │   -   ║  0.75168946743 ║   -  │   -  ║ QN │     3 │ 0.250000 ║     1 │ 0.113547   ║ \n",
      "1700 ║  - │   -   ║  0.71119344323 ║   -  │   -  ║ QN │     3 │ 0.250000 ║     1 │ 0.240158   ║ \n",
      "1750 ║  - │   -   ║  0.66892954195 ║   -  │   -  ║ QN │     3 │ 0.250000 ║     1 │ 0.072251   ║ \n",
      "1800 ║  - │   -   ║  0.63319658815 ║   -  │   -  ║ QN │     2 │ 0.500000 ║     1 │ 0.253910   ║ \n",
      "1850 ║  - │   -   ║  0.60204452128 ║   -  │   -  ║ QN │     2 │ 0.500000 ║     1 │ 0.081300   ║ \n",
      "1900 ║  - │   -   ║  0.56865324709 ║   -  │   -  ║ QN │     2 │ 0.500000 ║     1 │ 0.055941   ║ \n",
      "1950 ║  - │   -   ║  0.53054817699 ║   -  │   -  ║ QN │     2 │ 0.500000 ║     1 │ 0.266016   ║ \n",
      "═════╬════════════╬════════════════╬═════════════╬═══════════════════════╬════════════════════╣\n",
      "     ║ Penalty Fn ║                ║  Violation  ║ <--- Line Search ---> ║ <- Stationarity -> ║ \n",
      "Iter ║ Mu │ Value ║    Objective   ║ Ineq │  Eq  ║ SD │ Evals │     t    ║ Grads │    Value   ║ \n",
      "═════╬════════════╬════════════════╬═════════════╬═══════════════════════╬════════════════════╣\n",
      "2000 ║  - │   -   ║  0.50047289432 ║   -  │   -  ║ QN │     2 │ 0.500000 ║     1 │ 0.088815   ║ \n",
      "2050 ║  - │   -   ║  0.46804885980 ║   -  │   -  ║ QN │     2 │ 0.500000 ║     1 │ 0.183273   ║ \n",
      "2100 ║  - │   -   ║  0.44525348349 ║   -  │   -  ║ QN │     3 │ 0.250000 ║     1 │ 0.090951   ║ \n",
      "2150 ║  - │   -   ║  0.41734530813 ║   -  │   -  ║ QN │     3 │ 0.250000 ║     1 │ 0.162629   ║ \n",
      "2200 ║  - │   -   ║  0.39601265109 ║   -  │   -  ║ QN │     2 │ 0.500000 ║     1 │ 0.175504   ║ \n",
      "2250 ║  - │   -   ║  0.37383861397 ║   -  │   -  ║ QN │     2 │ 0.500000 ║     1 │ 0.040023   ║ \n",
      "2300 ║  - │   -   ║  0.35276270994 ║   -  │   -  ║ QN │     2 │ 0.500000 ║     1 │ 0.091526   ║ \n",
      "2350 ║  - │   -   ║  0.33068948825 ║   -  │   -  ║ QN │     2 │ 0.500000 ║     1 │ 0.063395   ║ \n",
      "2400 ║  - │   -   ║  0.30879099973 ║   -  │   -  ║ QN │     2 │ 0.500000 ║     1 │ 0.080594   ║ \n",
      "2450 ║  - │   -   ║  0.28820642878 ║   -  │   -  ║ QN │     2 │ 0.500000 ║     1 │ 0.063959   ║ \n",
      "2500 ║  - │   -   ║  0.26989177762 ║   -  │   -  ║ QN │     2 │ 0.500000 ║     1 │ 0.171009   ║ \n",
      "2550 ║  - │   -   ║  0.25318889760 ║   -  │   -  ║ QN │     2 │ 0.500000 ║     1 │ 0.119844   ║ \n",
      "2600 ║  - │   -   ║  0.23463936976 ║   -  │   -  ║ QN │     2 │ 0.500000 ║     1 │ 0.217252   ║ \n",
      "2650 ║  - │   -   ║  0.21866113042 ║   -  │   -  ║ QN │     2 │ 0.500000 ║     1 │ 0.089471   ║ \n",
      "2700 ║  - │   -   ║  0.20363550399 ║   -  │   -  ║ QN │     2 │ 0.500000 ║     1 │ 0.312432   ║ \n",
      "2750 ║  - │   -   ║  0.18716328303 ║   -  │   -  ║ QN │     2 │ 0.500000 ║     1 │ 0.048381   ║ \n",
      "2800 ║  - │   -   ║  0.17131435077 ║   -  │   -  ║ QN │     2 │ 0.500000 ║     1 │ 0.021940   ║ \n",
      "2850 ║  - │   -   ║  0.15762172503 ║   -  │   -  ║ QN │     1 │ 1.000000 ║     1 │ 0.090550   ║ \n",
      "2900 ║  - │   -   ║  0.14308277942 ║   -  │   -  ║ QN │     2 │ 0.500000 ║     1 │ 0.036585   ║ \n",
      "2950 ║  - │   -   ║  0.12982097426 ║   -  │   -  ║ QN │     2 │ 0.500000 ║     1 │ 0.037278   ║ \n",
      "═════╬════════════╬════════════════╬═════════════╬═══════════════════════╬════════════════════╣\n",
      "     ║ Penalty Fn ║                ║  Violation  ║ <--- Line Search ---> ║ <- Stationarity -> ║ \n",
      "Iter ║ Mu │ Value ║    Objective   ║ Ineq │  Eq  ║ SD │ Evals │     t    ║ Grads │    Value   ║ \n",
      "═════╬════════════╬════════════════╬═════════════╬═══════════════════════╬════════════════════╣\n",
      "3000 ║  - │   -   ║  0.11925312380 ║   -  │   -  ║ QN │     1 │ 1.000000 ║     1 │ 0.073298   ║ \n",
      "═════╩════════════╩════════════════╩═════════════╩═══════════════════════╩════════════════════╣\n",
      "F = final iterate, B = Best (to tolerance), MF = Most Feasible                                ║ \n",
      "Optimization results:                                                                         ║ \n",
      "═════╦════════════╦════════════════╦═════════════╦═══════════════════════╦════════════════════╣\n",
      "   F ║    │       ║  0.11925312380 ║   -  │   -  ║    │       │          ║       │            ║ \n",
      "   B ║    │       ║  0.11925312380 ║   -  │   -  ║    │       │          ║       │            ║ \n",
      "═════╩════════════╩════════════════╩═════════════╩═══════════════════════╩════════════════════╣\n",
      "Iterations:              3000                                                                 ║ \n",
      "Function evaluations:    13131                                                                ║ \n",
      "PyGRANSO termination code: 4 --- max iterations reached.                                      ║ \n",
      "══════════════════════════════════════════════════════════════════════════════════════════════╝\n",
      "Total Wall Time: 424.5401360988617s\n",
      "Objective: tensor(0.1178, dtype=torch.float64, grad_fn=<NllLossBackward0>)\n",
      "Penalty parameter: tensor([1.], dtype=torch.float64)\n",
      "Penalty: tensor(0.0015, dtype=torch.float64, grad_fn=<LinalgVectorNormBackward0>)\n",
      "\n",
      "Iter 1\n",
      "\n",
      "\n",
      "\u001B[33m╔═════ QP SOLVER NOTICE ════════════════════════════════════════════════════════════════════════╗\n",
      "\u001B[0m\u001B[33m║  PyGRANSO requires a quadratic program (QP) solver that has a quadprog-compatible interface,  ║\n",
      "\u001B[0m\u001B[33m║  the default is osqp. Users may provide their own wrapper for the QP solver.                  ║\n",
      "\u001B[0m\u001B[33m║  To disable this notice, set opts.quadprog_info_msg = False                                   ║\n",
      "\u001B[0m\u001B[33m╚═══════════════════════════════════════════════════════════════════════════════════════════════╝\n",
      "\u001B[0m══════════════════════════════════════════════════════════════════════════════════════════════╗\n",
      "PyGRANSO: A PyTorch-enabled port of GRANSO with auto-differentiation                          ║ \n",
      "Version 1.2.0                                                                                 ║ \n",
      "Licensed under the AGPLv3, Copyright (C) 2021-2022 Tim Mitchell and Buyun Liang               ║ \n",
      "══════════════════════════════════════════════════════════════════════════════════════════════╣\n",
      "Problem specifications:                                                                       ║ \n",
      " # of variables                     :   2110                                                  ║ \n",
      " # of inequality constraints        :      0                                                  ║ \n",
      " # of equality constraints          :      0                                                  ║ \n",
      "═════╦════════════╦════════════════╦═════════════╦═══════════════════════╦════════════════════╣\n",
      "     ║ Penalty Fn ║                ║  Violation  ║ <--- Line Search ---> ║ <- Stationarity -> ║ \n",
      "Iter ║ Mu │ Value ║    Objective   ║ Ineq │  Eq  ║ SD │ Evals │     t    ║ Grads │    Value   ║ \n",
      "═════╬════════════╬════════════════╬═════════════╬═══════════════════════╬════════════════════╣\n",
      "   0 ║  - │   -   ║  0.11940289459 ║   -  │   -  ║ -  │     1 │ 0.000000 ║     1 │ 66.00271   ║ \n",
      "  50 ║  - │   -   ║  0.11778460836 ║   -  │   -  ║ QN │     8 │ 0.007812 ║     1 │ 1.94e-05   ║ \n",
      " 100 ║  - │   -   ║  0.11776761562 ║   -  │   -  ║ QN │     9 │ 0.003906 ║     1 │ 1.50e-05   ║ \n",
      "═════╩════════════╩════════════════╩═════════════╩═══════════════════════╩════════════════════╣\n",
      "F = final iterate, B = Best (to tolerance), MF = Most Feasible                                ║ \n",
      "Optimization results:                                                                         ║ \n",
      "═════╦════════════╦════════════════╦═════════════╦═══════════════════════╦════════════════════╣\n",
      "   F ║    │       ║  0.11776734413 ║   -  │   -  ║    │       │          ║       │            ║ \n",
      "   B ║    │       ║  0.11776734413 ║   -  │   -  ║    │       │          ║       │            ║ \n",
      "═════╩════════════╩════════════════╩═════════════╩═══════════════════════╩════════════════════╣\n",
      "Iterations:              101                                                                  ║ \n",
      "Function evaluations:    747                                                                  ║ \n",
      "PyGRANSO termination code: 0 --- converged to stationarity tolerance.                         ║ \n",
      "══════════════════════════════════════════════════════════════════════════════════════════════╝\n",
      "Total Wall Time: 22.710183143615723s\n",
      "Objective: tensor(0.1178, dtype=torch.float64, grad_fn=<NllLossBackward0>)\n",
      "Penalty parameter: tensor([1.1000], dtype=torch.float64)\n",
      "Penalty: tensor(1.1091e-05, dtype=torch.float64, grad_fn=<LinalgVectorNormBackward0>)\n"
     ]
    }
   ],
   "execution_count": 23
  },
  {
   "metadata": {},
   "cell_type": "markdown",
   "source": "### Train Acc",
   "id": "10649134afb80f02"
  },
  {
   "metadata": {
    "ExecuteTime": {
     "end_time": "2025-04-21T03:40:53.337852Z",
     "start_time": "2025-04-21T03:40:53.291372Z"
    }
   },
   "cell_type": "code",
   "source": [
    "model.eval()\n",
    "\n",
    "logits = model(inputs)\n",
    "_, predicted = torch.max(logits.data, 1)\n",
    "correct = (predicted == labels).sum().item()\n",
    "print(\"Final acc = {:.2f}%\".format((100 * correct/len(inputs))))  "
   ],
   "id": "4eb7767fb4132973",
   "outputs": [
    {
     "name": "stdout",
     "output_type": "stream",
     "text": [
      "Final acc = 97.75%\n"
     ]
    }
   ],
   "execution_count": 24
  },
  {
   "metadata": {},
   "cell_type": "markdown",
   "source": "### Test Acc",
   "id": "729fee9a0866527d"
  },
  {
   "metadata": {
    "ExecuteTime": {
     "end_time": "2025-04-21T03:40:53.367457Z",
     "start_time": "2025-04-21T03:40:53.339855Z"
    }
   },
   "cell_type": "code",
   "source": "val_loop(val_dataloader, model)",
   "id": "f7970f37d6a59ce2",
   "outputs": [
    {
     "name": "stdout",
     "output_type": "stream",
     "text": [
      "Error: \n",
      " Accuracy: 67.6% \n",
      "\n"
     ]
    },
    {
     "data": {
      "text/plain": [
       "67.578125"
      ]
     },
     "execution_count": 25,
     "metadata": {},
     "output_type": "execute_result"
    }
   ],
   "execution_count": 25
  },
  {
   "metadata": {},
   "cell_type": "markdown",
   "source": "### Feasibility",
   "id": "25a6ba6ce7db2741"
  },
  {
   "metadata": {
    "ExecuteTime": {
     "end_time": "2025-04-21T03:51:25.692699Z",
     "start_time": "2025-04-21T03:51:25.672923Z"
    }
   },
   "cell_type": "code",
   "source": "penalty(model)",
   "id": "6c47d8906abd786a",
   "outputs": [
    {
     "data": {
      "text/plain": [
       "tensor(1.1091e-05, dtype=torch.float64, grad_fn=<LinalgVectorNormBackward0>)"
      ]
     },
     "execution_count": 27,
     "metadata": {},
     "output_type": "execute_result"
    }
   ],
   "execution_count": 27
  },
  {
   "metadata": {
    "ExecuteTime": {
     "end_time": "2025-04-21T03:51:52.809080Z",
     "start_time": "2025-04-21T03:51:52.795588Z"
    }
   },
   "cell_type": "code",
   "source": "l2_penalty(model)",
   "id": "cc4a011f67880f9c",
   "outputs": [
    {
     "data": {
      "text/plain": [
       "tensor(9.8434e-07, dtype=torch.float64, grad_fn=<LinalgVectorNormBackward0>)"
      ]
     },
     "execution_count": 29,
     "metadata": {},
     "output_type": "execute_result"
    }
   ],
   "execution_count": 29
  },
  {
   "metadata": {},
   "cell_type": "code",
   "outputs": [],
   "execution_count": null,
   "source": "",
   "id": "8360e9e346a669c7"
  }
 ],
 "metadata": {
  "kernelspec": {
   "display_name": "Python 3 (ipykernel)",
   "language": "python",
   "name": "python3"
  },
  "language_info": {
   "codemirror_mode": {
    "name": "ipython",
    "version": 3
   },
   "file_extension": ".py",
   "mimetype": "text/x-python",
   "name": "python",
   "nbconvert_exporter": "python",
   "pygments_lexer": "ipython3",
   "version": "3.9.7"
  }
 },
 "nbformat": 4,
 "nbformat_minor": 5
}
