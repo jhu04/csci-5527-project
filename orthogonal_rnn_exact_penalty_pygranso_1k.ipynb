{
 "cells": [
  {
   "cell_type": "markdown",
   "id": "5257bb27",
   "metadata": {},
   "source": [
    "# Orthogonal RNN\n",
    "\n",
    "Train Orthogonal RNN for MNIST classification based on [this Paper](https://arxiv.org/pdf/1901.08428.pdf)\n",
    "\n",
    "NOTE: this example is still under development. "
   ]
  },
  {
   "cell_type": "markdown",
   "id": "c859c154",
   "metadata": {},
   "source": [
    "## Problem Description"
   ]
  },
  {
   "cell_type": "markdown",
   "id": "b96269c7",
   "metadata": {},
   "source": [
    "For each element in the input sequence, each layer computes the following function:\n",
    "$$h_t=\\tanh(W_{ih}x_t+b_{ih}+W_{hh}h_{t-1}+b_hh)$$\n",
    "\n",
    "where $h_{t}$ is the hidden state at time $t$, and $h_{t-1}$ is the hidden state of the previous layer at time $t-1$ or the initial hidden state at time $o$. \n",
    "\n",
    "For each layer, we have the orthogonal constraint:\n",
    "$$ W_{hh}^T W_{hh} = I $$"
   ]
  },
  {
   "cell_type": "markdown",
   "id": "08dfdd50",
   "metadata": {},
   "source": [
    "## Modules Importing\n",
    "Import all necessary modules and add PyGRANSO src folder to system path. "
   ]
  },
  {
   "cell_type": "code",
   "id": "90ed32f9",
   "metadata": {
    "ExecuteTime": {
     "end_time": "2025-04-21T00:19:42.399273Z",
     "start_time": "2025-04-21T00:19:40.365128Z"
    }
   },
   "source": [
    "import time\n",
    "import torch\n",
    "import sys\n",
    "## Adding PyGRANSO directories. Should be modified by user\n",
    "sys.path.append('.')\n",
    "from pygranso.pygranso import pygranso\n",
    "from pygranso.pygransoStruct import pygransoStruct \n",
    "from pygranso.private.getNvar import getNvarTorch\n",
    "import torch.nn as nn\n",
    "from torchvision import datasets\n",
    "from torchvision.transforms import ToTensor\n",
    "from pygranso.private.getObjGrad import getObjGradDL"
   ],
   "outputs": [],
   "execution_count": 2
  },
  {
   "metadata": {
    "ExecuteTime": {
     "end_time": "2025-04-21T00:19:42.403543Z",
     "start_time": "2025-04-21T00:19:42.400125Z"
    }
   },
   "cell_type": "code",
   "source": [
    "import torch\n",
    "\n",
    "# fix the random seed\n",
    "torch.manual_seed(55272025)\n",
    "\n",
    "w = 8"
   ],
   "id": "f689ea212cbe52ff",
   "outputs": [],
   "execution_count": 3
  },
  {
   "cell_type": "markdown",
   "id": "17a1b7fe",
   "metadata": {},
   "source": [
    "## Data Initialization \n",
    "Specify torch device, neural network architecture, and generate data.\n",
    "\n",
    "NOTE: please specify path for downloading data.\n",
    "\n",
    "Use GPU for this problem. If no cuda device available, please set *device = torch.device('cpu')*"
   ]
  },
  {
   "cell_type": "code",
   "id": "8b4842e1",
   "metadata": {
    "ExecuteTime": {
     "end_time": "2025-04-21T00:19:44.577094Z",
     "start_time": "2025-04-21T00:19:42.403985Z"
    }
   },
   "source": [
    "device = torch.device('cpu')\n",
    "\n",
    "sequence_length = 28\n",
    "input_size = 28\n",
    "hidden_size = 30\n",
    "num_layers = 1\n",
    "num_classes = 10\n",
    "batch_size = 1024\n",
    "\n",
    "\n",
    "double_precision = torch.double\n",
    "\n",
    "class RNN(nn.Module):\n",
    "    \n",
    "    def __init__(self, input_size, hidden_size, num_layers, num_classes):\n",
    "        super(RNN, self).__init__()\n",
    "        self.hidden_size = hidden_size\n",
    "        self.num_layers = num_layers\n",
    "        # self.lstm = nn.LSTM(input_size, hidden_size, num_layers, batch_first=True)\n",
    "        self.rnn = nn.RNN(input_size, hidden_size, num_layers, batch_first=True)\n",
    "        self.fc = nn.Linear(hidden_size, num_classes)\n",
    "        pass\n",
    "    \n",
    "    def forward(self, x):\n",
    "        x = torch.reshape(x,(batch_size,sequence_length,input_size))\n",
    "        # Set initial hidden and cell states \n",
    "        h0 = torch.zeros(self.num_layers, x.size(0), self.hidden_size).to(device=device, dtype=double_precision)\n",
    "        out, hidden = self.rnn(x, h0)  # out: tensor of shape (batch_size, seq_length, hidden_size)\n",
    "        #Reshaping the outputs such that it can be fit into the fully connected layer\n",
    "        out = self.fc(out[:, -1, :])\n",
    "        return out\n",
    "    \n",
    "torch.manual_seed(0)\n",
    "\n",
    "model = RNN(input_size, hidden_size, num_layers, num_classes).to(device=device, dtype=double_precision)\n",
    "model.train()\n",
    "\n",
    "train_data = datasets.MNIST(\n",
    "    root = './examples/data/mnist',\n",
    "    train = True,                         \n",
    "    transform = ToTensor(), \n",
    "    download = True,            \n",
    ") \n",
    "test_data = datasets.MNIST(\n",
    "    root = './examples/data/mnist',\n",
    "    train = False,                         \n",
    "    transform = ToTensor(), \n",
    "    download = True,            \n",
    ") \n",
    "\n",
    "loaders = {\n",
    "    'train' : torch.utils.data.DataLoader(train_data, \n",
    "                                        batch_size=batch_size, \n",
    "                                        shuffle=True, \n",
    "                                        num_workers=1),\n",
    "    'test' : torch.utils.data.DataLoader(test_data, \n",
    "                                        batch_size=batch_size, \n",
    "                                        shuffle=True, \n",
    "                                        num_workers=1),\n",
    "}\n",
    "\n",
    "inputs, labels = next(iter(loaders['train']))\n",
    "inputs, labels = inputs.reshape(-1, sequence_length, input_size).to(device=device, dtype=double_precision), labels.to(device=device)"
   ],
   "outputs": [],
   "execution_count": 4
  },
  {
   "cell_type": "markdown",
   "id": "ec80716b",
   "metadata": {},
   "source": [
    "## Function Set-Up\n",
    "\n",
    "Encode the optimization variables, and objective and constraint functions.\n",
    "\n",
    "Note: please strictly follow the format of comb_fn, which will be used in the PyGRANSO main algortihm."
   ]
  },
  {
   "cell_type": "code",
   "id": "fb360e75",
   "metadata": {
    "ExecuteTime": {
     "end_time": "2025-04-21T00:19:44.582262Z",
     "start_time": "2025-04-21T00:19:44.579331Z"
    }
   },
   "source": [
    "def user_fn(model,inputs,labels):\n",
    "    # objective function    \n",
    "    logits = model(inputs)\n",
    "    criterion = nn.CrossEntropyLoss()\n",
    "    f = criterion(logits, labels)\n",
    "\n",
    "    A = list(model.parameters())[1]\n",
    "\n",
    "    # inequality constraint\n",
    "    ci = None\n",
    "\n",
    "    # equality constraint \n",
    "    # special orthogonal group\n",
    "    \n",
    "    ce = pygransoStruct()\n",
    "\n",
    "    c1_vec = (A.T @ A \n",
    "              - torch.eye(hidden_size)\n",
    "              .to(device=device, dtype=double_precision)\n",
    "             ).reshape(1,-1)\n",
    "    \n",
    "    ce.c1 = torch.linalg.vector_norm(c1_vec,2) # l2 folding to reduce the total number of constraints\n",
    "    # ce.c2 = torch.det(A) - 1\n",
    "\n",
    "    # ce = None\n",
    "\n",
    "    return [f,ci,ce]\n",
    "\n",
    "comb_fn = lambda model : user_fn(model,inputs,labels)"
   ],
   "outputs": [],
   "execution_count": 5
  },
  {
   "cell_type": "markdown",
   "id": "f0f55ace",
   "metadata": {},
   "source": [
    "## User Options\n",
    "Specify user-defined options for PyGRANSO "
   ]
  },
  {
   "cell_type": "code",
   "id": "f3a65b57",
   "metadata": {
    "ExecuteTime": {
     "end_time": "2025-04-21T00:19:44.586623Z",
     "start_time": "2025-04-21T00:19:44.582821Z"
    }
   },
   "source": [
    "opts = pygransoStruct()\n",
    "opts.torch_device = device\n",
    "nvar = getNvarTorch(model.parameters())\n",
    "opts.x0 = torch.nn.utils.parameters_to_vector(model.parameters()).detach().reshape(nvar,1)\n",
    "opts.opt_tol = 1e-3\n",
    "opts.viol_eq_tol = 1e-4\n",
    "# opts.maxit = 150\n",
    "# opts.fvalquit = 1e-6\n",
    "opts.print_level = 1\n",
    "opts.print_frequency = 50\n",
    "# opts.print_ascii = True\n",
    "# opts.limited_mem_size = 100\n",
    "opts.double_precision = True\n",
    "\n",
    "opts.mu0 = 1"
   ],
   "outputs": [],
   "execution_count": 6
  },
  {
   "cell_type": "markdown",
   "id": "754ba30a",
   "metadata": {},
   "source": [
    "## Initial Test \n",
    "Check initial accuracy of the RNN model"
   ]
  },
  {
   "cell_type": "code",
   "id": "711f0e9c",
   "metadata": {
    "ExecuteTime": {
     "end_time": "2025-04-21T00:19:45.540143Z",
     "start_time": "2025-04-21T00:19:45.512272Z"
    }
   },
   "source": [
    "logits = model(inputs)\n",
    "_, predicted = torch.max(logits.data, 1)\n",
    "correct = (predicted == labels).sum().item()\n",
    "print(\"Initial acc = {:.2f}%\".format((100 * correct/len(inputs))))  "
   ],
   "outputs": [
    {
     "name": "stdout",
     "output_type": "stream",
     "text": [
      "Initial acc = 8.79%\n"
     ]
    }
   ],
   "execution_count": 7
  },
  {
   "metadata": {},
   "cell_type": "markdown",
   "source": "# Exact Penalty with PyGRANSO",
   "id": "76f5a81d9b657fbd"
  },
  {
   "metadata": {
    "ExecuteTime": {
     "end_time": "2025-04-21T00:19:46.681958Z",
     "start_time": "2025-04-21T00:19:46.679903Z"
    }
   },
   "cell_type": "code",
   "source": [
    "import torch\n",
    "from torch.utils.data import Dataset, DataLoader\n",
    "from torch.nn import CrossEntropyLoss\n",
    "from torch.nn.functional import one_hot"
   ],
   "id": "6912929758dcdf8e",
   "outputs": [],
   "execution_count": 8
  },
  {
   "metadata": {
    "ExecuteTime": {
     "end_time": "2025-04-21T00:19:49.672324Z",
     "start_time": "2025-04-21T00:19:47.396825Z"
    }
   },
   "cell_type": "code",
   "source": [
    "inputs, labels = next(iter(loaders['train']))\n",
    "inputs, labels = inputs.reshape(-1, sequence_length, input_size).to(device=device, dtype=double_precision), labels.to(device=device)"
   ],
   "id": "76b884454bef55de",
   "outputs": [],
   "execution_count": 9
  },
  {
   "metadata": {
    "ExecuteTime": {
     "end_time": "2025-04-21T00:19:49.676278Z",
     "start_time": "2025-04-21T00:19:49.674016Z"
    }
   },
   "cell_type": "code",
   "source": "val_dataloader = loaders['test']",
   "id": "8bb6ad6b8ca802e",
   "outputs": [],
   "execution_count": 10
  },
  {
   "metadata": {
    "ExecuteTime": {
     "end_time": "2025-04-21T00:19:49.679290Z",
     "start_time": "2025-04-21T00:19:49.676917Z"
    }
   },
   "cell_type": "code",
   "source": [
    "def f(model, inputs, labels):\n",
    "    logits = model(inputs)\n",
    "    loss_fn = nn.CrossEntropyLoss()\n",
    "    return loss_fn(logits, labels)\n",
    "\n",
    "def penalty(model):\n",
    "    A = list(model.parameters())[1]\n",
    "    \n",
    "    # print(A)\n",
    "    \n",
    "    return torch.norm(A.T @ A - torch.eye(hidden_size), p=1)\n",
    "\n",
    "def phi1(model, mu):\n",
    "    return f(model, inputs, labels) + mu * penalty(model)"
   ],
   "id": "a2c5cd2d045d0837",
   "outputs": [],
   "execution_count": 11
  },
  {
   "metadata": {
    "ExecuteTime": {
     "end_time": "2025-04-21T00:19:49.682716Z",
     "start_time": "2025-04-21T00:19:49.680258Z"
    }
   },
   "cell_type": "code",
   "source": [
    "def train_loop(model, mu, optimizer):\n",
    "    model.train()\n",
    "    \n",
    "    loss = phi1(model, mu)\n",
    "\n",
    "    loss.backward()\n",
    "    optimizer.step()\n",
    "    optimizer.zero_grad()\n",
    "\n",
    "def val_loop(dataloader, model):\n",
    "    model.eval()\n",
    "    # size = len(dataloader.dataset)\n",
    "    size = batch_size\n",
    "    correct = 0\n",
    "\n",
    "    with torch.no_grad():\n",
    "        # for inputs, labels in dataloader:\n",
    "        inputs, labels = next(iter(loaders['test']))\n",
    "        inputs, labels = inputs.reshape(-1, sequence_length, input_size).to(device=device, dtype=double_precision), labels.to(device=device)\n",
    "        logits = model(inputs)\n",
    "        _, predicted = torch.max(logits.data, 1)\n",
    "        correct += (predicted == labels).sum().item()\n",
    "    \n",
    "    correct /= size\n",
    "    print(f\"Error: \\n Accuracy: {(100*correct):>0.1f}% \\n\")\n",
    "    return 100*correct"
   ],
   "id": "8b7039555d8fc170",
   "outputs": [],
   "execution_count": 12
  },
  {
   "metadata": {},
   "cell_type": "markdown",
   "source": "### 1000 inner epochs",
   "id": "84b31fd5f87d140"
  },
  {
   "metadata": {
    "ExecuteTime": {
     "end_time": "2025-04-21T00:25:42.847769Z",
     "start_time": "2025-04-21T00:25:42.842027Z"
    }
   },
   "cell_type": "code",
   "source": [
    "def exact_penalty_with_pygranso(mu_rho, mu_eps):\n",
    "    mu = torch.tensor([1.], dtype=double_precision)\n",
    "\n",
    "    for iteration in range(1000):\n",
    "        print(\"Iter\", iteration)\n",
    "        \n",
    "        # PyGRANSO\n",
    "        def comb_fn(model):\n",
    "            # objective function\n",
    "            phi1_x_mu = phi1(model, mu)\n",
    "        \n",
    "            # inequality constraint, matrix form\n",
    "            ci = None\n",
    "        \n",
    "            # equality constraint \n",
    "            ce = None\n",
    "        \n",
    "            return [phi1_x_mu,ci,ce]\n",
    "        \n",
    "        opts = pygransoStruct()\n",
    "        # option for switching QP solver. We only have osqp as the only qp solver in current version. Default is osqp\n",
    "        # opts.QPsolver = 'osqp'\n",
    "        \n",
    "        # set an intial point\n",
    "        # All the user-provided data (vector/matrix/tensor) must be in torch tensor format. \n",
    "        # As PyTorch tensor is single precision by default, one must explicitly set `dtype=torch.double`.\n",
    "        # Also, please make sure the device of provided torch tensor is the same as opts.torch_device.\n",
    "        nvar = getNvarTorch(model.parameters())\n",
    "        opts.x0 = torch.nn.utils.parameters_to_vector(model.parameters()).detach().reshape(nvar,1)\n",
    "        opts.torch_device = device\n",
    "        opts.opt_tol = 1e-5\n",
    "        opts.viol_eq_tol = 1e-5\n",
    "        opts.print_level = 1\n",
    "        opts.print_frequency = 50\n",
    "        \n",
    "        # opts.maxit = 1000 yields 80% acc but seems far from reaching stationarity\n",
    "        #  900 ║  - │   -   ║  0.76603445858 ║   -  │   -  ║ QN │     6 │ 0.031250 ║     1 │ 0.246480   ║ \n",
    "        #  950 ║  - │   -   ║  0.70312720877 ║   -  │   -  ║ QN │     6 │ 0.031250 ║     1 │ 0.471985   ║ \n",
    "        # ═════╬════════════╬════════════════╬═════════════╬═══════════════════════╬════════════════════╣\n",
    "        #      ║ Penalty Fn ║                ║  Violation  ║ <--- Line Search ---> ║ <- Stationarity -> ║ \n",
    "        # Iter ║ Mu │ Value ║    Objective   ║ Ineq │  Eq  ║ SD │ Evals │     t    ║ Grads │    Value   ║ \n",
    "        # ═════╬════════════╬════════════════╬═════════════╬═══════════════════════╬════════════════════╣\n",
    "        # 1000 ║  - │   -   ║  0.62800096715 ║   -  │   -  ║ QN │     5 │ 0.062500 ║     1 │ 0.430504   ║ \n",
    "        opts.maxit = 1000  # Inner epochs\n",
    "        opts.print_level = iteration <= 2\n",
    "        \n",
    "        start = time.time()\n",
    "        soln = pygranso(var_spec = model,combined_fn = comb_fn, user_opts = opts)\n",
    "        end = time.time()\n",
    "        print(\"Total Wall Time: {}s\".format(end - start))\n",
    "        torch.nn.utils.vector_to_parameters(soln.final.x, model.parameters())\n",
    "        \n",
    "        # Exact penalty update\n",
    "        \n",
    "        h = penalty(model)\n",
    "        print(\"Objective:\", f(model, inputs, labels))\n",
    "        print(\"Penalty parameter:\", mu)\n",
    "        print(\"Penalty:\", h)\n",
    "        if h < 1e-3:  # if h(xk ) ≤ τ\n",
    "            break\n",
    "\n",
    "        # Choose new penalty parameter µk+1 > µk ;\n",
    "        if mu * h > mu_eps:\n",
    "            mu *= mu_rho\n",
    "\n",
    "        # Choose new starting point (stay as optimal x1, x2)\n",
    "\n",
    "        print()"
   ],
   "id": "a2df0f157d988e1a",
   "outputs": [],
   "execution_count": 22
  },
  {
   "metadata": {
    "ExecuteTime": {
     "end_time": "2025-04-21T00:29:22.992573Z",
     "start_time": "2025-04-21T00:25:43.166393Z"
    }
   },
   "cell_type": "code",
   "source": [
    "model = RNN(input_size, hidden_size, num_layers, num_classes).to(device=device, dtype=double_precision)\n",
    "exact_penalty_with_pygranso(mu_rho=1.1, mu_eps=1e-5)"
   ],
   "id": "c9fffbc119d09d15",
   "outputs": [
    {
     "name": "stdout",
     "output_type": "stream",
     "text": [
      "Iter 0\n",
      "\n",
      "\n",
      "\u001B[33m╔═════ QP SOLVER NOTICE ════════════════════════════════════════════════════════════════════════╗\n",
      "\u001B[0m\u001B[33m║  PyGRANSO requires a quadratic program (QP) solver that has a quadprog-compatible interface,  ║\n",
      "\u001B[0m\u001B[33m║  the default is osqp. Users may provide their own wrapper for the QP solver.                  ║\n",
      "\u001B[0m\u001B[33m║  To disable this notice, set opts.quadprog_info_msg = False                                   ║\n",
      "\u001B[0m\u001B[33m╚═══════════════════════════════════════════════════════════════════════════════════════════════╝\n",
      "\u001B[0m══════════════════════════════════════════════════════════════════════════════════════════════╗\n",
      "PyGRANSO: A PyTorch-enabled port of GRANSO with auto-differentiation                          ║ \n",
      "Version 1.2.0                                                                                 ║ \n",
      "Licensed under the AGPLv3, Copyright (C) 2021-2022 Tim Mitchell and Buyun Liang               ║ \n",
      "══════════════════════════════════════════════════════════════════════════════════════════════╣\n",
      "Problem specifications:                                                                       ║ \n",
      " # of variables                     :   2110                                                  ║ \n",
      " # of inequality constraints        :      0                                                  ║ \n",
      " # of equality constraints          :      0                                                  ║ \n",
      "═════╦════════════╦════════════════╦═════════════╦═══════════════════════╦════════════════════╣\n",
      "     ║ Penalty Fn ║                ║  Violation  ║ <--- Line Search ---> ║ <- Stationarity -> ║ \n",
      "Iter ║ Mu │ Value ║    Objective   ║ Ineq │  Eq  ║ SD │ Evals │     t    ║ Grads │    Value   ║ \n",
      "═════╬════════════╬════════════════╬═════════════╬═══════════════════════╬════════════════════╣\n",
      "   0 ║  - │   -   ║  65.5424845054 ║   -  │   -  ║ -  │     1 │ 0.000000 ║     1 │ 38.76293   ║ \n",
      "  50 ║  - │   -   ║  19.0484247382 ║   -  │   -  ║ QN │     5 │ 0.062500 ║     1 │ 3.550051   ║ \n",
      " 100 ║  - │   -   ║  8.57002217392 ║   -  │   -  ║ QN │     8 │ 0.007812 ║     1 │ 1.753157   ║ \n",
      " 150 ║  - │   -   ║  6.51623805839 ║   -  │   -  ║ QN │     9 │ 0.003906 ║     1 │ 1.330876   ║ \n",
      " 200 ║  - │   -   ║  5.20971332560 ║   -  │   -  ║ QN │     9 │ 0.003906 ║     1 │ 1.142311   ║ \n",
      " 250 ║  - │   -   ║  4.40414334379 ║   -  │   -  ║ QN │     9 │ 0.003906 ║     1 │ 1.365906   ║ \n",
      " 300 ║  - │   -   ║  3.91451545521 ║   -  │   -  ║ QN │     9 │ 0.003906 ║     1 │ 1.500040   ║ \n",
      " 350 ║  - │   -   ║  3.63674458324 ║   -  │   -  ║ QN │    10 │ 0.001953 ║     1 │ 1.417425   ║ \n",
      " 400 ║  - │   -   ║  3.47433128733 ║   -  │   -  ║ QN │    11 │ 9.77e-04 ║     1 │ 0.770228   ║ \n",
      " 450 ║  - │   -   ║  3.38383501394 ║   -  │   -  ║ QN │    11 │ 9.77e-04 ║     1 │ 0.637337   ║ \n",
      " 500 ║  - │   -   ║  3.32170099734 ║   -  │   -  ║ QN │    11 │ 9.77e-04 ║     1 │ 0.434782   ║ \n",
      " 550 ║  - │   -   ║  3.27475473552 ║   -  │   -  ║ QN │     9 │ 0.003906 ║     1 │ 0.248194   ║ \n",
      " 600 ║  - │   -   ║  3.23623184497 ║   -  │   -  ║ QN │     8 │ 0.007812 ║     1 │ 0.153003   ║ \n",
      " 650 ║  - │   -   ║  2.52491464247 ║   -  │   -  ║ QN │     5 │ 0.062500 ║     1 │ 0.349306   ║ \n",
      " 700 ║  - │   -   ║  2.12981233046 ║   -  │   -  ║ QN │     6 │ 0.031250 ║     1 │ 0.087271   ║ \n",
      " 750 ║  - │   -   ║  2.05411304303 ║   -  │   -  ║ QN │     5 │ 0.062500 ║     1 │ 0.077024   ║ \n",
      " 800 ║  - │   -   ║  1.62029259379 ║   -  │   -  ║ QN │     4 │ 0.125000 ║     1 │ 0.103913   ║ \n",
      " 850 ║  - │   -   ║  1.51177964772 ║   -  │   -  ║ QN │     4 │ 0.125000 ║     1 │ 0.161129   ║ \n",
      " 900 ║  - │   -   ║  1.40115366529 ║   -  │   -  ║ QN │     5 │ 0.062500 ║     1 │ 0.079225   ║ \n",
      " 950 ║  - │   -   ║  1.30039125759 ║   -  │   -  ║ QN │     5 │ 0.062500 ║     1 │ 0.072112   ║ \n",
      "═════╬════════════╬════════════════╬═════════════╬═══════════════════════╬════════════════════╣\n",
      "     ║ Penalty Fn ║                ║  Violation  ║ <--- Line Search ---> ║ <- Stationarity -> ║ \n",
      "Iter ║ Mu │ Value ║    Objective   ║ Ineq │  Eq  ║ SD │ Evals │     t    ║ Grads │    Value   ║ \n",
      "═════╬════════════╬════════════════╬═════════════╬═══════════════════════╬════════════════════╣\n",
      "1000 ║  - │   -   ║  1.23640007991 ║   -  │   -  ║ QN │     5 │ 0.062500 ║     1 │ 0.181382   ║ \n",
      "═════╩════════════╩════════════════╩═════════════╩═══════════════════════╩════════════════════╣\n",
      "Optimization results:                                                                         ║ \n",
      "F = final iterate, B = Best (to tolerance), MF = Most Feasible                                ║ \n",
      "═════╦════════════╦════════════════╦═════════════╦═══════════════════════╦════════════════════╣\n",
      "   F ║    │       ║  1.23640007991 ║   -  │   -  ║    │       │          ║       │            ║ \n",
      "   B ║    │       ║  1.23640007991 ║   -  │   -  ║    │       │          ║       │            ║ \n",
      "═════╩════════════╩════════════════╩═════════════╩═══════════════════════╩════════════════════╣\n",
      "Iterations:              1000                                                                 ║ \n",
      "Function evaluations:    7306                                                                 ║ \n",
      "PyGRANSO termination code: 4 --- max iterations reached.                                      ║ \n",
      "══════════════════════════════════════════════════════════════════════════════════════════════╝\n",
      "Total Wall Time: 187.5995581150055s\n",
      "Objective: tensor(1.2166, dtype=torch.float64, grad_fn=<NllLossBackward0>)\n",
      "Penalty parameter: tensor([1.], dtype=torch.float64)\n",
      "Penalty: tensor(0.0198, dtype=torch.float64, grad_fn=<LinalgVectorNormBackward0>)\n",
      "\n",
      "Iter 1\n",
      "\n",
      "\n",
      "\u001B[33m╔═════ QP SOLVER NOTICE ════════════════════════════════════════════════════════════════════════╗\n",
      "\u001B[0m\u001B[33m║  PyGRANSO requires a quadratic program (QP) solver that has a quadprog-compatible interface,  ║\n",
      "\u001B[0m\u001B[33m║  the default is osqp. Users may provide their own wrapper for the QP solver.                  ║\n",
      "\u001B[0m\u001B[33m║  To disable this notice, set opts.quadprog_info_msg = False                                   ║\n",
      "\u001B[0m\u001B[33m╚═══════════════════════════════════════════════════════════════════════════════════════════════╝\n",
      "\u001B[0m══════════════════════════════════════════════════════════════════════════════════════════════╗\n",
      "PyGRANSO: A PyTorch-enabled port of GRANSO with auto-differentiation                          ║ \n",
      "Version 1.2.0                                                                                 ║ \n",
      "Licensed under the AGPLv3, Copyright (C) 2021-2022 Tim Mitchell and Buyun Liang               ║ \n",
      "══════════════════════════════════════════════════════════════════════════════════════════════╣\n",
      "Problem specifications:                                                                       ║ \n",
      " # of variables                     :   2110                                                  ║ \n",
      " # of inequality constraints        :      0                                                  ║ \n",
      " # of equality constraints          :      0                                                  ║ \n",
      "═════╦════════════╦════════════════╦═════════════╦═══════════════════════╦════════════════════╣\n",
      "     ║ Penalty Fn ║                ║  Violation  ║ <--- Line Search ---> ║ <- Stationarity -> ║ \n",
      "Iter ║ Mu │ Value ║    Objective   ║ Ineq │  Eq  ║ SD │ Evals │     t    ║ Grads │    Value   ║ \n",
      "═════╬════════════╬════════════════╬═════════════╬═══════════════════════╬════════════════════╣\n",
      "   0 ║  - │   -   ║  1.23837820102 ║   -  │   -  ║ -  │     1 │ 0.000000 ║     1 │ 65.96682   ║ \n",
      "  50 ║  - │   -   ║  1.21705222345 ║   -  │   -  ║ QN │     9 │ 0.003906 ║     1 │ 1.88e-04   ║ \n",
      " 100 ║  - │   -   ║  1.21682465195 ║   -  │   -  ║ QN │     9 │ 0.003906 ║     1 │ 2.56e-04   ║ \n",
      " 150 ║  - │   -   ║  1.21674448756 ║   -  │   -  ║ QN │    11 │ 9.77e-04 ║    51 │ 1.52e-05   ║ \n",
      "═════╩════════════╩════════════════╩═════════════╩═══════════════════════╩════════════════════╣\n",
      "Optimization results:                                                                         ║ \n",
      "F = final iterate, B = Best (to tolerance), MF = Most Feasible                                ║ \n",
      "═════╦════════════╦════════════════╦═════════════╦═══════════════════════╦════════════════════╣\n",
      "   F ║    │       ║  1.21674023530 ║   -  │   -  ║    │       │          ║       │            ║ \n",
      "   B ║    │       ║  1.21674023530 ║   -  │   -  ║    │       │          ║       │            ║ \n",
      "═════╩════════════╩════════════════╩═════════════╩═══════════════════════╩════════════════════╣\n",
      "Iterations:              157                                                                  ║ \n",
      "Function evaluations:    1316                                                                 ║ \n",
      "PyGRANSO termination code: 0 --- converged to stationarity tolerance.                         ║ \n",
      "══════════════════════════════════════════════════════════════════════════════════════════════╝\n",
      "Total Wall Time: 32.19994020462036s\n",
      "Objective: tensor(1.2166, dtype=torch.float64, grad_fn=<NllLossBackward0>)\n",
      "Penalty parameter: tensor([1.1000], dtype=torch.float64)\n",
      "Penalty: tensor(0.0001, dtype=torch.float64, grad_fn=<LinalgVectorNormBackward0>)\n"
     ]
    }
   ],
   "execution_count": 23
  },
  {
   "metadata": {
    "ExecuteTime": {
     "end_time": "2025-04-21T00:30:29.188383Z",
     "start_time": "2025-04-21T00:30:29.128007Z"
    }
   },
   "cell_type": "code",
   "source": [
    "model.eval()\n",
    "\n",
    "logits = model(inputs)\n",
    "_, predicted = torch.max(logits.data, 1)\n",
    "correct = (predicted == labels).sum().item()\n",
    "print(\"Final acc = {:.2f}%\".format((100 * correct/len(inputs))))  "
   ],
   "id": "fbab81ef8dba17f1",
   "outputs": [
    {
     "name": "stdout",
     "output_type": "stream",
     "text": [
      "Final acc = 56.54%\n"
     ]
    }
   ],
   "execution_count": 24
  },
  {
   "metadata": {
    "ExecuteTime": {
     "end_time": "2025-04-21T00:31:32.544254Z",
     "start_time": "2025-04-21T00:31:30.169991Z"
    }
   },
   "cell_type": "code",
   "source": [
    "model.eval()\n",
    "\n",
    "inputs, labels = next(iter(loaders['test']))\n",
    "inputs, labels = inputs.reshape(-1, sequence_length, input_size).to(device=device, dtype=double_precision), labels.to(device=device)\n",
    "\n",
    "logits = model(inputs)\n",
    "_, predicted = torch.max(logits.data, 1)\n",
    "correct = (predicted == labels).sum().item()\n",
    "print(\"Final test acc = {:.2f}%\".format((100 * correct/len(inputs))))  "
   ],
   "id": "54e65c2f2f0a74df",
   "outputs": [
    {
     "name": "stdout",
     "output_type": "stream",
     "text": [
      "Final test acc = 53.91%\n"
     ]
    }
   ],
   "execution_count": 25
  },
  {
   "metadata": {},
   "cell_type": "markdown",
   "source": "### 3000 inner epochs",
   "id": "bbe115fa8dcd2d28"
  },
  {
   "metadata": {
    "ExecuteTime": {
     "end_time": "2025-04-21T00:42:14.928809Z",
     "start_time": "2025-04-21T00:42:14.918089Z"
    }
   },
   "cell_type": "code",
   "source": [
    "def exact_penalty_with_pygranso(mu_rho, mu_eps):\n",
    "    mu = torch.tensor([1.], dtype=double_precision)\n",
    "\n",
    "    for iteration in range(1000):\n",
    "        print(\"Iter\", iteration)\n",
    "        \n",
    "        # PyGRANSO\n",
    "        def comb_fn(model):\n",
    "            # objective function\n",
    "            phi1_x_mu = phi1(model, mu)\n",
    "        \n",
    "            # inequality constraint, matrix form\n",
    "            ci = None\n",
    "        \n",
    "            # equality constraint \n",
    "            ce = None\n",
    "        \n",
    "            return [phi1_x_mu,ci,ce]\n",
    "        \n",
    "        opts = pygransoStruct()\n",
    "        # option for switching QP solver. We only have osqp as the only qp solver in current version. Default is osqp\n",
    "        # opts.QPsolver = 'osqp'\n",
    "        \n",
    "        # set an intial point\n",
    "        # All the user-provided data (vector/matrix/tensor) must be in torch tensor format. \n",
    "        # As PyTorch tensor is single precision by default, one must explicitly set `dtype=torch.double`.\n",
    "        # Also, please make sure the device of provided torch tensor is the same as opts.torch_device.\n",
    "        nvar = getNvarTorch(model.parameters())\n",
    "        opts.x0 = torch.nn.utils.parameters_to_vector(model.parameters()).detach().reshape(nvar,1)\n",
    "        opts.torch_device = device\n",
    "        opts.opt_tol = 1e-5\n",
    "        opts.viol_eq_tol = 1e-5\n",
    "        opts.print_level = 1\n",
    "        opts.print_frequency = 50\n",
    "        \n",
    "        # opts.maxit = 1000 yields 80% acc but seems far from reaching stationarity\n",
    "        #  900 ║  - │   -   ║  0.76603445858 ║   -  │   -  ║ QN │     6 │ 0.031250 ║     1 │ 0.246480   ║ \n",
    "        #  950 ║  - │   -   ║  0.70312720877 ║   -  │   -  ║ QN │     6 │ 0.031250 ║     1 │ 0.471985   ║ \n",
    "        # ═════╬════════════╬════════════════╬═════════════╬═══════════════════════╬════════════════════╣\n",
    "        #      ║ Penalty Fn ║                ║  Violation  ║ <--- Line Search ---> ║ <- Stationarity -> ║ \n",
    "        # Iter ║ Mu │ Value ║    Objective   ║ Ineq │  Eq  ║ SD │ Evals │     t    ║ Grads │    Value   ║ \n",
    "        # ═════╬════════════╬════════════════╬═════════════╬═══════════════════════╬════════════════════╣\n",
    "        # 1000 ║  - │   -   ║  0.62800096715 ║   -  │   -  ║ QN │     5 │ 0.062500 ║     1 │ 0.430504   ║ \n",
    "        opts.maxit = 3000  # Inner epochs\n",
    "        opts.print_level = iteration <= 2\n",
    "        \n",
    "        start = time.time()\n",
    "        soln = pygranso(var_spec = model,combined_fn = comb_fn, user_opts = opts)\n",
    "        end = time.time()\n",
    "        print(\"Total Wall Time: {}s\".format(end - start))\n",
    "        torch.nn.utils.vector_to_parameters(soln.final.x, model.parameters())\n",
    "        \n",
    "        # Exact penalty update\n",
    "        \n",
    "        h = penalty(model)\n",
    "        print(\"Objective:\", f(model, inputs, labels))\n",
    "        print(\"Penalty parameter:\", mu)\n",
    "        print(\"Penalty:\", h)\n",
    "        if h < 1e-3:  # if h(xk ) ≤ τ\n",
    "            break\n",
    "\n",
    "        # Choose new penalty parameter µk+1 > µk ;\n",
    "        if mu * h > mu_eps:\n",
    "            mu *= mu_rho\n",
    "\n",
    "        # Choose new starting point (stay as optimal x1, x2)\n",
    "\n",
    "        print()"
   ],
   "id": "206d372a9bd98cfa",
   "outputs": [],
   "execution_count": 30
  },
  {
   "metadata": {
    "ExecuteTime": {
     "end_time": "2025-04-21T00:50:12.014750Z",
     "start_time": "2025-04-21T00:42:15.447163Z"
    }
   },
   "cell_type": "code",
   "source": [
    "model = RNN(input_size, hidden_size, num_layers, num_classes).to(device=device, dtype=double_precision)\n",
    "exact_penalty_with_pygranso(mu_rho=1.1, mu_eps=1e-5)"
   ],
   "id": "1807437342da8084",
   "outputs": [
    {
     "name": "stdout",
     "output_type": "stream",
     "text": [
      "Iter 0\n",
      "\n",
      "\n",
      "\u001B[33m╔═════ QP SOLVER NOTICE ════════════════════════════════════════════════════════════════════════╗\n",
      "\u001B[0m\u001B[33m║  PyGRANSO requires a quadratic program (QP) solver that has a quadprog-compatible interface,  ║\n",
      "\u001B[0m\u001B[33m║  the default is osqp. Users may provide their own wrapper for the QP solver.                  ║\n",
      "\u001B[0m\u001B[33m║  To disable this notice, set opts.quadprog_info_msg = False                                   ║\n",
      "\u001B[0m\u001B[33m╚═══════════════════════════════════════════════════════════════════════════════════════════════╝\n",
      "\u001B[0m══════════════════════════════════════════════════════════════════════════════════════════════╗\n",
      "PyGRANSO: A PyTorch-enabled port of GRANSO with auto-differentiation                          ║ \n",
      "Version 1.2.0                                                                                 ║ \n",
      "Licensed under the AGPLv3, Copyright (C) 2021-2022 Tim Mitchell and Buyun Liang               ║ \n",
      "══════════════════════════════════════════════════════════════════════════════════════════════╣\n",
      "Problem specifications:                                                                       ║ \n",
      " # of variables                     :   2110                                                  ║ \n",
      " # of inequality constraints        :      0                                                  ║ \n",
      " # of equality constraints          :      0                                                  ║ \n",
      "═════╦════════════╦════════════════╦═════════════╦═══════════════════════╦════════════════════╣\n",
      "     ║ Penalty Fn ║                ║  Violation  ║ <--- Line Search ---> ║ <- Stationarity -> ║ \n",
      "Iter ║ Mu │ Value ║    Objective   ║ Ineq │  Eq  ║ SD │ Evals │     t    ║ Grads │    Value   ║ \n",
      "═════╬════════════╬════════════════╬═════════════╬═══════════════════════╬════════════════════╣\n",
      "   0 ║  - │   -   ║  69.7530302586 ║   -  │   -  ║ -  │     1 │ 0.000000 ║     1 │ 41.37078   ║ \n",
      "  50 ║  - │   -   ║  18.1060413918 ║   -  │   -  ║ QN │     5 │ 0.062500 ║     1 │ 2.806483   ║ \n",
      " 100 ║  - │   -   ║  9.38684830147 ║   -  │   -  ║ QN │     7 │ 0.015625 ║     1 │ 1.934990   ║ \n",
      " 150 ║  - │   -   ║  6.92216312649 ║   -  │   -  ║ QN │     8 │ 0.007812 ║     1 │ 1.891387   ║ \n",
      " 200 ║  - │   -   ║  5.88913996500 ║   -  │   -  ║ QN │     9 │ 0.003906 ║     1 │ 2.049254   ║ \n",
      " 250 ║  - │   -   ║  5.38019040385 ║   -  │   -  ║ QN │    10 │ 0.001953 ║     1 │ 2.024750   ║ \n",
      " 300 ║  - │   -   ║  5.00070530577 ║   -  │   -  ║ QN │     9 │ 0.003906 ║     1 │ 2.565633   ║ \n",
      " 350 ║  - │   -   ║  4.57983388908 ║   -  │   -  ║ QN │    10 │ 0.001953 ║     1 │ 1.289865   ║ \n",
      " 400 ║  - │   -   ║  4.33662407851 ║   -  │   -  ║ QN │    10 │ 0.001953 ║     1 │ 0.913375   ║ \n",
      " 450 ║  - │   -   ║  4.15607902527 ║   -  │   -  ║ QN │    10 │ 0.001953 ║     1 │ 0.974962   ║ \n",
      " 500 ║  - │   -   ║  3.72590138020 ║   -  │   -  ║ QN │     7 │ 0.015625 ║     1 │ 1.084669   ║ \n",
      " 550 ║  - │   -   ║  3.27182304098 ║   -  │   -  ║ QN │     9 │ 0.003906 ║     1 │ 0.344958   ║ \n",
      " 600 ║  - │   -   ║  2.65895408495 ║   -  │   -  ║ QN │     6 │ 0.031250 ║     1 │ 0.423954   ║ \n",
      " 650 ║  - │   -   ║  2.26255953355 ║   -  │   -  ║ QN │     7 │ 0.015625 ║     1 │ 0.237166   ║ \n",
      " 700 ║  - │   -   ║  2.20024634761 ║   -  │   -  ║ QN │     8 │ 0.007812 ║     1 │ 0.073722   ║ \n",
      " 750 ║  - │   -   ║  2.13329261136 ║   -  │   -  ║ QN │     4 │ 0.125000 ║     1 │ 0.108987   ║ \n",
      " 800 ║  - │   -   ║  1.65303780627 ║   -  │   -  ║ QN │     4 │ 0.125000 ║     1 │ 0.145626   ║ \n",
      " 850 ║  - │   -   ║  1.52740749257 ║   -  │   -  ║ QN │     5 │ 0.062500 ║     1 │ 0.093392   ║ \n",
      " 900 ║  - │   -   ║  1.41616880382 ║   -  │   -  ║ QN │     5 │ 0.062500 ║     1 │ 0.100990   ║ \n",
      " 950 ║  - │   -   ║  1.36758421992 ║   -  │   -  ║ QN │     7 │ 0.015625 ║     1 │ 0.073502   ║ \n",
      "═════╬════════════╬════════════════╬═════════════╬═══════════════════════╬════════════════════╣\n",
      "     ║ Penalty Fn ║                ║  Violation  ║ <--- Line Search ---> ║ <- Stationarity -> ║ \n",
      "Iter ║ Mu │ Value ║    Objective   ║ Ineq │  Eq  ║ SD │ Evals │     t    ║ Grads │    Value   ║ \n",
      "═════╬════════════╬════════════════╬═════════════╬═══════════════════════╬════════════════════╣\n",
      "1000 ║  - │   -   ║  1.33594530683 ║   -  │   -  ║ QN │     6 │ 0.031250 ║     1 │ 0.506364   ║ \n",
      "1050 ║  - │   -   ║  1.29580953854 ║   -  │   -  ║ QN │     6 │ 0.031250 ║     1 │ 0.121078   ║ \n",
      "1100 ║  - │   -   ║  1.24014323121 ║   -  │   -  ║ QN │     5 │ 0.062500 ║     1 │ 0.141983   ║ \n",
      "1150 ║  - │   -   ║  1.19749328667 ║   -  │   -  ║ QN │     6 │ 0.031250 ║     1 │ 0.152592   ║ \n",
      "1200 ║  - │   -   ║  1.15739929932 ║   -  │   -  ║ QN │     4 │ 0.125000 ║     1 │ 0.109042   ║ \n",
      "1250 ║  - │   -   ║  1.10440624403 ║   -  │   -  ║ QN │     5 │ 0.062500 ║     1 │ 0.120228   ║ \n",
      "1300 ║  - │   -   ║  1.07670064678 ║   -  │   -  ║ QN │     5 │ 0.062500 ║     1 │ 0.162434   ║ \n",
      "1350 ║  - │   -   ║  1.03797067869 ║   -  │   -  ║ QN │     4 │ 0.125000 ║     1 │ 0.085438   ║ \n",
      "1400 ║  - │   -   ║  1.00597617707 ║   -  │   -  ║ QN │     3 │ 0.250000 ║     1 │ 0.185940   ║ \n",
      "1450 ║  - │   -   ║  0.94181070101 ║   -  │   -  ║ QN │     3 │ 0.250000 ║     1 │ 0.149142   ║ \n",
      "1500 ║  - │   -   ║  0.88088713799 ║   -  │   -  ║ QN │     4 │ 0.125000 ║     1 │ 0.061175   ║ \n",
      "1550 ║  - │   -   ║  0.84687022802 ║   -  │   -  ║ QN │     3 │ 0.250000 ║     1 │ 0.140170   ║ \n",
      "1600 ║  - │   -   ║  0.80159460815 ║   -  │   -  ║ QN │     3 │ 0.250000 ║     1 │ 0.106616   ║ \n",
      "1650 ║  - │   -   ║  0.75002011371 ║   -  │   -  ║ QN │     3 │ 0.250000 ║     1 │ 0.129174   ║ \n",
      "1700 ║  - │   -   ║  0.70575286036 ║   -  │   -  ║ QN │     3 │ 0.250000 ║     1 │ 0.069722   ║ \n",
      "1750 ║  - │   -   ║  0.66231697791 ║   -  │   -  ║ QN │     2 │ 0.500000 ║     1 │ 0.048402   ║ \n",
      "1800 ║  - │   -   ║  0.62147390434 ║   -  │   -  ║ QN │     3 │ 0.250000 ║     1 │ 0.125058   ║ \n",
      "1850 ║  - │   -   ║  0.58364286401 ║   -  │   -  ║ QN │     3 │ 0.250000 ║     1 │ 0.557080   ║ \n",
      "1900 ║  - │   -   ║  0.55232653531 ║   -  │   -  ║ QN │     3 │ 0.250000 ║     1 │ 0.065187   ║ \n",
      "1950 ║  - │   -   ║  0.52865983827 ║   -  │   -  ║ QN │     3 │ 0.250000 ║     1 │ 0.092829   ║ \n",
      "═════╬════════════╬════════════════╬═════════════╬═══════════════════════╬════════════════════╣\n",
      "     ║ Penalty Fn ║                ║  Violation  ║ <--- Line Search ---> ║ <- Stationarity -> ║ \n",
      "Iter ║ Mu │ Value ║    Objective   ║ Ineq │  Eq  ║ SD │ Evals │     t    ║ Grads │    Value   ║ \n",
      "═════╬════════════╬════════════════╬═════════════╬═══════════════════════╬════════════════════╣\n",
      "2000 ║  - │   -   ║  0.50533190854 ║   -  │   -  ║ QN │     3 │ 0.250000 ║     1 │ 0.304710   ║ \n",
      "2050 ║  - │   -   ║  0.47623068678 ║   -  │   -  ║ QN │     2 │ 0.500000 ║     1 │ 0.606035   ║ \n",
      "2100 ║  - │   -   ║  0.44951301587 ║   -  │   -  ║ QN │     3 │ 0.250000 ║     1 │ 0.209037   ║ \n",
      "2150 ║  - │   -   ║  0.42970529257 ║   -  │   -  ║ QN │     2 │ 0.500000 ║     1 │ 0.552042   ║ \n",
      "2200 ║  - │   -   ║  0.40516805671 ║   -  │   -  ║ QN │     2 │ 0.500000 ║     1 │ 0.114453   ║ \n",
      "2250 ║  - │   -   ║  0.38590685242 ║   -  │   -  ║ QN │     3 │ 0.250000 ║     1 │ 0.143994   ║ \n",
      "2300 ║  - │   -   ║  0.36659065601 ║   -  │   -  ║ QN │     2 │ 0.500000 ║     1 │ 0.280174   ║ \n",
      "2350 ║  - │   -   ║  0.34940764916 ║   -  │   -  ║ QN │     2 │ 0.500000 ║     1 │ 0.027731   ║ \n",
      "2400 ║  - │   -   ║  0.33296372897 ║   -  │   -  ║ QN │     3 │ 0.250000 ║     1 │ 0.044493   ║ \n",
      "2450 ║  - │   -   ║  0.31406954167 ║   -  │   -  ║ QN │     2 │ 0.500000 ║     1 │ 0.110045   ║ \n",
      "2500 ║  - │   -   ║  0.29398727487 ║   -  │   -  ║ QN │     2 │ 0.500000 ║     1 │ 0.125098   ║ \n",
      "2550 ║  - │   -   ║  0.27546393426 ║   -  │   -  ║ QN │     2 │ 0.500000 ║     1 │ 0.247472   ║ \n",
      "2600 ║  - │   -   ║  0.26021469600 ║   -  │   -  ║ QN │     2 │ 0.500000 ║     1 │ 0.281454   ║ \n",
      "2650 ║  - │   -   ║  0.24528483465 ║   -  │   -  ║ QN │     2 │ 0.500000 ║     1 │ 0.289437   ║ \n",
      "2700 ║  - │   -   ║  0.23319922409 ║   -  │   -  ║ QN │     1 │ 1.000000 ║     1 │ 0.130473   ║ \n",
      "2750 ║  - │   -   ║  0.22059031212 ║   -  │   -  ║ QN │     2 │ 0.500000 ║     1 │ 0.064573   ║ \n",
      "2800 ║  - │   -   ║  0.20789438615 ║   -  │   -  ║ QN │     2 │ 0.500000 ║     1 │ 0.080499   ║ \n",
      "2850 ║  - │   -   ║  0.19222042741 ║   -  │   -  ║ QN │     3 │ 0.250000 ║     1 │ 0.016695   ║ \n",
      "2900 ║  - │   -   ║  0.18174682049 ║   -  │   -  ║ QN │     2 │ 0.500000 ║     1 │ 0.038045   ║ \n",
      "2950 ║  - │   -   ║  0.17301578560 ║   -  │   -  ║ QN │     2 │ 0.500000 ║     1 │ 0.125912   ║ \n",
      "═════╬════════════╬════════════════╬═════════════╬═══════════════════════╬════════════════════╣\n",
      "     ║ Penalty Fn ║                ║  Violation  ║ <--- Line Search ---> ║ <- Stationarity -> ║ \n",
      "Iter ║ Mu │ Value ║    Objective   ║ Ineq │  Eq  ║ SD │ Evals │     t    ║ Grads │    Value   ║ \n",
      "═════╬════════════╬════════════════╬═════════════╬═══════════════════════╬════════════════════╣\n",
      "3000 ║  - │   -   ║  0.16183800820 ║   -  │   -  ║ QN │     1 │ 1.000000 ║     1 │ 0.056243   ║ \n",
      "═════╩════════════╩════════════════╩═════════════╩═══════════════════════╩════════════════════╣\n",
      "Optimization results:                                                                         ║ \n",
      "F = final iterate, B = Best (to tolerance), MF = Most Feasible                                ║ \n",
      "═════╦════════════╦════════════════╦═════════════╦═══════════════════════╦════════════════════╣\n",
      "   F ║    │       ║  0.16183800820 ║   -  │   -  ║    │       │          ║       │            ║ \n",
      "   B ║    │       ║  0.16183800820 ║   -  │   -  ║    │       │          ║       │            ║ \n",
      "═════╩════════════╩════════════════╩═════════════╩═══════════════════════╩════════════════════╣\n",
      "Iterations:              3000                                                                 ║ \n",
      "Function evaluations:    13263                                                                ║ \n",
      "PyGRANSO termination code: 4 --- max iterations reached.                                      ║ \n",
      "══════════════════════════════════════════════════════════════════════════════════════════════╝\n",
      "Total Wall Time: 455.77893233299255s\n",
      "Objective: tensor(0.1605, dtype=torch.float64, grad_fn=<NllLossBackward0>)\n",
      "Penalty parameter: tensor([1.], dtype=torch.float64)\n",
      "Penalty: tensor(0.0013, dtype=torch.float64, grad_fn=<LinalgVectorNormBackward0>)\n",
      "\n",
      "Iter 1\n",
      "\n",
      "\n",
      "\u001B[33m╔═════ QP SOLVER NOTICE ════════════════════════════════════════════════════════════════════════╗\n",
      "\u001B[0m\u001B[33m║  PyGRANSO requires a quadratic program (QP) solver that has a quadprog-compatible interface,  ║\n",
      "\u001B[0m\u001B[33m║  the default is osqp. Users may provide their own wrapper for the QP solver.                  ║\n",
      "\u001B[0m\u001B[33m║  To disable this notice, set opts.quadprog_info_msg = False                                   ║\n",
      "\u001B[0m\u001B[33m╚═══════════════════════════════════════════════════════════════════════════════════════════════╝\n",
      "\u001B[0m══════════════════════════════════════════════════════════════════════════════════════════════╗\n",
      "PyGRANSO: A PyTorch-enabled port of GRANSO with auto-differentiation                          ║ \n",
      "Version 1.2.0                                                                                 ║ \n",
      "Licensed under the AGPLv3, Copyright (C) 2021-2022 Tim Mitchell and Buyun Liang               ║ \n",
      "══════════════════════════════════════════════════════════════════════════════════════════════╣\n",
      "Problem specifications:                                                                       ║ \n",
      " # of variables                     :   2110                                                  ║ \n",
      " # of inequality constraints        :      0                                                  ║ \n",
      " # of equality constraints          :      0                                                  ║ \n",
      "═════╦════════════╦════════════════╦═════════════╦═══════════════════════╦════════════════════╣\n",
      "     ║ Penalty Fn ║                ║  Violation  ║ <--- Line Search ---> ║ <- Stationarity -> ║ \n",
      "Iter ║ Mu │ Value ║    Objective   ║ Ineq │  Eq  ║ SD │ Evals │     t    ║ Grads │    Value   ║ \n",
      "═════╬════════════╬════════════════╬═════════════╬═══════════════════════╬════════════════════╣\n",
      "   0 ║  - │   -   ║  0.16197221907 ║   -  │   -  ║ -  │     1 │ 0.000000 ║     1 │ 66.02449   ║ \n",
      "  50 ║  - │   -   ║  0.16052683958 ║   -  │   -  ║ QN │     8 │ 0.007812 ║     1 │ 2.04e-05   ║ \n",
      " 100 ║  - │   -   ║  0.16050900908 ║   -  │   -  ║ QN │    10 │ 0.001953 ║     1 │ 1.58e-05   ║ \n",
      "═════╩════════════╩════════════════╩═════════════╩═══════════════════════╩════════════════════╣\n",
      "Optimization results:                                                                         ║ \n",
      "F = final iterate, B = Best (to tolerance), MF = Most Feasible                                ║ \n",
      "═════╦════════════╦════════════════╦═════════════╦═══════════════════════╦════════════════════╣\n",
      "   F ║    │       ║  0.16050878719 ║   -  │   -  ║    │       │          ║       │            ║ \n",
      "   B ║    │       ║  0.16050878719 ║   -  │   -  ║    │       │          ║       │            ║ \n",
      "═════╩════════════╩════════════════╩═════════════╩═══════════════════════╩════════════════════╣\n",
      "Iterations:              101                                                                  ║ \n",
      "Function evaluations:    724                                                                  ║ \n",
      "PyGRANSO termination code: 0 --- converged to stationarity tolerance.                         ║ \n",
      "══════════════════════════════════════════════════════════════════════════════════════════════╝\n",
      "Total Wall Time: 20.73972511291504s\n",
      "Objective: tensor(0.1605, dtype=torch.float64, grad_fn=<NllLossBackward0>)\n",
      "Penalty parameter: tensor([1.1000], dtype=torch.float64)\n",
      "Penalty: tensor(1.1557e-05, dtype=torch.float64, grad_fn=<LinalgVectorNormBackward0>)\n"
     ]
    }
   ],
   "execution_count": 31
  },
  {
   "metadata": {
    "ExecuteTime": {
     "end_time": "2025-04-21T00:50:12.040531Z",
     "start_time": "2025-04-21T00:50:12.019254Z"
    }
   },
   "cell_type": "code",
   "source": [
    "model.eval()\n",
    "\n",
    "logits = model(inputs)\n",
    "_, predicted = torch.max(logits.data, 1)\n",
    "correct = (predicted == labels).sum().item()\n",
    "print(\"Final acc = {:.2f}%\".format((100 * correct/len(inputs))))  "
   ],
   "id": "4eb7767fb4132973",
   "outputs": [
    {
     "name": "stdout",
     "output_type": "stream",
     "text": [
      "Final acc = 95.31%\n"
     ]
    }
   ],
   "execution_count": 32
  },
  {
   "metadata": {
    "ExecuteTime": {
     "end_time": "2025-04-21T00:50:14.418144Z",
     "start_time": "2025-04-21T00:50:12.042359Z"
    }
   },
   "cell_type": "code",
   "source": [
    "model.eval()\n",
    "\n",
    "inputs, labels = next(iter(loaders['test']))\n",
    "inputs, labels = inputs.reshape(-1, sequence_length, input_size).to(device=device, dtype=double_precision), labels.to(device=device)\n",
    "\n",
    "logits = model(inputs)\n",
    "_, predicted = torch.max(logits.data, 1)\n",
    "correct = (predicted == labels).sum().item()\n",
    "print(\"Final test acc = {:.2f}%\".format((100 * correct/len(inputs))))  "
   ],
   "id": "f7970f37d6a59ce2",
   "outputs": [
    {
     "name": "stdout",
     "output_type": "stream",
     "text": [
      "Final test acc = 66.80%\n"
     ]
    }
   ],
   "execution_count": 33
  }
 ],
 "metadata": {
  "kernelspec": {
   "display_name": "Python 3 (ipykernel)",
   "language": "python",
   "name": "python3"
  },
  "language_info": {
   "codemirror_mode": {
    "name": "ipython",
    "version": 3
   },
   "file_extension": ".py",
   "mimetype": "text/x-python",
   "name": "python",
   "nbconvert_exporter": "python",
   "pygments_lexer": "ipython3",
   "version": "3.9.7"
  }
 },
 "nbformat": 4,
 "nbformat_minor": 5
}
