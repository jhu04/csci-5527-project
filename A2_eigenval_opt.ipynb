{
 "cells": [
  {
   "cell_type": "markdown",
   "id": "5257bb27",
   "metadata": {},
   "source": [
    "# Eigenvalue Optimization\n",
    "\n",
    "Eigenvalue Optimization taken from: [GRANSO](http://www.timmitchell.com/software/GRANSO/) demo example 4."
   ]
  },
  {
   "cell_type": "markdown",
   "id": "16ae1959",
   "metadata": {},
   "source": [
    "## Problem Description"
   ]
  },
  {
   "cell_type": "markdown",
   "id": "72e3a77a",
   "metadata": {},
   "source": [
    "We have $M=A+BXC$,\n",
    "where the matrices $A\\in R^{N,N},B\\in R^{N,M}$ and $C\\in R^{P,N}$ are given, $X\\in R^{M,P}$ is the matrix form optimization variable.\n",
    "\n",
    "We have the nonconvex, nonsmooth, and constrained optimization problem\n",
    "$$\\min_{X}\\max| \\mathrm{Im} (\\Lambda(A+BXC))|,$$\n",
    "$$\\text{s.t. }\\alpha(A+BXC)+\\xi \\leq 0,$$\n",
    "where $\\mathrm{Im}(\\cdot)$ is the imaginary part of complex number, $\\xi$ is the stability margin, and $\\Lambda(\\cdot)$ is the spectrum of a square matrix $\\cdot$, and $\\alpha(\\cdot)$ is the spectral abscissa of a square matrix, i.e., the maximum real part of its eigenvalues."
   ]
  },
  {
   "cell_type": "markdown",
   "id": "08dfdd50",
   "metadata": {},
   "source": [
    "## Modules Importing\n",
    "Import all necessary modules and add PyGRANSO src folder to system path."
   ]
  },
  {
   "cell_type": "code",
   "id": "90ed32f9",
   "metadata": {
    "ExecuteTime": {
     "end_time": "2025-03-20T21:40:14.971990Z",
     "start_time": "2025-03-20T21:40:12.851265Z"
    }
   },
   "source": [
    "import time\n",
    "import torch\n",
    "from pygranso.pygranso import pygranso\n",
    "from pygranso.pygransoStruct import pygransoStruct\n",
    "import scipy.io\n",
    "from torch import linalg as LA"
   ],
   "outputs": [],
   "execution_count": 1
  },
  {
   "cell_type": "markdown",
   "id": "17a1b7fe",
   "metadata": {},
   "source": [
    "## Data Initialization \n",
    "Specify torch device, and read the data from a provided file.\n",
    "\n",
    "Use GPU for this problem. If no cuda device available, please set *device = torch.device('cpu')*"
   ]
  },
  {
   "cell_type": "code",
   "id": "8b4842e1",
   "metadata": {
    "ExecuteTime": {
     "end_time": "2025-03-20T21:40:14.984417Z",
     "start_time": "2025-03-20T21:40:14.972820Z"
    }
   },
   "source": [
    "device = torch.device('cpu')\n",
    "\n",
    "file = \"./examples/data/spec_radius_opt_data.mat\"\n",
    "mat = scipy.io.loadmat(file)\n",
    "mat_struct = mat['sys']\n",
    "mat_struct = mat_struct[0,0]\n",
    "# All the user-provided data (vector/matrix/tensor) must be in torch tensor format. \n",
    "# As PyTorch tensor is single precision by default, one must explicitly set `dtype=torch.double`.\n",
    "# Also, please make sure the device of provided torch tensor is the same as opts.torch_device.\n",
    "A = torch.from_numpy(mat_struct['A']).to(device=device, dtype=torch.double)\n",
    "B = torch.from_numpy(mat_struct['B']).to(device=device, dtype=torch.double)\n",
    "C = torch.from_numpy(mat_struct['C']).to(device=device, dtype=torch.double)\n",
    "p = B.shape[1]\n",
    "m = C.shape[0]\n",
    "stability_margin = 1"
   ],
   "outputs": [],
   "execution_count": 2
  },
  {
   "cell_type": "markdown",
   "id": "ec80716b",
   "metadata": {},
   "source": [
    "## Function Set-Up\n",
    "\n",
    "Encode the optimization variables, and objective and constraint functions.\n",
    "\n",
    "Note: please strictly follow the format of comb_fn, which will be used in the PyGRANSO main algortihm."
   ]
  },
  {
   "cell_type": "code",
   "id": "fb360e75",
   "metadata": {
    "ExecuteTime": {
     "end_time": "2025-03-20T21:40:14.989772Z",
     "start_time": "2025-03-20T21:40:14.986276Z"
    }
   },
   "source": [
    "# variables and corresponding dimensions.\n",
    "var_in = {\"X\": [p,m] }\n",
    "\n",
    "def user_fn(X_struct,A,B,C,stability_margin):\n",
    "    # user defined variable, matirx form. torch tensor\n",
    "    X = X_struct.X\n",
    "\n",
    "    # objective function\n",
    "    M           = A + B@X@C\n",
    "    [D,_]       = LA.eig(M)\n",
    "    f = torch.max(D.imag)\n",
    "\n",
    "    # inequality constraint, matrix form\n",
    "    ci = pygransoStruct()\n",
    "    ci.c1 = torch.max(D.real) + stability_margin\n",
    "\n",
    "    # equality constraint \n",
    "    ce = None\n",
    "    \n",
    "    return [f,ci,ce]\n",
    "\n",
    "comb_fn = lambda X_struct : user_fn(X_struct,A,B,C,stability_margin)"
   ],
   "outputs": [],
   "execution_count": 3
  },
  {
   "cell_type": "markdown",
   "id": "f0f55ace",
   "metadata": {},
   "source": [
    "## User Options\n",
    "Specify user-defined options for PyGRANSO"
   ]
  },
  {
   "cell_type": "code",
   "id": "f3a65b57",
   "metadata": {
    "ExecuteTime": {
     "end_time": "2025-03-20T21:40:14.998945Z",
     "start_time": "2025-03-20T21:40:14.990418Z"
    }
   },
   "source": [
    "opts = pygransoStruct()\n",
    "opts.torch_device = device\n",
    "opts.maxit = 200\n",
    "opts.x0 = torch.zeros(p*m,1).to(device=device, dtype=torch.double)\n",
    "# print for every 10 iterations. default: 1\n",
    "opts.print_frequency = 10"
   ],
   "outputs": [],
   "execution_count": 4
  },
  {
   "cell_type": "markdown",
   "id": "8bca18c7",
   "metadata": {},
   "source": [
    "## Main Algorithm"
   ]
  },
  {
   "cell_type": "code",
   "id": "632976b3",
   "metadata": {
    "ExecuteTime": {
     "end_time": "2025-03-20T21:40:43.738506Z",
     "start_time": "2025-03-20T21:40:15.000431Z"
    }
   },
   "source": [
    "start = time.time()\n",
    "soln = pygranso(var_spec = var_in,combined_fn = comb_fn,user_opts = opts)\n",
    "end = time.time()\n",
    "print(\"Total Wall Time: {}s\".format(end - start))"
   ],
   "outputs": [
    {
     "name": "stdout",
     "output_type": "stream",
     "text": [
      "\n",
      "\n",
      "\u001B[33m╔═════ QP SOLVER NOTICE ════════════════════════════════════════════════════════════════════════╗\n",
      "\u001B[0m\u001B[33m║  PyGRANSO requires a quadratic program (QP) solver that has a quadprog-compatible interface,  ║\n",
      "\u001B[0m\u001B[33m║  the default is osqp. Users may provide their own wrapper for the QP solver.                  ║\n",
      "\u001B[0m\u001B[33m║  To disable this notice, set opts.quadprog_info_msg = False                                   ║\n",
      "\u001B[0m\u001B[33m╚═══════════════════════════════════════════════════════════════════════════════════════════════╝\n",
      "\u001B[0m═════════════════════════════════════════════════════════════════════════════════════════════════════════════════╗\n",
      "PyGRANSO: A PyTorch-enabled port of GRANSO with auto-differentiation                                             ║ \n",
      "Version 1.2.0                                                                                                    ║ \n",
      "Licensed under the AGPLv3, Copyright (C) 2021-2022 Tim Mitchell and Buyun Liang                                  ║ \n",
      "═════════════════════════════════════════════════════════════════════════════════════════════════════════════════╣\n",
      "Problem specifications:                                                                                          ║ \n",
      " # of variables                     :   200                                                                      ║ \n",
      " # of inequality constraints        :     1                                                                      ║ \n",
      " # of equality constraints          :     0                                                                      ║ \n",
      "═════╦═══════════════════════════╦════════════════╦═════════════════╦═══════════════════════╦════════════════════╣\n",
      "     ║ <--- Penalty Function --> ║                ║ Total Violation ║ <--- Line Search ---> ║ <- Stationarity -> ║ \n",
      "Iter ║    Mu    │      Value     ║    Objective   ║   Ineq   │  Eq  ║ SD │ Evals │     t    ║ Grads │    Value   ║ \n",
      "═════╬═══════════════════════════╬════════════════╬═════════════════╬═══════════════════════╬════════════════════╣\n",
      "   0 ║ 1.000000 │  19.7306140539 ║  13.7635444107 ║ 2.442759 │   -  ║ -  │     1 │ 0.000000 ║     1 │ 28.28938   ║ \n",
      "  10 ║ 1.000000 │  14.9749174293 ║  13.0237636352 ║ 1.396837 │   -  ║ S  │     1 │ 1.000000 ║     1 │ 0.022802   ║ \n",
      "  20 ║ 1.000000 │  13.9063570499 ║  12.8289445409 ║ 1.037985 │   -  ║ S  │     1 │ 1.000000 ║     1 │ 0.041164   ║ \n",
      "  30 ║ 0.387420 │  5.36505582164 ║  12.3734917629 ║ 0.755852 │   -  ║ S  │     2 │ 0.500000 ║     1 │ 0.009102   ║ \n",
      "  40 ║ 0.047101 │  0.78180422302 ║  12.4199883765 ║ 0.443629 │   -  ║ S  │     3 │ 0.250000 ║     1 │ 0.012637   ║ \n",
      "  50 ║ 0.047101 │  0.63909805154 ║  12.5463506777 ║ 0.219428 │   -  ║ S  │     3 │ 0.250000 ║     1 │ 0.005788   ║ \n",
      "  60 ║ 0.047101 │  0.58733814057 ║  12.3523232355 ║ 0.074349 │   -  ║ S  │     1 │ 1.000000 ║     1 │ 0.002169   ║ \n",
      "  70 ║ 0.047101 │  0.57508821351 ║  12.2085249650 ║ 0.007140 │   -  ║ S  │     6 │ 0.031250 ║     1 │ 0.002371   ║ \n",
      "  80 ║ 0.047101 │  0.57077583193 ║  12.1180517268 ║ 0.000000 │   -  ║ S  │     4 │ 0.125000 ║     1 │ 0.003265   ║ \n",
      "  90 ║ 0.047101 │  0.56511242035 ║  11.9978127281 ║ 0.000000 │   -  ║ S  │     1 │ 1.000000 ║     1 │ 9.87e-04   ║ \n",
      " 100 ║ 0.047101 │  0.56178279365 ║  11.9271219485 ║ 0.000000 │   -  ║ S  │     2 │ 2.000000 ║     1 │ 9.08e-04   ║ \n",
      " 110 ║ 0.047101 │  0.55758582512 ║  11.8376409584 ║ 0.004207 │   -  ║ S  │     7 │ 0.015625 ║     1 │ 0.009312   ║ \n",
      " 120 ║ 0.047101 │  0.55536320136 ║  11.7906052045 ║ 0.003244 │   -  ║ S  │     2 │ 0.500000 ║     1 │ 6.26e-04   ║ \n",
      " 130 ║ 0.047101 │  0.55365497372 ║  11.7545614846 ║ 0.000000 │   -  ║ S  │     2 │ 2.000000 ║     1 │ 0.001222   ║ \n",
      " 140 ║ 0.047101 │  0.55184853890 ║  11.7162093517 ║ 0.000000 │   -  ║ S  │     3 │ 0.250000 ║     1 │ 0.005586   ║ \n",
      " 150 ║ 0.047101 │  0.55085816947 ║  11.6951829744 ║ 0.000000 │   -  ║ S  │     1 │ 1.000000 ║     1 │ 4.66e-04   ║ \n",
      " 160 ║ 0.047101 │  0.54968308708 ║  11.6700463080 ║ 0.002981 │   -  ║ S  │     1 │ 1.000000 ║     1 │ 0.004068   ║ \n",
      " 170 ║ 0.047101 │  0.54798653992 ║  11.6342158599 ║ 0.000000 │   -  ║ S  │     5 │ 0.062500 ║     1 │ 0.012643   ║ \n",
      " 180 ║ 0.047101 │  0.54705893600 ║  11.6142704975 ║ 0.003442 │   -  ║ S  │     2 │ 0.500000 ║     1 │ 0.005718   ║ \n",
      " 190 ║ 0.047101 │  0.54541365871 ║  11.5791274983 ║ 0.004675 │   -  ║ S  │     2 │ 0.500000 ║     1 │ 0.008059   ║ \n",
      "═════╬═══════════════════════════╬════════════════╬═════════════════╬═══════════════════════╬════════════════════╣\n",
      "     ║ <--- Penalty Function --> ║                ║ Total Violation ║ <--- Line Search ---> ║ <- Stationarity -> ║ \n",
      "Iter ║    Mu    │      Value     ║    Objective   ║   Ineq   │  Eq  ║ SD │ Evals │     t    ║ Grads │    Value   ║ \n",
      "═════╬═══════════════════════════╬════════════════╬═════════════════╬═══════════════════════╬════════════════════╣\n",
      " 200 ║ 0.047101 │  0.54280736825 ║  11.5242576825 ║ 0.000000 │   -  ║ S  │     1 │ 1.000000 ║     1 │ 0.002285   ║ \n",
      "═════╩═══════════════════════════╩════════════════╩═════════════════╩═══════════════════════╩════════════════════╣\n",
      "Optimization results:                                                                                            ║ \n",
      "F = final iterate, B = Best (to tolerance), MF = Most Feasible                                                   ║ \n",
      "═════╦═══════════════════════════╦════════════════╦═════════════════╦═══════════════════════╦════════════════════╣\n",
      "   F ║          │                ║  11.5242576825 ║ 0.000000 │   -  ║    │       │          ║       │            ║ \n",
      "   B ║          │                ║  11.5242576825 ║ 0.000000 │   -  ║    │       │          ║       │            ║ \n",
      "  MF ║          │                ║  11.5242576825 ║ 0.000000 │   -  ║    │       │          ║       │            ║ \n",
      "═════╩═══════════════════════════╩════════════════╩═════════════════╩═══════════════════════╩════════════════════╣\n",
      "Iterations:              200                                                                                     ║ \n",
      "Function evaluations:    486                                                                                     ║ \n",
      "PyGRANSO termination code: 4 --- max iterations reached.                                                         ║ \n",
      "═════════════════════════════════════════════════════════════════════════════════════════════════════════════════╝\n",
      "Total Wall Time: 28.73489999771118s\n"
     ]
    }
   ],
   "execution_count": 5
  },
  {
   "cell_type": "markdown",
   "id": "2eec4c44",
   "metadata": {},
   "source": [
    "## LBFGS \n",
    "(Optional) LBFGS and feasibility related options"
   ]
  },
  {
   "cell_type": "code",
   "id": "f97cf86d",
   "metadata": {
    "ExecuteTime": {
     "end_time": "2025-03-20T21:41:40.493647Z",
     "start_time": "2025-03-20T21:40:43.741274Z"
    }
   },
   "source": [
    "opts = pygransoStruct()\n",
    "opts.torch_device = device\n",
    "opts.maxit = 200\n",
    "opts.x0 = torch.zeros(p*m,1).to(device=device, dtype=torch.double)\n",
    "# print for every 10 iterations. default: 1\n",
    "opts.print_frequency = 10\n",
    "\n",
    "# Limited-memory mode is generally not recommended for nonsmooth\n",
    "# problems, such as this one, but it can nonetheless enabled if\n",
    "# desired/necessary.  opts.limited_mem_size == 0 is off, that is, \n",
    "# limited-memory mode is disabled.\n",
    "# Note that this example has 200 variables.\n",
    "opts.limited_mem_size = 40\n",
    "\n",
    "start = time.time()\n",
    "soln = pygranso(var_spec = var_in,combined_fn = comb_fn,user_opts = opts)\n",
    "end = time.time()\n",
    "print(\"Total Wall Time: {}s\".format(end - start))"
   ],
   "outputs": [
    {
     "name": "stdout",
     "output_type": "stream",
     "text": [
      "\n",
      "\n",
      "\u001B[33m╔═════ QP SOLVER NOTICE ════════════════════════════════════════════════════════════════════════╗\n",
      "\u001B[0m\u001B[33m║  PyGRANSO requires a quadratic program (QP) solver that has a quadprog-compatible interface,  ║\n",
      "\u001B[0m\u001B[33m║  the default is osqp. Users may provide their own wrapper for the QP solver.                  ║\n",
      "\u001B[0m\u001B[33m║  To disable this notice, set opts.quadprog_info_msg = False                                   ║\n",
      "\u001B[0m\u001B[33m╚═══════════════════════════════════════════════════════════════════════════════════════════════╝\n",
      "\u001B[0m═════════════════════════════════════════════════════════════════════════════════════════════════════════════════╗\n",
      "PyGRANSO: A PyTorch-enabled port of GRANSO with auto-differentiation                                             ║ \n",
      "Version 1.2.0                                                                                                    ║ \n",
      "Licensed under the AGPLv3, Copyright (C) 2021-2022 Tim Mitchell and Buyun Liang                                  ║ \n",
      "═════════════════════════════════════════════════════════════════════════════════════════════════════════════════╣\n",
      "Problem specifications:                                                                                          ║ \n",
      " # of variables                     :   200                                                                      ║ \n",
      " # of inequality constraints        :     1                                                                      ║ \n",
      " # of equality constraints          :     0                                                                      ║ \n",
      "═════════════════════════════════════════════════════════════════════════════════════════════════════════════════╣\n",
      "\u001B[33mLimited-memory mode enabled with size = 40.                                                                     \u001B[0m ║ \n",
      "\u001B[33mNOTE: limited-memory mode is generally NOT                                                                      \u001B[0m ║ \n",
      "\u001B[33mrecommended for nonsmooth problems.                                                                             \u001B[0m ║ \n",
      "═════╦═══════════════════════════╦════════════════╦═════════════════╦═══════════════════════╦════════════════════╣\n",
      "     ║ <--- Penalty Function --> ║                ║ Total Violation ║ <--- Line Search ---> ║ <- Stationarity -> ║ \n",
      "Iter ║    Mu    │      Value     ║    Objective   ║   Ineq   │  Eq  ║ SD │ Evals │     t    ║ Grads │    Value   ║ \n",
      "═════╬═══════════════════════════╬════════════════╬═════════════════╬═══════════════════════╬════════════════════╣\n",
      "   0 ║ 1.000000 │  19.7306140539 ║  13.7635444107 ║ 2.442759 │   -  ║ -  │     1 │ 0.000000 ║     1 │ 28.28938   ║ \n"
     ]
    },
    {
     "name": "stderr",
     "output_type": "stream",
     "text": [
      "/Users/jeffreyhu/Desktop/s25/csci-5527/pygranso/PyGRANSO/pygranso/private/bfgsHessianInverseLimitedMem.py:237: UserWarning: The use of `x.T` on tensors of dimension other than 2 to reverse their shape is deprecated and it will throw an error in a future release. Consider `x.mT` to transpose batches of matrices or `x.permute(*torch.arange(x.ndim - 1, -1, -1))` to reverse the dimensions of a tensor. (Triggered internally at /Users/runner/work/pytorch/pytorch/pytorch/aten/src/ATen/native/TensorShape.cpp:3729.)\n",
      "  alpha[j,:]  = self.rho[0,j] * (self.S[:,j].T  @ q)\n"
     ]
    },
    {
     "name": "stdout",
     "output_type": "stream",
     "text": [
      "  10 ║ 1.000000 │  14.9749174293 ║  13.0237636352 ║ 1.396837 │   -  ║ S  │     1 │ 1.000000 ║     1 │ 0.022802   ║ \n",
      "  20 ║ 1.000000 │  13.9063570499 ║  12.8289445410 ║ 1.037985 │   -  ║ S  │     1 │ 1.000000 ║     1 │ 0.041164   ║ \n",
      "  30 ║ 0.387420 │  5.36505582158 ║  12.3734917629 ║ 0.755852 │   -  ║ S  │     2 │ 0.500000 ║     1 │ 0.009102   ║ \n",
      "  40 ║ 0.047101 │  0.78180422357 ║  12.4199883772 ║ 0.443629 │   -  ║ S  │     3 │ 0.250000 ║     1 │ 0.012637   ║ \n",
      "  50 ║ 0.047101 │  0.61703819957 ║  12.5364764038 ║ 0.162954 │   -  ║ S  │     9 │ 0.003906 ║     1 │ 0.001669   ║ \n",
      "  60 ║ 0.047101 │  0.58450664988 ║  12.3958134333 ║ 0.025454 │   -  ║ S  │     3 │ 0.250000 ║     1 │ 0.018595   ║ \n",
      "  70 ║ 0.047101 │  0.57534935458 ║  12.2135040112 ║ 0.008809 │   -  ║ S  │     2 │ 0.500000 ║     1 │ 0.005751   ║ \n",
      "  80 ║ 0.047101 │  0.57112933061 ║  12.1004585968 ║ 0.034383 │   -  ║ S  │     6 │ 0.093750 ║     1 │ 0.003038   ║ \n",
      "  90 ║ 0.047101 │  0.56668272611 ║  12.0302106758 ║ 0.006657 │   -  ║ S  │     3 │ 0.250000 ║     1 │ 0.002057   ║ \n",
      " 100 ║ 0.047101 │  0.56433822247 ║  11.9698093432 ║ 0.023341 │   -  ║ S  │     5 │ 0.062500 ║     1 │ 0.010233   ║ \n",
      " 110 ║ 0.047101 │  0.56271876370 ║  11.9311493952 ║ 0.027318 │   -  ║ S  │    10 │ 0.001953 ║     1 │ 0.045738   ║ \n",
      " 120 ║ 0.047101 │  0.55989610170 ║  11.8857081038 ║ 0.007997 │   -  ║ S  │    10 │ 0.001953 ║     1 │ 0.161685   ║ \n",
      " 130 ║ 0.047101 │  0.55926002398 ║  11.8719397134 ║ 0.008740 │   -  ║ S  │     8 │ 0.007812 ║     1 │ 0.037956   ║ \n",
      " 140 ║ 0.047101 │  0.55766918104 ║  11.8313485736 ║ 0.019936 │   -  ║ S  │     9 │ 0.003906 ║     1 │ 0.034139   ║ \n",
      " 150 ║ 0.047101 │  0.55592467598 ║  11.8002309031 ║ 0.010891 │   -  ║ S  │     5 │ 0.062500 ║     1 │ 0.024237   ║ \n",
      " 160 ║ 0.047101 │  0.55522978073 ║  11.7879959641 ║ 0.000000 │   -  ║ S  │     6 │ 0.031250 ║     1 │ 22.33747   ║ \n",
      " 170 ║ 0.047101 │  0.55488753960 ║  11.7785837673 ║ 0.010054 │   -  ║ S  │     6 │ 0.031250 ║     1 │ 0.351106   ║ \n",
      " 180 ║ 0.047101 │  0.55411065308 ║  11.7641760389 ║ 0.001680 │   -  ║ S  │     5 │ 0.062500 ║     1 │ 0.106024   ║ \n",
      " 190 ║ 0.047101 │  0.55373252001 ║  11.7533127693 ║ 0.011677 │   -  ║ S  │     7 │ 0.015625 ║     1 │ 0.013991   ║ \n",
      "═════╬═══════════════════════════╬════════════════╬═════════════════╬═══════════════════════╬════════════════════╣\n",
      "     ║ <--- Penalty Function --> ║                ║ Total Violation ║ <--- Line Search ---> ║ <- Stationarity -> ║ \n",
      "Iter ║    Mu    │      Value     ║    Objective   ║   Ineq   │  Eq  ║ SD │ Evals │     t    ║ Grads │    Value   ║ \n",
      "═════╬═══════════════════════════╬════════════════╬═════════════════╬═══════════════════════╬════════════════════╣\n",
      " 200 ║ 0.047101 │  0.55347103435 ║  11.7465084537 ║ 0.013977 │   -  ║ S  │     5 │ 0.062500 ║     1 │ 7.406275   ║ \n",
      "═════╩═══════════════════════════╩════════════════╩═════════════════╩═══════════════════════╩════════════════════╣\n",
      "Optimization results:                                                                                            ║ \n",
      "F = final iterate, B = Best (to tolerance), MF = Most Feasible                                                   ║ \n",
      "═════╦═══════════════════════════╦════════════════╦═════════════════╦═══════════════════════╦════════════════════╣\n",
      "   F ║          │                ║  11.7465084537 ║ 0.013977 │   -  ║    │       │          ║       │            ║ \n",
      "   B ║          │                ║  11.7569018292 ║ 0.000000 │   -  ║    │       │          ║       │            ║ \n",
      "  MF ║          │                ║  11.7569018292 ║ 0.000000 │   -  ║    │       │          ║       │            ║ \n",
      "═════╩═══════════════════════════╩════════════════╩═════════════════╩═══════════════════════╩════════════════════╣\n",
      "Iterations:              200                                                                                     ║ \n",
      "Function evaluations:    1136                                                                                    ║ \n",
      "PyGRANSO termination code: 4 --- max iterations reached.                                                         ║ \n",
      "═════════════════════════════════════════════════════════════════════════════════════════════════════════════════╝\n",
      "Total Wall Time: 56.745466232299805s\n"
     ]
    }
   ],
   "execution_count": 6
  },
  {
   "cell_type": "code",
   "id": "8dff3916",
   "metadata": {
    "ExecuteTime": {
     "end_time": "2025-03-20T21:41:40.504396Z",
     "start_time": "2025-03-20T21:41:40.497481Z"
    }
   },
   "source": [
    "# We can also tune PyGRANSO to more aggressively favor satisfying\n",
    "# feasibility over minimizing the objective.  Set feasibility_bias to\n",
    "# true to adjust the following three steering parameters away from\n",
    "# their default values.  For more details on these parameters, type\n",
    "# import pygransoOptionsAdvanced\n",
    "# help(pygransoOptionsAdvanced)\n",
    "import numpy as np\n",
    "opts = pygransoStruct()\n",
    "opts.torch_device = device\n",
    "feasibility_bias = True\n",
    "if feasibility_bias:\n",
    "    opts.steering_ineq_margin = np.inf    # default is 1e-6\n",
    "    opts.steering_c_viol = 0.9         # default is 0.1\n",
    "    opts.steering_c_mu = 0.1           # default is 0.9\n"
   ],
   "outputs": [],
   "execution_count": 7
  },
  {
   "cell_type": "code",
   "id": "3fb2e962",
   "metadata": {
    "ExecuteTime": {
     "end_time": "2025-03-20T21:41:46.989517Z",
     "start_time": "2025-03-20T21:41:40.506739Z"
    }
   },
   "source": [
    "opts.maxit = 200\n",
    "opts.x0 = torch.zeros(p*m,1).to(device=device, dtype=torch.double)\n",
    "# print for every 10 iterations. default: 1\n",
    "opts.print_frequency = 10\n",
    "\n",
    "start = time.time()\n",
    "soln = pygranso(var_spec = var_in,combined_fn = comb_fn,user_opts = opts)\n",
    "end = time.time()\n",
    "print(\"Total Wall Time: {}s\".format(end - start))"
   ],
   "outputs": [
    {
     "name": "stdout",
     "output_type": "stream",
     "text": [
      "\n",
      "\n",
      "\u001B[33m╔═════ QP SOLVER NOTICE ════════════════════════════════════════════════════════════════════════╗\n",
      "\u001B[0m\u001B[33m║  PyGRANSO requires a quadratic program (QP) solver that has a quadprog-compatible interface,  ║\n",
      "\u001B[0m\u001B[33m║  the default is osqp. Users may provide their own wrapper for the QP solver.                  ║\n",
      "\u001B[0m\u001B[33m║  To disable this notice, set opts.quadprog_info_msg = False                                   ║\n",
      "\u001B[0m\u001B[33m╚═══════════════════════════════════════════════════════════════════════════════════════════════╝\n",
      "\u001B[0m═════════════════════════════════════════════════════════════════════════════════════════════════════════════════╗\n",
      "PyGRANSO: A PyTorch-enabled port of GRANSO with auto-differentiation                                             ║ \n",
      "Version 1.2.0                                                                                                    ║ \n",
      "Licensed under the AGPLv3, Copyright (C) 2021-2022 Tim Mitchell and Buyun Liang                                  ║ \n",
      "═════════════════════════════════════════════════════════════════════════════════════════════════════════════════╣\n",
      "Problem specifications:                                                                                          ║ \n",
      " # of variables                     :   200                                                                      ║ \n",
      " # of inequality constraints        :     1                                                                      ║ \n",
      " # of equality constraints          :     0                                                                      ║ \n",
      "═════╦═══════════════════════════╦════════════════╦═════════════════╦═══════════════════════╦════════════════════╣\n",
      "     ║ <--- Penalty Function --> ║                ║ Total Violation ║ <--- Line Search ---> ║ <- Stationarity -> ║ \n",
      "Iter ║    Mu    │      Value     ║    Objective   ║   Ineq   │  Eq  ║ SD │ Evals │     t    ║ Grads │    Value   ║ \n",
      "═════╬═══════════════════════════╬════════════════╬═════════════════╬═══════════════════════╬════════════════════╣\n",
      "   0 ║ 1.000000 │  19.7306140539 ║  13.7635444107 ║ 2.442759 │   -  ║ -  │     1 │ 0.000000 ║     1 │ 28.28938   ║ \n",
      "  10 ║ 1.000000 │  14.9749174293 ║  13.0237636352 ║ 1.396837 │   -  ║ S  │     1 │ 1.000000 ║     1 │ 0.022802   ║ \n",
      "  20 ║ 0.100000 │  2.43768261245 ║  13.2830104299 ║ 1.053272 │   -  ║ S  │     4 │ 0.125000 ║     1 │ 0.019841   ║ \n",
      "  30 ║ 1.00e-21 │  0.29030525553 ║  12.9167685751 ║ 0.538800 │   -  ║ S  │     2 │ 0.500000 ║     1 │ 0.007912   ║ \n",
      "  40 ║ 1.00e-21 │  0.06037210962 ║  12.8829181233 ║ 0.245707 │   -  ║ S  │     1 │ 1.000000 ║     1 │ 0.004505   ║ \n",
      "  50 ║ 1.00e-21 │  5.6310515e-04 ║  12.9183567907 ║ 0.023730 │   -  ║ S  │     1 │ 1.000000 ║     1 │ 4.66e-04   ║ \n",
      "═════╩═══════════════════════════╩════════════════╩═════════════════╩═══════════════════════╩════════════════════╣\n",
      "Optimization results:                                                                                            ║ \n",
      "F = final iterate, B = Best (to tolerance), MF = Most Feasible                                                   ║ \n",
      "═════╦═══════════════════════════╦════════════════╦═════════════════╦═══════════════════════╦════════════════════╣\n",
      "   F ║          │                ║  12.9179262422 ║ 0.000000 │   -  ║    │       │          ║       │            ║ \n",
      "   B ║          │                ║  12.9179262422 ║ 0.000000 │   -  ║    │       │          ║       │            ║ \n",
      "  MF ║          │                ║  12.9179262422 ║ 0.000000 │   -  ║    │       │          ║       │            ║ \n",
      "═════╩═══════════════════════════╩════════════════╩═════════════════╩═══════════════════════╩════════════════════╣\n",
      "Iterations:              52                                                                                      ║ \n",
      "Function evaluations:    124                                                                                     ║ \n",
      "PyGRANSO termination code: 0 --- converged to stationarity and feasibility tolerances.                           ║ \n",
      "═════════════════════════════════════════════════════════════════════════════════════════════════════════════════╝\n",
      "Total Wall Time: 6.477824926376343s\n"
     ]
    }
   ],
   "execution_count": 8
  },
  {
   "cell_type": "markdown",
   "id": "c1abe9e7",
   "metadata": {},
   "source": [
    "In my testing, with default parameters, PyGRANSO will first obtain a\n",
    "feasible solution at iter ~= 160 and will reduce the objective to\n",
    "11.60 by the time it attains max iteration count of 200.\n",
    "\n",
    "With feasibility_bias = True, in my testing, PyGRANSO will obtain its\n",
    "first feasible solution earlier, at iter ~= 60, but it will ultimately\n",
    "have reduced the objective value less, only to 12.21, by the end of\n",
    "its 200 maximum allowed iterations."
   ]
  }
 ],
 "metadata": {
  "kernelspec": {
   "display_name": "Python 3 (ipykernel)",
   "language": "python",
   "name": "python3"
  },
  "language_info": {
   "codemirror_mode": {
    "name": "ipython",
    "version": 3
   },
   "file_extension": ".py",
   "mimetype": "text/x-python",
   "name": "python",
   "nbconvert_exporter": "python",
   "pygments_lexer": "ipython3",
   "version": "3.9.7"
  }
 },
 "nbformat": 4,
 "nbformat_minor": 5
}
