{
 "cells": [
  {
   "cell_type": "markdown",
   "id": "5257bb27",
   "metadata": {},
   "source": [
    "# Orthogonal RNN\n",
    "\n",
    "Train Orthogonal RNN for MNIST classification based on [this Paper](https://arxiv.org/pdf/1901.08428.pdf)\n",
    "\n",
    "NOTE: this example is still under development. "
   ]
  },
  {
   "cell_type": "markdown",
   "id": "c859c154",
   "metadata": {},
   "source": [
    "## Problem Description"
   ]
  },
  {
   "cell_type": "markdown",
   "id": "b96269c7",
   "metadata": {},
   "source": [
    "For each element in the input sequence, each layer computes the following function:\n",
    "$$h_t=\\tanh(W_{ih}x_t+b_{ih}+W_{hh}h_{t-1}+b_hh)$$\n",
    "\n",
    "where $h_{t}$ is the hidden state at time $t$, and $h_{t-1}$ is the hidden state of the previous layer at time $t-1$ or the initial hidden state at time $o$. \n",
    "\n",
    "For each layer, we have the orthogonal constraint:\n",
    "$$ W_{hh}^T W_{hh} = I $$"
   ]
  },
  {
   "cell_type": "markdown",
   "id": "08dfdd50",
   "metadata": {},
   "source": [
    "## Modules Importing\n",
    "Import all necessary modules and add PyGRANSO src folder to system path. "
   ]
  },
  {
   "cell_type": "code",
   "id": "90ed32f9",
   "metadata": {
    "ExecuteTime": {
     "end_time": "2025-04-21T03:45:05.549767Z",
     "start_time": "2025-04-21T03:45:05.544454Z"
    }
   },
   "source": [
    "import time\n",
    "import torch\n",
    "import sys\n",
    "## Adding PyGRANSO directories. Should be modified by user\n",
    "sys.path.append('.')\n",
    "from pygranso.pygranso import pygranso\n",
    "from pygranso.pygransoStruct import pygransoStruct \n",
    "from pygranso.private.getNvar import getNvarTorch\n",
    "import torch.nn as nn\n",
    "from torchvision import datasets\n",
    "from torchvision.transforms import ToTensor\n",
    "from pygranso.private.getObjGrad import getObjGradDL"
   ],
   "outputs": [],
   "execution_count": 31
  },
  {
   "cell_type": "markdown",
   "id": "17a1b7fe",
   "metadata": {},
   "source": [
    "## Data Initialization \n",
    "Specify torch device, neural network architecture, and generate data.\n",
    "\n",
    "NOTE: please specify path for downloading data.\n",
    "\n",
    "Use GPU for this problem. If no cuda device available, please set *device = torch.device('cpu')*"
   ]
  },
  {
   "cell_type": "code",
   "id": "8b4842e1",
   "metadata": {
    "ExecuteTime": {
     "end_time": "2025-04-21T03:45:08.665387Z",
     "start_time": "2025-04-21T03:45:05.570779Z"
    }
   },
   "source": [
    "device = torch.device(\"cuda\" if torch.cuda.is_available() else \"cpu\")\n",
    "\n",
    "sequence_length = 28\n",
    "input_size = 28\n",
    "hidden_size = 30\n",
    "num_layers = 1\n",
    "num_classes = 10\n",
    "batch_size = 1024\n",
    "\n",
    "\n",
    "double_precision = torch.double\n",
    "\n",
    "class RNN(nn.Module):\n",
    "    \n",
    "    def __init__(self, input_size, hidden_size, num_layers, num_classes):\n",
    "        super(RNN, self).__init__()\n",
    "        self.hidden_size = hidden_size\n",
    "        self.num_layers = num_layers\n",
    "        # self.lstm = nn.LSTM(input_size, hidden_size, num_layers, batch_first=True)\n",
    "        self.rnn = nn.RNN(input_size, hidden_size, num_layers, batch_first=True)\n",
    "        self.fc = nn.Linear(hidden_size, num_classes)\n",
    "        pass\n",
    "    \n",
    "    def forward(self, x):\n",
    "        x = torch.reshape(x,(batch_size,sequence_length,input_size))\n",
    "        # Set initial hidden and cell states \n",
    "        h0 = torch.zeros(self.num_layers, x.size(0), self.hidden_size).to(device=device, dtype=double_precision)\n",
    "        out, hidden = self.rnn(x, h0)  # out: tensor of shape (batch_size, seq_length, hidden_size)\n",
    "        #Reshaping the outputs such that it can be fit into the fully connected layer\n",
    "        out = self.fc(out[:, -1, :])\n",
    "        return out\n",
    "    \n",
    "torch.manual_seed(0)\n",
    "\n",
    "model = RNN(input_size, hidden_size, num_layers, num_classes).to(device=device, dtype=double_precision)\n",
    "model.train()\n",
    "\n",
    "train_data = datasets.MNIST(\n",
    "    root = './examples/data/mnist',\n",
    "    train = True,                         \n",
    "    transform = ToTensor(), \n",
    "    download = True,            \n",
    ") \n",
    "test_data = datasets.MNIST(\n",
    "    root = './examples/data/mnist',\n",
    "    train = False,                         \n",
    "    transform = ToTensor(), \n",
    "    download = True,            \n",
    ") \n",
    "\n",
    "loaders = {\n",
    "    'train' : torch.utils.data.DataLoader(train_data, \n",
    "                                        batch_size=batch_size, \n",
    "                                        shuffle=True, \n",
    "                                        num_workers=1),\n",
    "    'test' : torch.utils.data.DataLoader(test_data, \n",
    "                                        batch_size=batch_size, \n",
    "                                        shuffle=True, \n",
    "                                        num_workers=1),\n",
    "}\n",
    "\n",
    "inputs, labels = next(iter(loaders['train']))\n",
    "inputs, labels = inputs.reshape(-1, sequence_length, input_size).to(device=device, dtype=double_precision), labels.to(device=device)\n",
    "\n",
    "test_inputs, test_labels = next(iter(loaders['test']))\n",
    "test_inputs, test_labels = test_inputs.reshape(-1, sequence_length, input_size).to(device=device, dtype=double_precision), test_labels.to(device=device)"
   ],
   "outputs": [],
   "execution_count": 32
  },
  {
   "cell_type": "markdown",
   "id": "ec80716b",
   "metadata": {},
   "source": [
    "## Function Set-Up\n",
    "\n",
    "Encode the optimization variables, and objective and constraint functions.\n",
    "\n",
    "Note: please strictly follow the format of comb_fn, which will be used in the PyGRANSO main algortihm."
   ]
  },
  {
   "metadata": {
    "ExecuteTime": {
     "end_time": "2025-04-21T03:45:08.668391Z",
     "start_time": "2025-04-21T03:45:08.666665Z"
    }
   },
   "cell_type": "code",
   "source": [
    "train_acc = []\n",
    "test_acc = []"
   ],
   "id": "a2a65d34979b849c",
   "outputs": [],
   "execution_count": 33
  },
  {
   "cell_type": "code",
   "id": "fb360e75",
   "metadata": {
    "ExecuteTime": {
     "end_time": "2025-04-21T03:45:08.671285Z",
     "start_time": "2025-04-21T03:45:08.669211Z"
    }
   },
   "source": [
    "def user_fn(model,inputs,labels):\n",
    "    # objective function    \n",
    "    logits = model(inputs)\n",
    "    criterion = nn.CrossEntropyLoss()\n",
    "    f = criterion(logits, labels)\n",
    "\n",
    "    A = list(model.parameters())[1]\n",
    "\n",
    "    # inequality constraint\n",
    "    ci = None\n",
    "\n",
    "    # equality constraint \n",
    "    # special orthogonal group\n",
    "    \n",
    "    ce = pygransoStruct()\n",
    "\n",
    "    c1_vec = (A.T @ A \n",
    "              - torch.eye(hidden_size)\n",
    "              .to(device=device, dtype=double_precision)\n",
    "             ).reshape(1,-1)\n",
    "    \n",
    "    ce.c1 = torch.linalg.vector_norm(c1_vec,2) # l2 folding to reduce the total number of constraints\n",
    "    # ce.c2 = torch.det(A) - 1\n",
    "\n",
    "    # ce = None\n",
    "\n",
    "    return [f,ci,ce]\n",
    "\n",
    "comb_fn = lambda model : user_fn(model,inputs,labels)"
   ],
   "outputs": [],
   "execution_count": 34
  },
  {
   "metadata": {
    "ExecuteTime": {
     "end_time": "2025-04-21T03:45:08.675292Z",
     "start_time": "2025-04-21T03:45:08.672407Z"
    }
   },
   "cell_type": "code",
   "source": [
    "def evaluate(model,inputs,labels,test_inputs,test_labels,train_acc,test_acc):\n",
    "    with torch.no_grad():\n",
    "        logits = model(inputs)\n",
    "        _, predicted = torch.max(logits.data, 1)\n",
    "        correct = (predicted == labels).sum().item()\n",
    "        acc_percent = 100 * correct/len(inputs)\n",
    "        train_acc.append(acc_percent)\n",
    "\n",
    "        test_logits = model(test_inputs)\n",
    "        _, test_predicted = torch.max(test_logits.data, 1)\n",
    "        test_correct = (test_predicted == test_labels).sum().item()\n",
    "        test_acc_percent = 100 * test_correct/len(test_inputs)\n",
    "        test_acc.append(test_acc_percent)"
   ],
   "id": "e59a76b17c1ef155",
   "outputs": [],
   "execution_count": 35
  },
  {
   "cell_type": "markdown",
   "id": "f0f55ace",
   "metadata": {},
   "source": [
    "## User Options\n",
    "Specify user-defined options for PyGRANSO "
   ]
  },
  {
   "cell_type": "code",
   "id": "f3a65b57",
   "metadata": {
    "ExecuteTime": {
     "end_time": "2025-04-21T03:45:08.678627Z",
     "start_time": "2025-04-21T03:45:08.675837Z"
    }
   },
   "source": [
    "opts = pygransoStruct()\n",
    "opts.torch_device = device\n",
    "nvar = getNvarTorch(model.parameters())\n",
    "opts.x0 = torch.nn.utils.parameters_to_vector(model.parameters()).detach().reshape(nvar,1)\n",
    "opts.opt_tol = 1e-3\n",
    "opts.viol_eq_tol = 1e-4\n",
    "# opts.maxit = 150\n",
    "# opts.fvalquit = 1e-6\n",
    "opts.print_level = 1\n",
    "opts.print_frequency = 50\n",
    "# opts.print_ascii = True\n",
    "# opts.limited_mem_size = 100\n",
    "opts.double_precision = True\n",
    "halt_log_fn = lambda iteration, x, penaltyfn_parts, d,get_BFGS_state_fn, H_regularized, ls_evals, alpha, n_gradients, stat_vec, stat_val, fallback_level: \\\n",
    "        evaluate(model,inputs,labels,test_inputs,test_labels,train_acc,test_acc)\n",
    "opts.halt_log_fn = halt_log_fn\n",
    "\n",
    "opts.mu0 = 1"
   ],
   "outputs": [],
   "execution_count": 36
  },
  {
   "cell_type": "markdown",
   "id": "754ba30a",
   "metadata": {},
   "source": [
    "## Initial Test \n",
    "Check initial accuracy of the RNN model"
   ]
  },
  {
   "cell_type": "code",
   "id": "711f0e9c",
   "metadata": {
    "ExecuteTime": {
     "end_time": "2025-04-21T03:45:08.693616Z",
     "start_time": "2025-04-21T03:45:08.679166Z"
    }
   },
   "source": [
    "logits = model(inputs)\n",
    "_, predicted = torch.max(logits.data, 1)\n",
    "correct = (predicted == labels).sum().item()\n",
    "print(\"Initial acc = {:.2f}%\".format((100 * correct/len(inputs))))  "
   ],
   "outputs": [
    {
     "name": "stdout",
     "output_type": "stream",
     "text": [
      "Initial acc = 8.79%\n"
     ]
    }
   ],
   "execution_count": 37
  },
  {
   "cell_type": "markdown",
   "id": "8bca18c7",
   "metadata": {},
   "source": [
    "## Main Algorithm"
   ]
  },
  {
   "cell_type": "code",
   "id": "632976b3",
   "metadata": {
    "ExecuteTime": {
     "end_time": "2025-04-21T03:47:28.704161Z",
     "start_time": "2025-04-21T03:45:08.694339Z"
    }
   },
   "source": [
    "start = time.time()\n",
    "soln = pygranso(var_spec= model, combined_fn = comb_fn, user_opts = opts)\n",
    "end = time.time()\n",
    "print(\"Total Wall Time: {}s\".format(end - start))"
   ],
   "outputs": [
    {
     "name": "stdout",
     "output_type": "stream",
     "text": [
      "\n",
      "\n",
      "\u001B[33m╔═════ QP SOLVER NOTICE ════════════════════════════════════════════════════════════════════════╗\n",
      "\u001B[0m\u001B[33m║  PyGRANSO requires a quadratic program (QP) solver that has a quadprog-compatible interface,  ║\n",
      "\u001B[0m\u001B[33m║  the default is osqp. Users may provide their own wrapper for the QP solver.                  ║\n",
      "\u001B[0m\u001B[33m║  To disable this notice, set opts.quadprog_info_msg = False                                   ║\n",
      "\u001B[0m\u001B[33m╚═══════════════════════════════════════════════════════════════════════════════════════════════╝\n",
      "\u001B[0m═════════════════════════════════════════════════════════════════════════════════════════════════════════════════╗\n",
      "PyGRANSO: A PyTorch-enabled port of GRANSO with auto-differentiation                                             ║ \n",
      "Version 1.2.0                                                                                                    ║ \n",
      "Licensed under the AGPLv3, Copyright (C) 2021-2022 Tim Mitchell and Buyun Liang                                  ║ \n",
      "═════════════════════════════════════════════════════════════════════════════════════════════════════════════════╣\n",
      "Problem specifications:                                                                                          ║ \n",
      " # of variables                     :   2110                                                                     ║ \n",
      " # of inequality constraints        :      0                                                                     ║ \n",
      " # of equality constraints          :      1                                                                     ║ \n",
      "═════╦═══════════════════════════╦════════════════╦═════════════════╦═══════════════════════╦════════════════════╣\n",
      "     ║ <--- Penalty Function --> ║                ║ Total Violation ║ <--- Line Search ---> ║ <- Stationarity -> ║ \n",
      "Iter ║    Mu    │      Value     ║    Objective   ║ Ineq │    Eq    ║ SD │ Evals │     t    ║ Grads │    Value   ║ \n",
      "═════╬═══════════════════════════╬════════════════╬═════════════════╬═══════════════════════╬════════════════════╣\n",
      "   0 ║ 1.000000 │  6.36966280589 ║  2.31442990364 ║   -  │ 4.055233 ║ -  │     1 │ 0.000000 ║     1 │ 0.722315   ║ \n",
      "  50 ║ 1.000000 │  0.97215462685 ║  0.81510712525 ║   -  │ 0.157048 ║ S  │     3 │ 0.250000 ║     1 │ 0.794053   ║ \n",
      " 100 ║ 1.000000 │  0.48743938441 ║  0.40138206990 ║   -  │ 0.086057 ║ S  │     4 │ 0.125000 ║     1 │ 0.643448   ║ \n",
      " 150 ║ 1.000000 │  0.26574773962 ║  0.19895820224 ║   -  │ 0.066790 ║ S  │     4 │ 0.125000 ║     1 │ 0.480973   ║ \n",
      " 200 ║ 1.000000 │  0.13960275570 ║  0.09987751603 ║   -  │ 0.039725 ║ S  │     5 │ 0.062500 ║     1 │ 0.435998   ║ \n",
      " 250 ║ 1.000000 │  0.08145476518 ║  0.05599974753 ║   -  │ 0.025455 ║ S  │     5 │ 0.062500 ║     1 │ 0.279553   ║ \n",
      " 300 ║ 1.000000 │  0.05581616206 ║  0.03988864487 ║   -  │ 0.015928 ║ S  │     6 │ 0.031250 ║     1 │ 0.726957   ║ \n",
      " 350 ║ 1.000000 │  0.04122194386 ║  0.03054955858 ║   -  │ 0.010672 ║ S  │     6 │ 0.031250 ║     1 │ 0.105967   ║ \n",
      " 400 ║ 1.000000 │  0.03224980506 ║  0.02260522365 ║   -  │ 0.009645 ║ S  │     5 │ 0.062500 ║     1 │ 0.331053   ║ \n",
      " 450 ║ 1.000000 │  0.02431021044 ║  0.01910210699 ║   -  │ 0.005208 ║ S  │     6 │ 0.031250 ║     1 │ 0.175560   ║ \n",
      " 500 ║ 1.000000 │  0.02076165507 ║  0.01648488718 ║   -  │ 0.004277 ║ S  │     6 │ 0.031250 ║     1 │ 0.094051   ║ \n",
      " 550 ║ 1.000000 │  0.01759704915 ║  0.01484566267 ║   -  │ 0.002751 ║ S  │     4 │ 0.125000 ║     1 │ 0.043493   ║ \n",
      " 600 ║ 1.000000 │  0.01574761602 ║  0.01335920131 ║   -  │ 0.002388 ║ S  │     9 │ 0.003906 ║     1 │ 0.313531   ║ \n",
      " 650 ║ 1.000000 │  0.01384708937 ║  0.01166341826 ║   -  │ 0.002184 ║ S  │     9 │ 0.003906 ║     1 │ 0.264857   ║ \n",
      " 700 ║ 1.000000 │  0.01253475853 ║  0.01054195269 ║   -  │ 0.001993 ║ S  │     6 │ 0.031250 ║     1 │ 1.285834   ║ \n",
      " 750 ║ 1.000000 │  0.01133685168 ║  0.00987128837 ║   -  │ 0.001466 ║ S  │    10 │ 0.001953 ║     1 │ 0.954325   ║ \n",
      " 800 ║ 1.000000 │  0.01046783058 ║  0.00931552517 ║   -  │ 0.001152 ║ S  │     6 │ 0.031250 ║     1 │ 0.966515   ║ \n",
      " 850 ║ 1.000000 │  0.00984018340 ║  0.00882764502 ║   -  │ 0.001013 ║ S  │     7 │ 0.015625 ║     1 │ 0.134808   ║ \n",
      " 900 ║ 1.000000 │  0.00934369342 ║  0.00849586464 ║   -  │ 8.48e-04 ║ S  │     7 │ 0.015625 ║     1 │ 0.817734   ║ \n",
      " 950 ║ 1.000000 │  0.00868265954 ║  0.00815622103 ║   -  │ 5.26e-04 ║ S  │     4 │ 0.125000 ║     1 │ 0.087604   ║ \n",
      "═════╬═══════════════════════════╬════════════════╬═════════════════╬═══════════════════════╬════════════════════╣\n",
      "     ║ <--- Penalty Function --> ║                ║ Total Violation ║ <--- Line Search ---> ║ <- Stationarity -> ║ \n",
      "Iter ║    Mu    │      Value     ║    Objective   ║ Ineq │    Eq    ║ SD │ Evals │     t    ║ Grads │    Value   ║ \n",
      "═════╬═══════════════════════════╬════════════════╬═════════════════╬═══════════════════════╬════════════════════╣\n",
      "1000 ║ 1.000000 │  0.00733556010 ║  0.00685255988 ║   -  │ 4.83e-04 ║ S  │     4 │ 0.125000 ║     1 │ 0.060887   ║ \n",
      "═════╩═══════════════════════════╩════════════════╩═════════════════╩═══════════════════════╩════════════════════╣\n",
      "Optimization results:                                                                                            ║ \n",
      "F = final iterate, B = Best (to tolerance), MF = Most Feasible                                                   ║ \n",
      "═════╦═══════════════════════════╦════════════════╦═════════════════╦═══════════════════════╦════════════════════╣\n",
      "   F ║          │                ║  0.00685255988 ║   -  │ 4.83e-04 ║    │       │          ║       │            ║ \n",
      "  MF ║          │                ║  0.00685255988 ║   -  │ 4.83e-04 ║    │       │          ║       │            ║ \n",
      "═════╩═══════════════════════════╩════════════════╩═════════════════╩═══════════════════════╩════════════════════╣\n",
      "Iterations:              1000                                                                                    ║ \n",
      "Function evaluations:    5288                                                                                    ║ \n",
      "PyGRANSO termination code: 4 --- max iterations reached.                                                         ║ \n",
      "═════════════════════════════════════════════════════════════════════════════════════════════════════════════════╝\n",
      "Total Wall Time: 140.0074999332428s\n"
     ]
    }
   ],
   "execution_count": 38
  },
  {
   "cell_type": "markdown",
   "id": "21bff5fd",
   "metadata": {},
   "source": [
    "## Train Accuracy"
   ]
  },
  {
   "cell_type": "code",
   "id": "8d846f87",
   "metadata": {
    "ExecuteTime": {
     "end_time": "2025-04-21T03:47:28.721918Z",
     "start_time": "2025-04-21T03:47:28.705863Z"
    }
   },
   "source": [
    "model.eval()\n",
    "\n",
    "torch.nn.utils.vector_to_parameters(soln.final.x, model.parameters())\n",
    "logits = model(inputs)\n",
    "_, predicted = torch.max(logits.data, 1)\n",
    "correct = (predicted == labels).sum().item()\n",
    "print(\"Final acc = {:.2f}%\".format((100 * correct/len(inputs))))  \n",
    "print(\"final feasibility = {}\".format(soln.final.tve))"
   ],
   "outputs": [
    {
     "name": "stdout",
     "output_type": "stream",
     "text": [
      "Final acc = 100.00%\n",
      "final feasibility = 0.0004830002235291609\n"
     ]
    }
   ],
   "execution_count": 39
  },
  {
   "metadata": {},
   "cell_type": "markdown",
   "source": "## Test Accuracy",
   "id": "c8065b42a3a06dae"
  },
  {
   "metadata": {
    "ExecuteTime": {
     "end_time": "2025-04-21T03:48:20.051776Z",
     "start_time": "2025-04-21T03:48:18.379636Z"
    }
   },
   "cell_type": "code",
   "source": [
    "model.eval()\n",
    "\n",
    "inputs, labels = next(iter(loaders['test']))\n",
    "inputs, labels = inputs.reshape(-1, sequence_length, input_size).to(device=device, dtype=double_precision), labels.to(device=device)\n",
    "\n",
    "logits = model(inputs)\n",
    "_, predicted = torch.max(logits.data, 1)\n",
    "correct = (predicted == labels).sum().item()\n",
    "print(\"Final test acc = {:.2f}%\".format((100 * correct/len(inputs))))  "
   ],
   "id": "a389b2263da949a3",
   "outputs": [
    {
     "name": "stdout",
     "output_type": "stream",
     "text": [
      "Final test acc = 73.93%\n"
     ]
    }
   ],
   "execution_count": 42
  },
  {
   "metadata": {},
   "cell_type": "markdown",
   "source": "### Graph",
   "id": "dc1e784919fa8133"
  },
  {
   "metadata": {
    "ExecuteTime": {
     "end_time": "2025-04-21T03:48:22.507126Z",
     "start_time": "2025-04-21T03:48:22.502990Z"
    }
   },
   "cell_type": "code",
   "source": [
    "import numpy as np\n",
    "import matplotlib.pyplot as plt"
   ],
   "id": "91b892d6acb2fed8",
   "outputs": [],
   "execution_count": 43
  },
  {
   "metadata": {
    "ExecuteTime": {
     "end_time": "2025-04-21T03:49:11.948222Z",
     "start_time": "2025-04-21T03:49:11.873150Z"
    }
   },
   "cell_type": "code",
   "source": [
    "# Plot results\n",
    "x = np.arange(1, len(train_acc)+1)\n",
    "\n",
    "plt.plot(x, train_acc, label='Train set accuracy', marker='o')\n",
    "plt.plot(x, test_acc, label='Validation set accuracy', marker='s')\n",
    "\n",
    "plt.xlabel('Iterations')\n",
    "plt.ylabel('Accuracy (%)')\n",
    "plt.title('Train vs Validation Accuracy Over Time - PyGRANSO'.format(batch_size))\n",
    "\n",
    "plt.legend()\n",
    "\n",
    "plt.show()"
   ],
   "id": "16d1c6345ac8e52e",
   "outputs": [
    {
     "data": {
      "text/plain": [
       "<Figure size 640x480 with 1 Axes>"
      ],
      "image/png": "[encoded data removed]"
     },
     "metadata": {},
     "output_type": "display_data"
    }
   ],
   "execution_count": 45
  },
  {
   "metadata": {
    "ExecuteTime": {
     "end_time": "2025-04-21T03:52:44.355886Z",
     "start_time": "2025-04-21T03:52:44.325772Z"
    }
   },
   "cell_type": "code",
   "source": [
    "def l2_penalty(model):\n",
    "    A = list(model.parameters())[1]\n",
    "    \n",
    "    # print(A)\n",
    "    \n",
    "    return torch.norm(A.T @ A - torch.eye(hidden_size))"
   ],
   "id": "4f81d95f87c5d130",
   "outputs": [],
   "execution_count": 46
  },
  {
   "metadata": {
    "ExecuteTime": {
     "end_time": "2025-04-21T03:52:46.824009Z",
     "start_time": "2025-04-21T03:52:46.818652Z"
    }
   },
   "cell_type": "code",
   "source": "l2_penalty(model)",
   "id": "476c02653d96b1f8",
   "outputs": [
    {
     "data": {
      "text/plain": [
       "tensor(0.0005, dtype=torch.float64, grad_fn=<LinalgVectorNormBackward0>)"
      ]
     },
     "execution_count": 47,
     "metadata": {},
     "output_type": "execute_result"
    }
   ],
   "execution_count": 47
  },
  {
   "metadata": {
    "ExecuteTime": {
     "end_time": "2025-04-21T04:21:44.691502Z",
     "start_time": "2025-04-21T04:21:44.641912Z"
    }
   },
   "cell_type": "code",
   "source": "max(test_acc)",
   "id": "f88e2f8e3e4f84f",
   "outputs": [
    {
     "data": {
      "text/plain": [
       "75.5859375"
      ]
     },
     "execution_count": 48,
     "metadata": {},
     "output_type": "execute_result"
    }
   ],
   "execution_count": 48
  },
  {
   "metadata": {},
   "cell_type": "code",
   "outputs": [],
   "execution_count": null,
   "source": "",
   "id": "fc5f13bac66be670"
  }
 ],
 "metadata": {
  "kernelspec": {
   "display_name": "Python 3 (ipykernel)",
   "language": "python",
   "name": "python3"
  },
  "language_info": {
   "codemirror_mode": {
    "name": "ipython",
    "version": 3
   },
   "file_extension": ".py",
   "mimetype": "text/x-python",
   "name": "python",
   "nbconvert_exporter": "python",
   "pygments_lexer": "ipython3",
   "version": "3.9.7"
  }
 },
 "nbformat": 4,
 "nbformat_minor": 5
}
